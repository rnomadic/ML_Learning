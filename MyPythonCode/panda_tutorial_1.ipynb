{
 "cells": [
  {
   "cell_type": "markdown",
   "metadata": {},
   "source": [
    "Main Read is from\n",
    "===============\n",
    "https://pandas.pydata.org/pandas-docs/version/0.18/tutorials.html"
   ]
  },
  {
   "cell_type": "markdown",
   "metadata": {},
   "source": [
    "Task 1\n",
    "=======\n",
    "### T1.1 Read Master File (Excel), extract duplicate, write duplicate to file, remove duplicate\n",
    "### T1.2 Read secondary file, merge right, merge left, drop col"
   ]
  },
  {
   "cell_type": "code",
   "execution_count": null,
   "metadata": {},
   "outputs": [],
   "source": [
    "import pandas as pd\n",
    "\n",
    "# setting file names\n",
    "FILE_MASTERS = 'data/masters.xlsx'\n",
    "FILE_INCOMING = 'data/incoming.xlsx'\n",
    "\n",
    "FILE_MASTERS_DUPS = 'data/masters_dups.xlsx'\n",
    "FILE_OUT = 'data/output.xlsx'\n",
    "\n",
    "# Read Master File  (Excel)\n",
    "df_masters = pd.read_excel(FILE_MASTERS, sheetname='input')\n",
    "\n",
    "#Sort recordscby ascending ID's\n",
    "df_masters.sort_values('ID', ascending=True, inplace=True)\n",
    "\n",
    "#display data\n",
    "df_masters\n",
    "\n",
    "#extract duplicate\n",
    "df_dups = df_masters[df_masters.duplicated(keep='first')]\n",
    "df_dups\n",
    "\n",
    "#output duplicates to spreadsheet before deletion\n",
    "writer = pd.ExcelWriter(FILE_MASTERS_DUPS)\n",
    "df_dups.to_excel(writer, 'output')\n",
    "\n",
    "#drop duplicates\n",
    "df_masters.drop_duplicates(subset='ID', keep='first', inplace=True)\n",
    "\n",
    "#read secondary file\n",
    "df_incoming = pd.read_excel(FILE_INCOMING, sheetname='input')\n",
    "\n",
    "#Merge (Join) two table - right\n",
    "df_join_right = pd.merge(df_masters, df_incoming, how=\"right\", on=['ID'])\n",
    "df_join_right\n",
    "\n",
    "#Merge (Join) two table - left\n",
    "df_join_left = pd.merge(df_masters, df_incoming, how=\"left\", on=['ID'])\n",
    "df_join_left\n",
    "\n",
    "#drop column\n",
    "df_join_left.drop(['Name'], axis=1, inplace=True)\n",
    "df_join_left\n",
    "\n"
   ]
  },
  {
   "cell_type": "markdown",
   "metadata": {},
   "source": [
    "## Task 2 Statistical Analysis using Scipy and Panda\n",
    "#### T2.1 how to compute the mean, variance, and standard error of a data set. \n",
    "#### T2.2 how to perform a Mann-Whitney-Wilcoxon (MWW) RankSum test, \n",
    "#### T2.3 how to perform an Analysis of variance (ANOVA) between multiple data sets\n",
    "#### T2.4 how to compute bootstrapped 95% confidence intervals for non-normally distributed data sets"
   ]
  },
  {
   "cell_type": "code",
   "execution_count": 10,
   "metadata": {},
   "outputs": [
    {
     "data": {
      "text/html": [
       "<div>\n",
       "<style scoped>\n",
       "    .dataframe tbody tr th:only-of-type {\n",
       "        vertical-align: middle;\n",
       "    }\n",
       "\n",
       "    .dataframe tbody tr th {\n",
       "        vertical-align: top;\n",
       "    }\n",
       "\n",
       "    .dataframe thead th {\n",
       "        text-align: right;\n",
       "    }\n",
       "</style>\n",
       "<table border=\"1\" class=\"dataframe\">\n",
       "  <thead>\n",
       "    <tr style=\"text-align: right;\">\n",
       "      <th></th>\n",
       "      <th>Virulence</th>\n",
       "      <th>Replicate</th>\n",
       "      <th>ShannonDiversity</th>\n",
       "    </tr>\n",
       "  </thead>\n",
       "  <tbody>\n",
       "    <tr>\n",
       "      <th>0</th>\n",
       "      <td>0.5</td>\n",
       "      <td>1</td>\n",
       "      <td>0.059262</td>\n",
       "    </tr>\n",
       "    <tr>\n",
       "      <th>1</th>\n",
       "      <td>0.5</td>\n",
       "      <td>2</td>\n",
       "      <td>1.093600</td>\n",
       "    </tr>\n",
       "  </tbody>\n",
       "</table>\n",
       "</div>"
      ],
      "text/plain": [
       "   Virulence  Replicate  ShannonDiversity\n",
       "0        0.5          1          0.059262\n",
       "1        0.5          2          1.093600"
      ]
     },
     "execution_count": 10,
     "metadata": {},
     "output_type": "execute_result"
    }
   ],
   "source": [
    "import pandas as pd\n",
    "# Read data \n",
    "# Must specify that blank space \" \" is NaN\n",
    "df = pd.read_csv(\"data/parasite_data.csv\", na_values=[\" \"])\n",
    "\n",
    "df[:2]"
   ]
  },
  {
   "cell_type": "code",
   "execution_count": 11,
   "metadata": {},
   "outputs": [
    {
     "data": {
      "text/plain": [
       "1.58981"
      ]
     },
     "execution_count": 11,
     "metadata": {},
     "output_type": "execute_result"
    }
   ],
   "source": [
    "## show the 12th row in the ShannonDiversity column\n",
    "df[\"ShannonDiversity\"][12]"
   ]
  },
  {
   "cell_type": "code",
   "execution_count": 14,
   "metadata": {},
   "outputs": [
    {
     "data": {
      "text/html": [
       "<div>\n",
       "<style scoped>\n",
       "    .dataframe tbody tr th:only-of-type {\n",
       "        vertical-align: middle;\n",
       "    }\n",
       "\n",
       "    .dataframe tbody tr th {\n",
       "        vertical-align: top;\n",
       "    }\n",
       "\n",
       "    .dataframe thead th {\n",
       "        text-align: right;\n",
       "    }\n",
       "</style>\n",
       "<table border=\"1\" class=\"dataframe\">\n",
       "  <thead>\n",
       "    <tr style=\"text-align: right;\">\n",
       "      <th></th>\n",
       "      <th>Virulence</th>\n",
       "      <th>Replicate</th>\n",
       "      <th>ShannonDiversity</th>\n",
       "    </tr>\n",
       "  </thead>\n",
       "  <tbody>\n",
       "    <tr>\n",
       "      <th>8</th>\n",
       "      <td>0.5</td>\n",
       "      <td>9</td>\n",
       "      <td>2.04768</td>\n",
       "    </tr>\n",
       "    <tr>\n",
       "      <th>89</th>\n",
       "      <td>0.6</td>\n",
       "      <td>40</td>\n",
       "      <td>2.01066</td>\n",
       "    </tr>\n",
       "  </tbody>\n",
       "</table>\n",
       "</div>"
      ],
      "text/plain": [
       "    Virulence  Replicate  ShannonDiversity\n",
       "8         0.5          9           2.04768\n",
       "89        0.6         40           2.01066"
      ]
     },
     "execution_count": 14,
     "metadata": {},
     "output_type": "execute_result"
    }
   ],
   "source": [
    "# show First 2 entries in the ShannonDiversity when column > 2.0\n",
    "df[df[\"ShannonDiversity\"] > 2.0][:2]"
   ]
  },
  {
   "cell_type": "code",
   "execution_count": 18,
   "metadata": {},
   "outputs": [
    {
     "data": {
      "text/html": [
       "<div>\n",
       "<style scoped>\n",
       "    .dataframe tbody tr th:only-of-type {\n",
       "        vertical-align: middle;\n",
       "    }\n",
       "\n",
       "    .dataframe tbody tr th {\n",
       "        vertical-align: top;\n",
       "    }\n",
       "\n",
       "    .dataframe thead th {\n",
       "        text-align: right;\n",
       "    }\n",
       "</style>\n",
       "<table border=\"1\" class=\"dataframe\">\n",
       "  <thead>\n",
       "    <tr style=\"text-align: right;\">\n",
       "      <th></th>\n",
       "      <th>Virulence</th>\n",
       "      <th>Replicate</th>\n",
       "      <th>ShannonDiversity</th>\n",
       "    </tr>\n",
       "  </thead>\n",
       "  <tbody>\n",
       "    <tr>\n",
       "      <th>300</th>\n",
       "      <td>NaN</td>\n",
       "      <td>1</td>\n",
       "      <td>0.000000</td>\n",
       "    </tr>\n",
       "    <tr>\n",
       "      <th>301</th>\n",
       "      <td>NaN</td>\n",
       "      <td>2</td>\n",
       "      <td>0.000000</td>\n",
       "    </tr>\n",
       "    <tr>\n",
       "      <th>302</th>\n",
       "      <td>NaN</td>\n",
       "      <td>3</td>\n",
       "      <td>0.833645</td>\n",
       "    </tr>\n",
       "    <tr>\n",
       "      <th>303</th>\n",
       "      <td>NaN</td>\n",
       "      <td>4</td>\n",
       "      <td>0.000000</td>\n",
       "    </tr>\n",
       "    <tr>\n",
       "      <th>304</th>\n",
       "      <td>NaN</td>\n",
       "      <td>5</td>\n",
       "      <td>0.990309</td>\n",
       "    </tr>\n",
       "    <tr>\n",
       "      <th>305</th>\n",
       "      <td>NaN</td>\n",
       "      <td>6</td>\n",
       "      <td>0.000000</td>\n",
       "    </tr>\n",
       "    <tr>\n",
       "      <th>306</th>\n",
       "      <td>NaN</td>\n",
       "      <td>7</td>\n",
       "      <td>0.000000</td>\n",
       "    </tr>\n",
       "    <tr>\n",
       "      <th>307</th>\n",
       "      <td>NaN</td>\n",
       "      <td>8</td>\n",
       "      <td>0.000000</td>\n",
       "    </tr>\n",
       "    <tr>\n",
       "      <th>308</th>\n",
       "      <td>NaN</td>\n",
       "      <td>9</td>\n",
       "      <td>0.061414</td>\n",
       "    </tr>\n",
       "    <tr>\n",
       "      <th>309</th>\n",
       "      <td>NaN</td>\n",
       "      <td>10</td>\n",
       "      <td>0.316439</td>\n",
       "    </tr>\n",
       "    <tr>\n",
       "      <th>310</th>\n",
       "      <td>NaN</td>\n",
       "      <td>11</td>\n",
       "      <td>0.904773</td>\n",
       "    </tr>\n",
       "    <tr>\n",
       "      <th>311</th>\n",
       "      <td>NaN</td>\n",
       "      <td>12</td>\n",
       "      <td>0.884122</td>\n",
       "    </tr>\n",
       "    <tr>\n",
       "      <th>312</th>\n",
       "      <td>NaN</td>\n",
       "      <td>13</td>\n",
       "      <td>0.000000</td>\n",
       "    </tr>\n",
       "    <tr>\n",
       "      <th>313</th>\n",
       "      <td>NaN</td>\n",
       "      <td>14</td>\n",
       "      <td>0.000000</td>\n",
       "    </tr>\n",
       "    <tr>\n",
       "      <th>314</th>\n",
       "      <td>NaN</td>\n",
       "      <td>15</td>\n",
       "      <td>0.000000</td>\n",
       "    </tr>\n",
       "    <tr>\n",
       "      <th>315</th>\n",
       "      <td>NaN</td>\n",
       "      <td>16</td>\n",
       "      <td>0.000000</td>\n",
       "    </tr>\n",
       "    <tr>\n",
       "      <th>316</th>\n",
       "      <td>NaN</td>\n",
       "      <td>17</td>\n",
       "      <td>0.013495</td>\n",
       "    </tr>\n",
       "    <tr>\n",
       "      <th>317</th>\n",
       "      <td>NaN</td>\n",
       "      <td>18</td>\n",
       "      <td>0.882519</td>\n",
       "    </tr>\n",
       "    <tr>\n",
       "      <th>318</th>\n",
       "      <td>NaN</td>\n",
       "      <td>19</td>\n",
       "      <td>0.000000</td>\n",
       "    </tr>\n",
       "    <tr>\n",
       "      <th>319</th>\n",
       "      <td>NaN</td>\n",
       "      <td>20</td>\n",
       "      <td>0.986830</td>\n",
       "    </tr>\n",
       "    <tr>\n",
       "      <th>320</th>\n",
       "      <td>NaN</td>\n",
       "      <td>21</td>\n",
       "      <td>0.000000</td>\n",
       "    </tr>\n",
       "    <tr>\n",
       "      <th>321</th>\n",
       "      <td>NaN</td>\n",
       "      <td>22</td>\n",
       "      <td>0.000000</td>\n",
       "    </tr>\n",
       "    <tr>\n",
       "      <th>322</th>\n",
       "      <td>NaN</td>\n",
       "      <td>23</td>\n",
       "      <td>0.000000</td>\n",
       "    </tr>\n",
       "    <tr>\n",
       "      <th>323</th>\n",
       "      <td>NaN</td>\n",
       "      <td>24</td>\n",
       "      <td>0.000000</td>\n",
       "    </tr>\n",
       "    <tr>\n",
       "      <th>324</th>\n",
       "      <td>NaN</td>\n",
       "      <td>25</td>\n",
       "      <td>0.000000</td>\n",
       "    </tr>\n",
       "    <tr>\n",
       "      <th>325</th>\n",
       "      <td>NaN</td>\n",
       "      <td>26</td>\n",
       "      <td>0.000000</td>\n",
       "    </tr>\n",
       "    <tr>\n",
       "      <th>326</th>\n",
       "      <td>NaN</td>\n",
       "      <td>27</td>\n",
       "      <td>1.702720</td>\n",
       "    </tr>\n",
       "    <tr>\n",
       "      <th>327</th>\n",
       "      <td>NaN</td>\n",
       "      <td>28</td>\n",
       "      <td>0.169556</td>\n",
       "    </tr>\n",
       "    <tr>\n",
       "      <th>328</th>\n",
       "      <td>NaN</td>\n",
       "      <td>29</td>\n",
       "      <td>0.949750</td>\n",
       "    </tr>\n",
       "    <tr>\n",
       "      <th>329</th>\n",
       "      <td>NaN</td>\n",
       "      <td>30</td>\n",
       "      <td>0.240084</td>\n",
       "    </tr>\n",
       "    <tr>\n",
       "      <th>330</th>\n",
       "      <td>NaN</td>\n",
       "      <td>31</td>\n",
       "      <td>0.925913</td>\n",
       "    </tr>\n",
       "    <tr>\n",
       "      <th>331</th>\n",
       "      <td>NaN</td>\n",
       "      <td>32</td>\n",
       "      <td>0.000000</td>\n",
       "    </tr>\n",
       "    <tr>\n",
       "      <th>332</th>\n",
       "      <td>NaN</td>\n",
       "      <td>33</td>\n",
       "      <td>0.693356</td>\n",
       "    </tr>\n",
       "    <tr>\n",
       "      <th>333</th>\n",
       "      <td>NaN</td>\n",
       "      <td>34</td>\n",
       "      <td>0.000000</td>\n",
       "    </tr>\n",
       "    <tr>\n",
       "      <th>334</th>\n",
       "      <td>NaN</td>\n",
       "      <td>35</td>\n",
       "      <td>0.310170</td>\n",
       "    </tr>\n",
       "    <tr>\n",
       "      <th>335</th>\n",
       "      <td>NaN</td>\n",
       "      <td>36</td>\n",
       "      <td>0.000000</td>\n",
       "    </tr>\n",
       "    <tr>\n",
       "      <th>336</th>\n",
       "      <td>NaN</td>\n",
       "      <td>37</td>\n",
       "      <td>0.000000</td>\n",
       "    </tr>\n",
       "    <tr>\n",
       "      <th>337</th>\n",
       "      <td>NaN</td>\n",
       "      <td>38</td>\n",
       "      <td>0.000000</td>\n",
       "    </tr>\n",
       "    <tr>\n",
       "      <th>338</th>\n",
       "      <td>NaN</td>\n",
       "      <td>39</td>\n",
       "      <td>0.000000</td>\n",
       "    </tr>\n",
       "    <tr>\n",
       "      <th>339</th>\n",
       "      <td>NaN</td>\n",
       "      <td>40</td>\n",
       "      <td>0.000000</td>\n",
       "    </tr>\n",
       "    <tr>\n",
       "      <th>340</th>\n",
       "      <td>NaN</td>\n",
       "      <td>41</td>\n",
       "      <td>0.000000</td>\n",
       "    </tr>\n",
       "    <tr>\n",
       "      <th>341</th>\n",
       "      <td>NaN</td>\n",
       "      <td>42</td>\n",
       "      <td>0.000000</td>\n",
       "    </tr>\n",
       "    <tr>\n",
       "      <th>342</th>\n",
       "      <td>NaN</td>\n",
       "      <td>43</td>\n",
       "      <td>0.000000</td>\n",
       "    </tr>\n",
       "    <tr>\n",
       "      <th>343</th>\n",
       "      <td>NaN</td>\n",
       "      <td>44</td>\n",
       "      <td>0.000000</td>\n",
       "    </tr>\n",
       "    <tr>\n",
       "      <th>344</th>\n",
       "      <td>NaN</td>\n",
       "      <td>45</td>\n",
       "      <td>0.391061</td>\n",
       "    </tr>\n",
       "    <tr>\n",
       "      <th>345</th>\n",
       "      <td>NaN</td>\n",
       "      <td>46</td>\n",
       "      <td>0.001669</td>\n",
       "    </tr>\n",
       "    <tr>\n",
       "      <th>346</th>\n",
       "      <td>NaN</td>\n",
       "      <td>47</td>\n",
       "      <td>0.000000</td>\n",
       "    </tr>\n",
       "    <tr>\n",
       "      <th>347</th>\n",
       "      <td>NaN</td>\n",
       "      <td>48</td>\n",
       "      <td>0.444463</td>\n",
       "    </tr>\n",
       "    <tr>\n",
       "      <th>348</th>\n",
       "      <td>NaN</td>\n",
       "      <td>49</td>\n",
       "      <td>0.383512</td>\n",
       "    </tr>\n",
       "    <tr>\n",
       "      <th>349</th>\n",
       "      <td>NaN</td>\n",
       "      <td>50</td>\n",
       "      <td>0.511329</td>\n",
       "    </tr>\n",
       "  </tbody>\n",
       "</table>\n",
       "</div>"
      ],
      "text/plain": [
       "     Virulence  Replicate  ShannonDiversity\n",
       "300        NaN          1          0.000000\n",
       "301        NaN          2          0.000000\n",
       "302        NaN          3          0.833645\n",
       "303        NaN          4          0.000000\n",
       "304        NaN          5          0.990309\n",
       "305        NaN          6          0.000000\n",
       "306        NaN          7          0.000000\n",
       "307        NaN          8          0.000000\n",
       "308        NaN          9          0.061414\n",
       "309        NaN         10          0.316439\n",
       "310        NaN         11          0.904773\n",
       "311        NaN         12          0.884122\n",
       "312        NaN         13          0.000000\n",
       "313        NaN         14          0.000000\n",
       "314        NaN         15          0.000000\n",
       "315        NaN         16          0.000000\n",
       "316        NaN         17          0.013495\n",
       "317        NaN         18          0.882519\n",
       "318        NaN         19          0.000000\n",
       "319        NaN         20          0.986830\n",
       "320        NaN         21          0.000000\n",
       "321        NaN         22          0.000000\n",
       "322        NaN         23          0.000000\n",
       "323        NaN         24          0.000000\n",
       "324        NaN         25          0.000000\n",
       "325        NaN         26          0.000000\n",
       "326        NaN         27          1.702720\n",
       "327        NaN         28          0.169556\n",
       "328        NaN         29          0.949750\n",
       "329        NaN         30          0.240084\n",
       "330        NaN         31          0.925913\n",
       "331        NaN         32          0.000000\n",
       "332        NaN         33          0.693356\n",
       "333        NaN         34          0.000000\n",
       "334        NaN         35          0.310170\n",
       "335        NaN         36          0.000000\n",
       "336        NaN         37          0.000000\n",
       "337        NaN         38          0.000000\n",
       "338        NaN         39          0.000000\n",
       "339        NaN         40          0.000000\n",
       "340        NaN         41          0.000000\n",
       "341        NaN         42          0.000000\n",
       "342        NaN         43          0.000000\n",
       "343        NaN         44          0.000000\n",
       "344        NaN         45          0.391061\n",
       "345        NaN         46          0.001669\n",
       "346        NaN         47          0.000000\n",
       "347        NaN         48          0.444463\n",
       "348        NaN         49          0.383512\n",
       "349        NaN         50          0.511329"
      ]
     },
     "execution_count": 18,
     "metadata": {},
     "output_type": "execute_result"
    }
   ],
   "source": [
    "# Blank/omitted data (Na or Nan) in df\n",
    "#  Here's an example data set with NA/NaN values.\n",
    "df[df[\"Virulence\"].isna()]"
   ]
  },
  {
   "cell_type": "code",
   "execution_count": 19,
   "metadata": {},
   "outputs": [
    {
     "name": "stdout",
     "output_type": "stream",
     "text": [
      "Mean virulence across all treatments: 0.75\n"
     ]
    }
   ],
   "source": [
    "#Mean\n",
    "print(\"Mean virulence across all treatments:\", df[\"Virulence\"].mean())"
   ]
  },
  {
   "cell_type": "code",
   "execution_count": 21,
   "metadata": {},
   "outputs": [
    {
     "name": "stdout",
     "output_type": "stream",
     "text": [
      "     Virulence  Replicate  ShannonDiversity\n",
      "0          0.5          1          0.059262\n",
      "1          0.5          2          1.093600\n",
      "2          0.5          3          1.139390\n",
      "3          0.5          4          0.547651\n",
      "4          0.5          5          0.065928\n",
      "..         ...        ...               ...\n",
      "295        1.0         46          0.644337\n",
      "296        1.0         47          0.875816\n",
      "297        1.0         48          0.000000\n",
      "298        1.0         49          0.000000\n",
      "299        1.0         50          0.000000\n",
      "\n",
      "[300 rows x 3 columns]\n"
     ]
    }
   ],
   "source": [
    "#(1) filter out all of the entries with NA/NaN\n",
    "print(df.dropna())"
   ]
  },
  {
   "cell_type": "code",
   "execution_count": 22,
   "metadata": {},
   "outputs": [
    {
     "name": "stdout",
     "output_type": "stream",
     "text": [
      "0      0.5\n",
      "1      0.5\n",
      "2      0.5\n",
      "3      0.5\n",
      "4      0.5\n",
      "      ... \n",
      "295    1.0\n",
      "296    1.0\n",
      "297    1.0\n",
      "298    1.0\n",
      "299    1.0\n",
      "Name: Virulence, Length: 300, dtype: float64\n"
     ]
    }
   ],
   "source": [
    "#(2) If you only care about NA/NaN values in a specific column, you can specify the column name first.\n",
    "print(df[\"Virulence\"].dropna())"
   ]
  },
  {
   "cell_type": "code",
   "execution_count": 23,
   "metadata": {},
   "outputs": [
    {
     "name": "stdout",
     "output_type": "stream",
     "text": [
      "0      0.5\n",
      "1      0.5\n",
      "2      0.5\n",
      "3      0.5\n",
      "4      0.5\n",
      "      ... \n",
      "345    0.0\n",
      "346    0.0\n",
      "347    0.0\n",
      "348    0.0\n",
      "349    0.0\n",
      "Name: Virulence, Length: 350, dtype: float64\n"
     ]
    }
   ],
   "source": [
    "#(3) Replace all of the NA/NaN entries with a valid value\n",
    "print(df[\"Virulence\"].fillna(0.0))"
   ]
  },
  {
   "cell_type": "markdown",
   "metadata": {},
   "source": [
    "#### Mean\n",
    "The mean performance of an experiment gives a good idea of how the experiment will turn out on average under a given treatment."
   ]
  },
  {
   "cell_type": "code",
   "execution_count": 24,
   "metadata": {},
   "outputs": [
    {
     "name": "stdout",
     "output_type": "stream",
     "text": [
      "Mean Shannon Diversity w/ 0.8 Parasite Virulence = 1.2691338188\n"
     ]
    }
   ],
   "source": [
    "print(\"Mean Shannon Diversity w/ 0.8 Parasite Virulence =\", df[df[\"Virulence\"] == 0.8][\"ShannonDiversity\"].mean())"
   ]
  },
  {
   "cell_type": "markdown",
   "metadata": {},
   "source": [
    "#### Variance\n",
    "The variance in the performance provides a measurement of how consistent the results of an experiment are. The lower the variance, the more consistent the results are, and vice versa."
   ]
  },
  {
   "cell_type": "code",
   "execution_count": 25,
   "metadata": {},
   "outputs": [
    {
     "name": "stdout",
     "output_type": "stream",
     "text": [
      "Variance in Shannon Diversity w/ 0.8 Parasite Virulence = 0.6110384333126732\n"
     ]
    }
   ],
   "source": [
    "print(\"Variance in Shannon Diversity w/ 0.8 Parasite Virulence =\", df[df[\"Virulence\"] == 0.8][\"ShannonDiversity\"].var())"
   ]
  },
  {
   "cell_type": "markdown",
   "metadata": {},
   "source": [
    "#### Standard Error of the Mean (SEM)\n",
    "The standard error (SE) is the standard deviation of its sampling distribution or an estimate of that standard deviation. If the statistic is the mean, it is called the standard error of the mean (SEM).\n",
    "\n",
    "\n",
    "A single SEM will usually envelop 68% of the possible replicate means and two SEMs envelop 95% of the possible replicate means. Two SEMs are called the \"estimated 95% confidence interval.\" The confidence interval is estimated because the exact width depend on how many replicates you have; this approximation is good when you have more than 20 replicates."
   ]
  },
  {
   "cell_type": "code",
   "execution_count": 26,
   "metadata": {},
   "outputs": [
    {
     "name": "stdout",
     "output_type": "stream",
     "text": [
      "SEM of Shannon Diversity w/ 0.8 Parasite Virulence = 0.11054758552882764\n"
     ]
    }
   ],
   "source": [
    "print(\"SEM of Shannon Diversity w/ 0.8 Parasite Virulence =\", df[df[\"Virulence\"] == 0.8][\"ShannonDiversity\"].sem())"
   ]
  },
  {
   "cell_type": "markdown",
   "metadata": {},
   "source": [
    "#### Mann-Whitney-Wilcoxon (MWW) RankSum test\n",
    "In statistics, the Mann–Whitney U test (also called the Mann–Whitney–Wilcoxon (MWW), Wilcoxon rank-sum test, or Wilcoxon–Mann–Whitney test) is a nonparametric test of the null hypothesis that it is equally likely that a randomly selected value from one sample will be less than or greater than a randomly selected value from a second sample.\n",
    "\n",
    "This test can be used to investigate whether two independent samples were selected from populations having the same distribution. A similar nonparametric test used on dependent samples is the Wilcoxon signed-rank test.\n",
    "\n",
    "Unlike the t-test, the RankSum test does not assume that the data are normally distributed, potentially providing a more accurate assessment of the data sets.\n",
    "\n",
    "As an example, let's say we want to determine if the results of the two following treatments significantly differ or not:"
   ]
  },
  {
   "cell_type": "code",
   "execution_count": 28,
   "metadata": {},
   "outputs": [
    {
     "name": "stdout",
     "output_type": "stream",
     "text": [
      "0    0.059262\n",
      "1    1.093600\n",
      "2    1.139390\n",
      "3    0.547651\n",
      "4    0.065928\n",
      "Name: ShannonDiversity, dtype: float64\n",
      "150    1.433800\n",
      "151    2.079700\n",
      "152    0.892139\n",
      "153    2.384740\n",
      "154    0.006980\n",
      "Name: ShannonDiversity, dtype: float64\n"
     ]
    }
   ],
   "source": [
    "treatment1 = df[df[\"Virulence\"] == 0.5][\"ShannonDiversity\"]\n",
    "treatment2 = df[df[\"Virulence\"] == 0.8][\"ShannonDiversity\"]\n",
    "\n",
    "print(treatment1[:5])\n",
    "print(treatment2[:5])"
   ]
  },
  {
   "cell_type": "code",
   "execution_count": 30,
   "metadata": {},
   "outputs": [
    {
     "name": "stdout",
     "output_type": "stream",
     "text": [
      "MWW RankSum P for treatments 1 and 2 = 0.0009833559027350577\n"
     ]
    }
   ],
   "source": [
    "# A RankSum test will provide a P value indicating whether or not the two distributions are the same.\n",
    "\n",
    "from scipy import stats\n",
    "\n",
    "z_stat, p_val = stats.ranksums(treatment1, treatment2)\n",
    "\n",
    "print(\"MWW RankSum P for treatments 1 and 2 =\", p_val)"
   ]
  },
  {
   "cell_type": "markdown",
   "metadata": {},
   "source": [
    "If P <= 0.05, we are highly confident that the distributions significantly differ, and can claim that the treatments had a significant impact on the measured value."
   ]
  },
  {
   "cell_type": "markdown",
   "metadata": {},
   "source": [
    "#### One-way analysis of variance (ANOVA)\n",
    "If you need to compare more than two data sets at a time, an ANOVA is your best bet. For example, we have the results from three experiments with overlapping 95% confidence intervals, and we want to confirm that the results for all three experiments are not significantly different."
   ]
  },
  {
   "cell_type": "code",
   "execution_count": 32,
   "metadata": {},
   "outputs": [
    {
     "name": "stdout",
     "output_type": "stream",
     "text": [
      "100    1.59544\n",
      "101    1.41973\n",
      "Name: ShannonDiversity, dtype: float64\n",
      "150    1.4338\n",
      "151    2.0797\n",
      "Name: ShannonDiversity, dtype: float64\n",
      "200    1.036930\n",
      "201    0.938018\n",
      "Name: ShannonDiversity, dtype: float64\n"
     ]
    }
   ],
   "source": [
    "treatment1 = df[df[\"Virulence\"] == 0.7][\"ShannonDiversity\"]\n",
    "treatment2 = df[df[\"Virulence\"] == 0.8][\"ShannonDiversity\"]\n",
    "treatment3 = df[df[\"Virulence\"] == 0.9][\"ShannonDiversity\"]\n",
    "\n",
    "print(treatment1[:2])\n",
    "print(treatment2[:2])\n",
    "print(treatment3[:2])"
   ]
  },
  {
   "cell_type": "code",
   "execution_count": 34,
   "metadata": {},
   "outputs": [
    {
     "name": "stdout",
     "output_type": "stream",
     "text": [
      "One way ANOVA p = 0.3815094818741026\n"
     ]
    }
   ],
   "source": [
    "from scipy import stats\n",
    "f_val, p_val = stats.f_oneway(treatment1, treatment2, treatment3)\n",
    "\n",
    "print(\"One way ANOVA p =\", p_val)"
   ]
  },
  {
   "cell_type": "markdown",
   "metadata": {},
   "source": [
    "If P > 0.05, we can claim with high confidence that the means of the results of all three experiments are not significantly different."
   ]
  },
  {
   "cell_type": "code",
   "execution_count": null,
   "metadata": {},
   "outputs": [],
   "source": []
  }
 ],
 "metadata": {
  "kernelspec": {
   "display_name": "Python 3",
   "language": "python",
   "name": "python3"
  },
  "language_info": {
   "codemirror_mode": {
    "name": "ipython",
    "version": 3
   },
   "file_extension": ".py",
   "mimetype": "text/x-python",
   "name": "python",
   "nbconvert_exporter": "python",
   "pygments_lexer": "ipython3",
   "version": "3.7.3"
  }
 },
 "nbformat": 4,
 "nbformat_minor": 2
}
