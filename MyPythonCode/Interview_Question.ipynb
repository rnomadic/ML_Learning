{
 "cells": [
  {
   "cell_type": "markdown",
   "metadata": {},
   "source": [
    "Flatten a list\n",
    "=========="
   ]
  },
  {
   "cell_type": "code",
   "execution_count": 3,
   "metadata": {},
   "outputs": [
    {
     "name": "stdout",
     "output_type": "stream",
     "text": [
      "[1, 2, 3, 4, 5, 'hi', 6, 7, 'hello']\n"
     ]
    }
   ],
   "source": [
    "nests = [1, 2, [3, 4, [5],['hi']], [6, [[[7, 'hello']]]]]\n",
    "\n",
    "def flatten(container):\n",
    "    for i in container:\n",
    "        if isinstance(i, (list,tuple)):  # isinstance(object,type)\n",
    "            for j in flatten(i):\n",
    "                yield j\n",
    "        else:\n",
    "            yield i\n",
    "\n",
    "print(list(flatten(nests)))"
   ]
  },
  {
   "cell_type": "code",
   "execution_count": 1,
   "metadata": {},
   "outputs": [
    {
     "name": "stdout",
     "output_type": "stream",
     "text": [
      "[1, 2, 3, 4, 5, 'hi', 6, 7, 'hello']\n"
     ]
    }
   ],
   "source": [
    "nests = [1, 2, [3, 4, [5],['hi']], [6, [[[7, 'hello']]]]]\n",
    "flatten = lambda *n: (e for a in n for e in (flatten(*a) if isinstance(a, (tuple, list)) else (a,)))\n",
    "print(list(flatten(nests)))"
   ]
  },
  {
   "cell_type": "code",
   "execution_count": 4,
   "metadata": {},
   "outputs": [
    {
     "name": "stdout",
     "output_type": "stream",
     "text": [
      "[1, 2, 3, 4, 5, 'hi', 6, 7, 'hello']\n"
     ]
    }
   ],
   "source": [
    "res = []\n",
    "def unlist(NestedList):\n",
    "  for item in NestedList:\n",
    "     if type(item) is list:\n",
    "        unlist(item)\n",
    "     else:\n",
    "        res.append(item)\n",
    "\n",
    "nests = [1, 2, [3, 4, [5],['hi']], [6, [[[7, 'hello']]]]]\n",
    "unlist(nests)\n",
    "print(res)"
   ]
  },
  {
   "cell_type": "markdown",
   "metadata": {},
   "source": [
    "Reverse\n",
    "======="
   ]
  },
  {
   "cell_type": "code",
   "execution_count": 4,
   "metadata": {},
   "outputs": [
    {
     "name": "stdout",
     "output_type": "stream",
     "text": [
      "Reverse is skeeGroFskeeG\n"
     ]
    }
   ],
   "source": [
    "a = 'GeeksForGeeks'\n",
    "print('Reverse is', a[::-1])"
   ]
  },
  {
   "cell_type": "markdown",
   "metadata": {},
   "source": [
    "Join Create a single string from all the elements in list\n",
    "===="
   ]
  },
  {
   "cell_type": "code",
   "execution_count": 5,
   "metadata": {},
   "outputs": [
    {
     "name": "stdout",
     "output_type": "stream",
     "text": [
      "Geeks For Geeks\n"
     ]
    }
   ],
   "source": [
    "a =['Geeks', 'For', 'Geeks']\n",
    "print(' '.join(a))"
   ]
  },
  {
   "cell_type": "markdown",
   "metadata": {},
   "source": [
    "Replace a part of string with new part\n",
    "========================="
   ]
  },
  {
   "cell_type": "code",
   "execution_count": 6,
   "metadata": {},
   "outputs": [
    {
     "name": "stdout",
     "output_type": "stream",
     "text": [
      "mmatdata-promotionmke-stream\n"
     ]
    }
   ],
   "source": [
    "dydb_table_name = 'PromotionMke'\n",
    "DeliveryStreamName='mmatdata-{}-stream'.format(dydb_table_name.lower())\n",
    "print(DeliveryStreamName)"
   ]
  },
  {
   "cell_type": "markdown",
   "metadata": {},
   "source": [
    "Anagram\n",
    "========"
   ]
  },
  {
   "cell_type": "code",
   "execution_count": 2,
   "metadata": {},
   "outputs": [
    {
     "name": "stdout",
     "output_type": "stream",
     "text": [
      "True\n",
      "False\n"
     ]
    }
   ],
   "source": [
    "from collections import Counter\n",
    "\n",
    "def is_anagram(str1, str2):\n",
    "    return Counter(str1)==Counter(str2)\n",
    "\n",
    "print(is_anagram('geek for geeks', 'for eegk geeks'))\n",
    "print(is_anagram('geek', 'seek'))\n"
   ]
  },
  {
   "cell_type": "markdown",
   "metadata": {
    "collapsed": true
   },
   "source": [
    "### Shuffle Deck of Cards"
   ]
  },
  {
   "cell_type": "code",
   "execution_count": null,
   "metadata": {
    "collapsed": true
   },
   "outputs": [],
   "source": [
    "import itertools \n",
    "import random\n",
    "deck = list(itertools.product(range(1, 14), [\"Spade\", \"Heart\", \"Diamond\", \"Club\"]))\n",
    "\n",
    "random.shuffle(deck)\n",
    "print(deck)"
   ]
  },
  {
   "cell_type": "markdown",
   "metadata": {},
   "source": [
    "### To Display Powers of 2 Using Anonymous Function"
   ]
  },
  {
   "cell_type": "code",
   "execution_count": 5,
   "metadata": {},
   "outputs": [
    {
     "name": "stdout",
     "output_type": "stream",
     "text": [
      "for : 0 value is: 1\n",
      "for : 1 value is: 2\n",
      "for : 2 value is: 4\n",
      "for : 3 value is: 8\n",
      "for : 4 value is: 16\n",
      "for : 5 value is: 32\n",
      "for : 6 value is: 64\n",
      "for : 7 value is: 128\n",
      "for : 8 value is: 256\n",
      "for : 9 value is: 512\n"
     ]
    }
   ],
   "source": [
    "terms = 10\n",
    "\n",
    "values = list(map(lambda x: 2 ** x, range(terms)))\n",
    "\n",
    "for i in range(terms):\n",
    "    print(\"for :\", i , \"value is:\", values[i])"
   ]
  },
  {
   "cell_type": "markdown",
   "metadata": {},
   "source": [
    "### You are given a two lists  and . Your task is to compute their cartesian product X.\n",
    "A = [1, 2]\n",
    "B = [3, 4]\n",
    "\n",
    "AxB = [(1, 3), (1, 4), (2, 3), (2, 4)] <br>\n",
    "I/P: <br>\n",
    "1 2 <br>\n",
    "3 4 <br>"
   ]
  },
  {
   "cell_type": "code",
   "execution_count": 1,
   "metadata": {},
   "outputs": [
    {
     "name": "stdout",
     "output_type": "stream",
     "text": [
      "1 2\n",
      "3 4\n",
      "[(1, 3), (1, 4), (2, 3), (2, 4)]\n"
     ]
    }
   ],
   "source": [
    "import itertools\n",
    "\n",
    "list1=list(map(int, input().split()))\n",
    "list2=list(map(int, input().split()))\n",
    "deck = list(itertools.product(list1, list2))\n",
    "print(deck)"
   ]
  },
  {
   "cell_type": "markdown",
   "metadata": {},
   "source": [
    "### You are given a string . Your task is to print all possible permutations of size k of the string in lexicographic sorted order.\n",
    "\n",
    "Sample Input<br>\n",
    "\n",
    "HAC 2 <br>\n",
    "Sample Output <br>\n",
    "HA \n",
    "HC\n",
    "AC\n",
    "AH\n",
    "CA\n",
    "CH\n",
    "\n"
   ]
  },
  {
   "cell_type": "code",
   "execution_count": 6,
   "metadata": {},
   "outputs": [
    {
     "name": "stdout",
     "output_type": "stream",
     "text": [
      "HAC 2\n",
      "AC\n",
      "AH\n",
      "CA\n",
      "CH\n",
      "HA\n",
      "HC\n"
     ]
    },
    {
     "data": {
      "text/plain": [
       "[None, None, None, None, None, None]"
      ]
     },
     "execution_count": 6,
     "metadata": {},
     "output_type": "execute_result"
    }
   ],
   "source": [
    "import itertools\n",
    "s, n = input().split()\n",
    "[print(*p, sep=\"\") for p in list(itertools.permutations(sorted(s), int(n)))]"
   ]
  },
  {
   "cell_type": "markdown",
   "metadata": {},
   "source": [
    "### You are given a string . Your task is to print all possible combinations, up to size K, of the string in lexicographic sorted order.\n",
    "Sample Input <br>\n",
    "\n",
    "HACK 2 <br>\n",
    "Sample Output<br>\n",
    "\n",
    "A\n",
    "C\n",
    "H\n",
    "K\n",
    "AC\n",
    "AH\n",
    "AK\n",
    "CH\n",
    "CK\n",
    "HK"
   ]
  },
  {
   "cell_type": "code",
   "execution_count": 7,
   "metadata": {},
   "outputs": [
    {
     "name": "stdout",
     "output_type": "stream",
     "text": [
      "HACK 2\n",
      "A\n",
      "C\n",
      "H\n",
      "K\n",
      "AC\n",
      "AH\n",
      "AK\n",
      "CH\n",
      "CK\n",
      "HK\n"
     ]
    }
   ],
   "source": [
    "import itertools\n",
    "s, n = input().split()\n",
    "for i in range(1, int(n)+1):\n",
    "    [print(*p, sep=\"\") for p in list(itertools.combinations(sorted(s), i))]"
   ]
  },
  {
   "cell_type": "markdown",
   "metadata": {},
   "source": [
    "### collections.Counter() \n",
    "A counter is a container that stores elements as dictionary keys, and their counts are stored as dictionary values.\n",
    "\n",
    "Input Format <br>\n",
    "\n",
    "The first line contains , the number of shoes. <br>\n",
    "The second line contains the space separated list of all the \"shoe sizes\" in the shop. <br>\n",
    "The third line contains ,N the number of customers. <br>\n",
    "The next N lines contain the space separated values of the  \"shoe size\" desired by the customer and , x the price of the shoe. <br>\n",
    "\n",
    "Calculate How much the shop keeper could earn.\n",
    "\n",
    "10 <br>\n",
    "2 3 4 5 6 8 7 6 5 18 <br>\n",
    "6 <br>\n",
    "6 55 <br>\n",
    "6 45 <br>\n",
    "6 55 <br>\n",
    "4 40 <br>\n",
    "18 60 <br>\n",
    "10 50 <br>\n",
    "\n",
    "OUTPUT: 200"
   ]
  },
  {
   "cell_type": "code",
   "execution_count": 9,
   "metadata": {},
   "outputs": [
    {
     "name": "stdout",
     "output_type": "stream",
     "text": [
      "10\n",
      "2 3 4 5 6 8 7 6 5 18\n",
      "6\n",
      "6 55\n",
      "6 45\n",
      "6 55\n",
      "4 40\n",
      "18 60\n",
      "10 50\n",
      "200\n"
     ]
    }
   ],
   "source": [
    "from collections import Counter\n",
    "\n",
    "n_shoe = int(input())\n",
    "shoes = Counter(map(int, input().split()))\n",
    "cust = int(input())\n",
    "\n",
    "income =0\n",
    "for i in range(cust):\n",
    "    size, price = map(int, input().split())\n",
    "    \n",
    "    if(shoes[size]):\n",
    "        income += price\n",
    "        shoes[size] -= 1\n",
    "\n",
    "print(income)\n",
    "    "
   ]
  },
  {
   "cell_type": "markdown",
   "metadata": {
    "collapsed": true
   },
   "source": [
    "#### Missing number\n",
    "Given an array containing n distinct numbers taken from 0, 1, 2, ..., n find the one that is missing from the array."
   ]
  },
  {
   "cell_type": "code",
   "execution_count": 17,
   "metadata": {},
   "outputs": [
    {
     "name": "stdout",
     "output_type": "stream",
     "text": [
      "[-1, -1, -1, 0, -1]\n",
      "missing number = 3\n"
     ]
    }
   ],
   "source": [
    "def missingNum(num):\n",
    "    arr = [0 for _ in range(len(num))]\n",
    "    \n",
    "    for i in range(len(num)):\n",
    "        if num[i] < len(num): # this check is just for out of bound check\n",
    "            arr[num[i]] = -1#This doing the trick, for number that are present it will mark -1\n",
    "            \n",
    "    print(arr)\n",
    "            \n",
    "    for i in range(len(num)):\n",
    "        if arr[i] !=-1:\n",
    "            return i\n",
    "        \n",
    "    return len(num)\n",
    "\n",
    "list = [0 for _ in range(5)]\n",
    "list[1] = 1\n",
    "list[2] = 2\n",
    "list[4] = 4\n",
    "#print(list)\n",
    "print(\"missing number = {}\".format(missingNum(list)))"
   ]
  },
  {
   "cell_type": "markdown",
   "metadata": {},
   "source": [
    "### Deep copy vs Shallow copy\n",
    "In Python, Assignment statements do not copy objects, they create bindings between a target and an object. \n",
    "\n",
    "When we use = operator user thinks that this creates a new object; well, it doesn’t. It only creates a new variable that shares the reference of the original object. Sometimes a user wants to work with mutable objects, in order to do that user looks for a way to create “real copies” or “clones” of these objects. Or, sometimes a user wants copies that user can modify without automatically modifying the original at the same time, in order to do that we create copies of objects.\n",
    "\n",
    "\n",
    "Deep copy is a process in which the copying process occurs recursively. It means first constructing a new collection object and then recursively populating it with copies of the child objects found in the original.It means that any changes made to a copy of object do not reflect in the original object. "
   ]
  },
  {
   "cell_type": "code",
   "execution_count": 4,
   "metadata": {},
   "outputs": [
    {
     "name": "stdout",
     "output_type": "stream",
     "text": [
      "The new list of elements after deep copying \n",
      "1 2 [7, 5] 4 \n",
      "The original elements after deep copying\n",
      "1 2 [3, 5] 4 "
     ]
    }
   ],
   "source": [
    "import copy \n",
    "# initializing list 1  \n",
    "li1 = [1, 2, [3,5], 4] \n",
    "  \n",
    "# using copy for shallow copy   \n",
    "li2 = copy.copy(li1)  \n",
    "  \n",
    "# using deepcopy for deepcopy   \n",
    "li3 = copy.deepcopy(li1)  \n",
    "\n",
    "# adding and element to deepcopy list \n",
    "li3[2][0] = 7\n",
    "  \n",
    "# Change is reflected in l2  \n",
    "print (\"The new list of elements after deep copying \") \n",
    "for i in range(0,len( li1)): \n",
    "    print (li3[i],end=\" \") \n",
    "  \n",
    "\n",
    "  \n",
    "# Change is NOT reflected in original list \n",
    "# as it is a deep copy \n",
    "print (\"\\nThe original elements after deep copying\") \n",
    "for i in range(0,len( li1)): \n",
    "    print (li1[i],end=\" \") "
   ]
  },
  {
   "cell_type": "markdown",
   "metadata": {},
   "source": [
    "#### Power of four\n",
    "Given an integer, write a function to check whether it is a power of 4."
   ]
  },
  {
   "cell_type": "code",
   "execution_count": 21,
   "metadata": {},
   "outputs": [
    {
     "name": "stdout",
     "output_type": "stream",
     "text": [
      "True\n"
     ]
    }
   ],
   "source": [
    "def power_of_four(num):\n",
    "    if num<1:\n",
    "        return false\n",
    "    \n",
    "    while num%4 == 0:\n",
    "        num /=4\n",
    "    return num==1\n",
    "\n",
    "print(power_of_four(64))"
   ]
  },
  {
   "cell_type": "markdown",
   "metadata": {},
   "source": [
    "#### Data Structure design to Store Items\n",
    "Given items and the name of the items as string and id of the items as integer. Design an efficient data structure to store items. Write a function to search an item by name. Write a function to search an item by id."
   ]
  },
  {
   "cell_type": "code",
   "execution_count": 34,
   "metadata": {},
   "outputs": [
    {
     "name": "stdout",
     "output_type": "stream",
     "text": [
      "shampoo\n"
     ]
    }
   ],
   "source": [
    "class dataStore(object):\n",
    "    def __init__(self):\n",
    "        self.name2id = {}\n",
    "        self.id2item = {}\n",
    "    \n",
    "    def addItem(self, item_name, item_id, item):\n",
    "        self.name2id[item_name] = item_id\n",
    "        self.id2item[item_id] = item\n",
    "    \n",
    "    def searchByName(self, item_name):\n",
    "        item_id = self.name2id[item_name]\n",
    "        return self.id2item[item_id]\n",
    "    \n",
    "    def searchById(self, item_id):\n",
    "        return self.id2item[item_id]\n",
    "        \n",
    "\n",
    "        \n",
    "ds = dataStore()\n",
    "ds.addItem(\"sunsilk\", 1, \"shampoo\")\n",
    "ds.addItem(\"H&S\", 2, \"shampoo\")\n",
    "\n",
    "print(ds.searchByName(\"sunsilk\"))"
   ]
  },
  {
   "cell_type": "markdown",
   "metadata": {},
   "source": [
    "### Amazon SDE:\n",
    "1. Closest Pair of Points <br>\n",
    "\n",
    "We are given an array of n points(x, y) in the plane, and the problem is to find out the top k closest points in the array.\n",
    "<br>\n",
    "\n",
    "We can calculate the eucledian distance to measure the nearest neighbour."
   ]
  },
  {
   "cell_type": "code",
   "execution_count": 53,
   "metadata": {},
   "outputs": [
    {
     "name": "stdout",
     "output_type": "stream",
     "text": [
      "[[[3, 2], 0.0], [[2, 1], 1.4142135623730951], [[5, 2], 2.0], [[6, 3], 3.1622776601683795], [[9, 0], 6.324555320336759]]\n",
      "[[[3, 2], 0.0], [[2, 1], 1.4142135623730951], [[5, 2], 2.0]]\n"
     ]
    }
   ],
   "source": [
    "import math\n",
    "def computeDistance(x1, y1, x2, y2):\n",
    "    return math.sqrt(((x1-x2)**2) + ((y1-y2)**2)) \n",
    "\n",
    "#From set of poits we have to find the closest k points of the point 'goal'\n",
    "def nearestNeighbors(points, goal, k):\n",
    "    distance = []\n",
    "    \n",
    "    for point in points:\n",
    "        d = computeDistance(point[0], point[1], goal[0], goal[1])\n",
    "        distance.append([point, d])\n",
    "    else:\n",
    "        # key = lambda element: element[1] => will ensure that we arrange the sorted element \n",
    "        # based on the second element of distance[]\n",
    "        distance.sort(key = lambda element: element[1]) \n",
    "        print(distance)\n",
    "        \n",
    "    #distance[i][0] will ensure that we just pick the points not the distance    \n",
    "    closest_neighbors = [distance[i][0] for i in range (0, k)]\n",
    "    return closest_neighbors\n",
    "\n",
    "points = [[6, 3], [2, 1], [5, 2], [3, 2], [9, 0]]\n",
    "goal = [3, 2]\n",
    "neighbors = nearestNeighbors(points, goal, 3)\n",
    "print(neighbors)\n",
    "    "
   ]
  },
  {
   "cell_type": "markdown",
   "metadata": {},
   "source": [
    "    2. Shortest Path \n",
    "Given a MxN matrix where each element can either be 0 or 1.\n",
    "We need to find the shortest path between a given source cell to a destination cell.\n",
    "The path can only be created out of a cell if its value is 1.\n",
    "You will be provided with start and goal locations\n",
    "\n",
    "<br>\n",
    "# we can solve this by bfs, check java solution"
   ]
  },
  {
   "cell_type": "code",
   "execution_count": 55,
   "metadata": {},
   "outputs": [
    {
     "name": "stdout",
     "output_type": "stream",
     "text": [
      "[[0, 0], [1, 0], [2, 0], [3, 0], [4, 0], [4, 1], [4, 2], [5, 2], [5, 3], [5, 4], [5, 5], [4, 5], [4, 6], [4, 7], [5, 7]]\n"
     ]
    }
   ],
   "source": [
    "# Time complexity = O(m*n) ==> if we ignore the list concatenation operation\n",
    "# You can optimize list concatenation operation by using a linked list\n",
    "# Space complexity = O(m*n)\n",
    "# Use BFS\n",
    "# You can optimize the space complexity to O(1) if you change the values of the matrix\n",
    "# A better tome efficient solution is Dijkstra's Algorithm\n",
    "\n",
    "from collections import deque\n",
    "\n",
    "\n",
    "def is_valid(x, y, n, m, matrix, visited):\n",
    "    if (0 <= x < n) and (0 <= y < m) and (matrix[x][y] == 1) and ((x, y) not in visited):\n",
    "        visited.add((x, y))\n",
    "        return True\n",
    "    return False\n",
    "\n",
    "\n",
    "def shortest_path(matrix, start, goal):\n",
    "    neighbors = ((0, 1), (0, -1), (1, 0), (-1, 0))\n",
    "\n",
    "    visited = set([])\n",
    "    visited.add((start[0], start[1]))\n",
    "\n",
    "    queue = deque()\n",
    "    queue.appendleft([start[0], start[1], 0, [start]])\n",
    "\n",
    "    while queue:\n",
    "\n",
    "        x, y, step, path = queue.pop()\n",
    "\n",
    "        if [x, y] == goal:\n",
    "            return path\n",
    "\n",
    "        for i in range(len(neighbors)):\n",
    "            new_x = x+neighbors[i][0]\n",
    "            new_y = y+neighbors[i][1]\n",
    "            if is_valid(new_x, new_y, len(matrix), len(matrix[0]), matrix, visited):\n",
    "                queue.appendleft((new_x, new_y, step+1, path+[[new_x, new_y]]))\n",
    "\n",
    "    return []\n",
    "\n",
    "\n",
    "mat = [[1, 0, 1, 1, 1, 1, 0, 1, 1, 1],\n",
    "       [1, 0, 1, 0, 1, 1, 1, 0, 1, 1],\n",
    "       [1, 1, 1, 0, 1, 1, 0, 1, 0, 1],\n",
    "       [1, 0, 0, 0, 1, 0, 0, 0, 0, 1],\n",
    "       [1, 1, 1, 0, 1, 1, 1, 1, 1, 0],\n",
    "       [1, 0, 1, 1, 1, 1, 0, 1, 0, 0],\n",
    "       [1, 0, 0, 0, 0, 0, 0, 0, 0, 1],\n",
    "       [1, 0, 1, 1, 1, 1, 0, 1, 1, 1],\n",
    "       [1, 1, 0, 0, 0, 0, 1, 0, 0, 1]]\n",
    "\n",
    "\n",
    "a = [0, 0]\n",
    "b = [5, 7]\n",
    "result_path = shortest_path(mat, a, b)\n",
    "print(result_path)"
   ]
  },
  {
   "cell_type": "markdown",
   "metadata": {},
   "source": [
    "### Distinct Pairs\n",
    "In this challenge, you will be given an array of integers and a target value. Determining the number of distinct pairs of elements in the array that sum to the target value. Two pairs (a, b) and (c, d) are considered to be distinct if and only if the values in sorted order do not match, i.e., (1, 9) and (9, 1) are indistinct but (1, 9 ) and (9, 2) are distinct.\n",
    "\n",
    "For instance given the array [1, 2, 3, 6, 7, 8, 9, 1] and a target value of 10, the seven pairs (1, 9), (2, 8), (3, 7), (8, 2), (9,1), and (1, 9) all sum to 10 and only three distinct pair: (1, 9), (2, 8), and (3, 7).\n",
    "\n",
    "Sample Input 0:\n",
    "  6\n",
    "  1\n",
    "  3\n",
    "  46\n",
    "  1\n",
    "  3\n",
    "  9\n",
    "  47\n",
    "  \n",
    "  Sample Output 0:\n",
    "  1\n",
    "  \n",
    "  Explanation 0:\n",
    "  a = [1, 3, 46, 1, 3, 9], k = 47\n",
    "  There are 4 pairs of unique elements where a[i]+a[j] = k\n",
    "  1. (a[0] = 1, a[2] = 46)\n",
    "  2. (a[2] = 46, a[0] = 1)\n",
    "  3. (a[2] = 46, a[3] = 1)\n",
    "  4. (a[3] = 1, a[2] = 46) "
   ]
  },
  {
   "cell_type": "code",
   "execution_count": 85,
   "metadata": {},
   "outputs": [
    {
     "name": "stdout",
     "output_type": "stream",
     "text": [
      "6\n",
      "1\n",
      "3\n",
      "46\n",
      "1\n",
      "3\n",
      "9\n",
      "47\n"
     ]
    },
    {
     "ename": "TypeError",
     "evalue": "unsupported operand type(s) for -: 'int' and 'str'",
     "output_type": "error",
     "traceback": [
      "\u001b[0;31m---------------------------------------------------------------------------\u001b[0m",
      "\u001b[0;31mTypeError\u001b[0m                                 Traceback (most recent call last)",
      "\u001b[0;32m<ipython-input-85-80437934b49d>\u001b[0m in \u001b[0;36m<module>\u001b[0;34m()\u001b[0m\n\u001b[1;32m     16\u001b[0m \u001b[0;34m\u001b[0m\u001b[0m\n\u001b[1;32m     17\u001b[0m \u001b[0;31m#print(arr)\u001b[0m\u001b[0;34m\u001b[0m\u001b[0;34m\u001b[0m\u001b[0m\n\u001b[0;32m---> 18\u001b[0;31m \u001b[0mlen\u001b[0m \u001b[0;34m=\u001b[0m \u001b[0mnumUniquePair\u001b[0m\u001b[0;34m(\u001b[0m\u001b[0marr\u001b[0m\u001b[0;34m,\u001b[0m \u001b[0mk\u001b[0m\u001b[0;34m)\u001b[0m\u001b[0;34m\u001b[0m\u001b[0m\n\u001b[0m\u001b[1;32m     19\u001b[0m \u001b[0;34m\u001b[0m\u001b[0m\n\u001b[1;32m     20\u001b[0m \u001b[0mprint\u001b[0m\u001b[0;34m(\u001b[0m\u001b[0mlen\u001b[0m\u001b[0;34m)\u001b[0m\u001b[0;34m\u001b[0m\u001b[0m\n",
      "\u001b[0;32m<ipython-input-85-80437934b49d>\u001b[0m in \u001b[0;36mnumUniquePair\u001b[0;34m(arr, k)\u001b[0m\n\u001b[1;32m      6\u001b[0m             \u001b[0mresult\u001b[0m\u001b[0;34m.\u001b[0m\u001b[0madd\u001b[0m\u001b[0;34m(\u001b[0m\u001b[0mtuple\u001b[0m\u001b[0;34m(\u001b[0m\u001b[0msorted\u001b[0m\u001b[0;34m(\u001b[0m\u001b[0;34m[\u001b[0m\u001b[0mnum\u001b[0m\u001b[0;34m,\u001b[0m \u001b[0mhistory\u001b[0m\u001b[0;34m[\u001b[0m\u001b[0mnum\u001b[0m\u001b[0;34m]\u001b[0m\u001b[0;34m]\u001b[0m\u001b[0;34m)\u001b[0m\u001b[0;34m)\u001b[0m\u001b[0;34m)\u001b[0m\u001b[0;34m\u001b[0m\u001b[0m\n\u001b[1;32m      7\u001b[0m         \u001b[0;32melse\u001b[0m\u001b[0;34m:\u001b[0m\u001b[0;34m\u001b[0m\u001b[0m\n\u001b[0;32m----> 8\u001b[0;31m             \u001b[0mhistory\u001b[0m\u001b[0;34m[\u001b[0m\u001b[0mnum\u001b[0m\u001b[0;34m]\u001b[0m \u001b[0;34m=\u001b[0m \u001b[0mk\u001b[0m \u001b[0;34m-\u001b[0m \u001b[0mnum\u001b[0m\u001b[0;34m\u001b[0m\u001b[0m\n\u001b[0m\u001b[1;32m      9\u001b[0m \u001b[0;34m\u001b[0m\u001b[0m\n\u001b[1;32m     10\u001b[0m     \u001b[0;32mreturn\u001b[0m \u001b[0mlen\u001b[0m\u001b[0;34m(\u001b[0m\u001b[0mresult\u001b[0m\u001b[0;34m)\u001b[0m\u001b[0;34m\u001b[0m\u001b[0m\n",
      "\u001b[0;31mTypeError\u001b[0m: unsupported operand type(s) for -: 'int' and 'str'"
     ]
    }
   ],
   "source": [
    "def numUniquePair(arr, k):\n",
    "    history = {}\n",
    "    result = set()\n",
    "    for num in arr:\n",
    "        if num in history:\n",
    "            result.add(tuple(sorted([num, history[num]])))\n",
    "        else:\n",
    "            history[num] = k-num\n",
    "            \n",
    "    return len(result)\n",
    "\n",
    "n= int(input())\n",
    "#arr = [*map(int, input().split())]\n",
    "arr = [input() for _ in range(n)]\n",
    "k = int(input())\n",
    "\n",
    "#print(arr)\n",
    "len = numUniquePair(arr, k)\n",
    "\n",
    "print(len)\n"
   ]
  },
  {
   "cell_type": "markdown",
   "metadata": {},
   "source": [
    "#### sort based on the colum \n",
    "You are given a spreadsheet that contains a list of N athletes and their details (such as age, height, weight and so on). You are required to sort the data based on the kth attribute and print the final resulting table. Follow the example given below for better understanding.\n",
    "<img src=\"AthleteSort.png\">\n",
    "\n",
    "sample input: <br>\n",
    "5 3 <br>\n",
    "10 2 5 <br>\n",
    "7 1 0 <br>\n",
    "9 9 9 <br>\n",
    "1 23 12 <br>\n",
    "6 5 9 <br>\n",
    "1 <br>"
   ]
  },
  {
   "cell_type": "code",
   "execution_count": 86,
   "metadata": {},
   "outputs": [
    {
     "name": "stdout",
     "output_type": "stream",
     "text": [
      "5 3\n",
      "10 2 5\n",
      "7 1 0\n",
      "9 9 9\n",
      "1 23 12\n",
      "6 5 9\n",
      "1\n",
      "\n",
      "7 1 0\n",
      "10 2 5\n",
      "6 5 9\n",
      "9 9 9\n",
      "1 23 12\n"
     ]
    }
   ],
   "source": [
    "import math\n",
    "import os\n",
    "import random\n",
    "import re\n",
    "import sys\n",
    "\n",
    "if __name__ == '__main__':\n",
    "    N, M = map(int, input().split())\n",
    "    rows = [input() for _ in range(N)]\n",
    "    k = int(input())\n",
    "\n",
    "    print()\n",
    "    for row in sorted(rows, key=lambda row: int(row.split()[k])):\n",
    "        print(row)"
   ]
  },
  {
   "cell_type": "markdown",
   "metadata": {},
   "source": [
    "#### any()\n",
    "This expression returns True if any element of the iterable is true. \n",
    "If the iterable is empty, it will return False.\n",
    "\n",
    "#### all()\n",
    "This expression returns True if all of the elements of the iterable are true. If the iterable is empty, it will return True.\n",
    "\n",
    "You are given a space separated list of integers. If **all** the integers are positive, then you need to check if **any** integer is a **palindromic integer**.\n",
    "\n",
    "The first line contains an integer N. N is the total number of integers in the list. \n",
    "The second line contains the space separated list of N integers."
   ]
  },
  {
   "cell_type": "code",
   "execution_count": 90,
   "metadata": {},
   "outputs": [
    {
     "name": "stdout",
     "output_type": "stream",
     "text": [
      "5\n",
      "12 9 61 5 14\n",
      "True\n"
     ]
    }
   ],
   "source": [
    "N = int(input())\n",
    "arr = input().split()\n",
    "\n",
    "print(all([int(i)> 0 for i in arr] ) and any([j ==j[::-1] for j in arr]))"
   ]
  },
  {
   "cell_type": "markdown",
   "metadata": {},
   "source": [
    "#### ginortS\n",
    "You are given a string S. \n",
    "S contains alphanumeric characters only. \n",
    "\n",
    "Your task is to sort the string  in the following manner:\n",
    "\n",
    "1. All sorted lowercase letters are ahead of uppercase letters.\n",
    "2. All sorted uppercase letters are ahead of digits.\n",
    "3. All sorted odd digits are ahead of sorted even digits.\n",
    "\n",
    "I/P:\n",
    "Sorting1234\n",
    "\n",
    "O/P:\n",
    "ginortS1324"
   ]
  },
  {
   "cell_type": "code",
   "execution_count": 94,
   "metadata": {},
   "outputs": [
    {
     "name": "stdout",
     "output_type": "stream",
     "text": [
      "Sorting1234\n",
      "ginortS1324\n"
     ]
    }
   ],
   "source": [
    "n = input()\n",
    "\n",
    "# Note: We need to give * before sorted to convert list to string value\n",
    "print(*sorted(n, key=lambda x : (x.isdigit(), x.isdigit() and int(x)%2==0, x.isupper(), x.islower(), x)), sep=\"\")"
   ]
  },
  {
   "cell_type": "markdown",
   "metadata": {},
   "source": [
    "#### map and lambda\n",
    "You have to generate a list of the first  fibonacci numbers,  being the first number. Then, apply the map function and a lambda expression to cube each fibonacci number and print the list.\n",
    "\n",
    "Sample Input: 5\n",
    "\n",
    "Sample Output: [0, 1, 1, 8, 27]\n",
    "\n",
    "First 5 fibinaci numbers are [0 1 1 2 3] and their cube is [0 1 1 8 27]\n",
    "\n",
    "**Concept:**\n",
    "\n",
    "The map() function applies a function to every member of an iterable and returns the result. It takes two parameters: first, the function that is to be applied and secondly, the iterables. "
   ]
  },
  {
   "cell_type": "code",
   "execution_count": 108,
   "metadata": {},
   "outputs": [
    {
     "name": "stdout",
     "output_type": "stream",
     "text": [
      "5\n",
      "0 1 1 8 27\n"
     ]
    }
   ],
   "source": [
    "def fibonaci(n):\n",
    "    lis = [0, 1]\n",
    "    for i in range(2, n):\n",
    "        lis.append(lis[i-2] + lis[i-1])\n",
    "    return lis\n",
    " \n",
    "\n",
    "#print(fibonaci(5))\n",
    "\n",
    "cube = lambda x : pow(x, 3)\n",
    "\n",
    "n=int(input())\n",
    "print(*map(cube, fibonaci(n)))\n",
    "\n"
   ]
  },
  {
   "cell_type": "code",
   "execution_count": 6,
   "metadata": {},
   "outputs": [
    {
     "name": "stdout",
     "output_type": "stream",
     "text": [
      "10\n",
      "161 182 161 154 176 170 167 171 170 174\n",
      "169.375\n"
     ]
    }
   ],
   "source": [
    "def average(arr):\n",
    "    return sum(set(arr))/len(set(arr))\n",
    "    \n",
    "n = int(input())\n",
    "arr = list(map(int, input().split()))\n",
    "print(average(arr))\n",
    "\n"
   ]
  },
  {
   "cell_type": "markdown",
   "metadata": {},
   "source": [
    "### Exceptions\n",
    "Errors detected during execution are called exceptions. <br>\n",
    "**ZeroDivisionError** <br>\n",
    "This error is raised when the second argument of a division or modulo operation is zero.<br>\n",
    "**ValueError** <br>\n",
    "This error is raised when a built-in operation or function receives an argument that has the right type but an inappropriate value. <br>\n",
    "**Handling Exceptions** <br>\n",
    "The statements try and except can be used to handle selected exceptions. A try statement may have more than one except clause to specify handlers for different exceptions."
   ]
  },
  {
   "cell_type": "code",
   "execution_count": 2,
   "metadata": {},
   "outputs": [
    {
     "name": "stdout",
     "output_type": "stream",
     "text": [
      "Error Code: division by zero\n"
     ]
    }
   ],
   "source": [
    "try:\n",
    "    print(1/0)\n",
    "except ZeroDivisionError as e:\n",
    "    print(\"Error Code:\", e)"
   ]
  },
  {
   "cell_type": "code",
   "execution_count": 21,
   "metadata": {},
   "outputs": [
    {
     "name": "stdout",
     "output_type": "stream",
     "text": [
      "3\n",
      "3 $\n",
      "Error Code: invalid literal for int() with base 10: '$'\n",
      "1 0\n",
      "Error Code: integer division or modulo by zero\n",
      "5 4\n",
      "1\n"
     ]
    }
   ],
   "source": [
    "t = int(input())\n",
    "for _ in range(t):  \n",
    "    try:\n",
    "        n,d= map(int,input().split())\n",
    "        print(n//d)\n",
    "    except Exception as e:\n",
    "        print(\"Error Code:\", e)"
   ]
  },
  {
   "cell_type": "markdown",
   "metadata": {},
   "source": [
    "#### Incorrect Regex\n",
    "You are given a string . \n",
    "Your task is to find out whether  is a valid regex or not."
   ]
  },
  {
   "cell_type": "code",
   "execution_count": 23,
   "metadata": {},
   "outputs": [
    {
     "name": "stdout",
     "output_type": "stream",
     "text": [
      "2\n",
      ".*/+\n",
      "True\n",
      ".**\n",
      "False\n"
     ]
    }
   ],
   "source": [
    "import re\n",
    "\n",
    "t = int(input())\n",
    "\n",
    "for _ in range(t):\n",
    "    ans = True\n",
    "    try:\n",
    "        reg = re.compile(input())\n",
    "    except re.error:\n",
    "        ans=False\n",
    "    print(ans)\n",
    "        "
   ]
  },
  {
   "cell_type": "markdown",
   "metadata": {},
   "source": [
    "#### Time Delta : Print the absolute difference  in seconds.\n",
    "I/P are given in \"Day dd Mon yyyy hh:mm:ss +xxxx\"\n",
    "\n"
   ]
  },
  {
   "cell_type": "code",
   "execution_count": 25,
   "metadata": {},
   "outputs": [
    {
     "name": "stdout",
     "output_type": "stream",
     "text": [
      "1\n",
      "Sun 10 May 2015 13:54:36 -0700\n",
      "Sun 10 May 2015 13:54:36 -0000\n",
      "25200\n"
     ]
    }
   ],
   "source": [
    "from datetime import datetime as dt\n",
    "#Sun 10 May 2015 13:54:36 -0700\n",
    "fmt = '%a %d %b %Y %H:%M:%S %z'\n",
    "t = int(input())\n",
    "\n",
    "for _ in range(t):\n",
    "    print(int(abs((dt.strptime(input(), fmt) - dt.strptime(input(), fmt)).total_seconds())))"
   ]
  },
  {
   "cell_type": "markdown",
   "metadata": {},
   "source": [
    "#### valid email addresses in lexicographical order.\n",
    "Valid email addresses must follow these rules:\n",
    "\n",
    "    It must have the username@websitename.extension format type.\n",
    "    The username can only contain letters, digits, dashes and underscores.\n",
    "    The website name can only have letters and digits.\n",
    "    The maximum length of the extension is 3.\n",
    "\n",
    "    I/P:\n",
    "    3\n",
    "    lara@hackerrank.com\n",
    "    brian-23@hackerrank.com\n",
    "    britts_54@hackerrank.com"
   ]
  },
  {
   "cell_type": "code",
   "execution_count": 38,
   "metadata": {},
   "outputs": [
    {
     "name": "stdout",
     "output_type": "stream",
     "text": [
      "3\n",
      "lara@hackerrank.com\n",
      "brian-23@hackerrank.com\n",
      "britts_54@hackerrank.com\n",
      "['brian-23@hackerrank.com', 'britts_54@hackerrank.com', 'lara@hackerrank.com']\n"
     ]
    }
   ],
   "source": [
    "def check_valid_email(email):\n",
    "    #1st condition, input format\n",
    "    try:\n",
    "        usr, url = email.split(\"@\")\n",
    "        web, ext = url.split(\".\")\n",
    "    except ValueError:\n",
    "        return False\n",
    "    \n",
    "    #2nd condition, user name condition\n",
    "    if not usr.replace(\"-\",\"\").replace(\"_\", \"\").isalnum():\n",
    "        return False\n",
    "    #3rd condition\n",
    "    if not web.isalnum():\n",
    "        return False\n",
    "    #4th condition\n",
    "    if len(ext) > 3:\n",
    "        return False\n",
    "    return True\n",
    "\n",
    "def filter_email(email):\n",
    "    return list(filter(check_valid_email, email))\n",
    "\n",
    "if __name__ == '__main__':\n",
    "    n = int(input())\n",
    "    email = []\n",
    "    for _ in range(n):\n",
    "        s =input()\n",
    "        email.append(s)\n",
    "    \n",
    "filtered_email = filter_email(email)\n",
    "#filtered_email.sort()\n",
    "#print(filtered_email)\n",
    "print(sorted(filtered_email))"
   ]
  },
  {
   "cell_type": "code",
   "execution_count": null,
   "metadata": {},
   "outputs": [],
   "source": []
  }
 ],
 "metadata": {
  "kernelspec": {
   "display_name": "Python 3",
   "language": "python",
   "name": "python3"
  },
  "language_info": {
   "codemirror_mode": {
    "name": "ipython",
    "version": 3
   },
   "file_extension": ".py",
   "mimetype": "text/x-python",
   "name": "python",
   "nbconvert_exporter": "python",
   "pygments_lexer": "ipython3",
   "version": "3.7.3"
  }
 },
 "nbformat": 4,
 "nbformat_minor": 2
}
