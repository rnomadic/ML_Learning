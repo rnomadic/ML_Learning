{
 "cells": [
  {
   "cell_type": "markdown",
   "metadata": {},
   "source": [
    "#### What does this mean: *args, **kwargs? And why would we use it?\n",
    "The special syntax *args in function definitions in python is used to pass a variable number of arguments to a function."
   ]
  },
  {
   "cell_type": "code",
   "execution_count": 2,
   "metadata": {},
   "outputs": [
    {
     "name": "stdout",
     "output_type": "stream",
     "text": [
      "geeks\n",
      "for\n",
      "geeks\n"
     ]
    }
   ],
   "source": [
    "#example of args\n",
    "def myfunc(*argv):\n",
    "    for arg in argv:\n",
    "        print(arg)\n",
    "\n",
    "myfunc('geeks', 'for', 'geeks')\n"
   ]
  },
  {
   "cell_type": "markdown",
   "metadata": {},
   "source": [
    "The special syntax $**kwargs$\n",
    "in function definitions in python is used to pass a **keyworded**, variable-length argument list. "
   ]
  },
  {
   "cell_type": "code",
   "execution_count": 7,
   "metadata": {},
   "outputs": [
    {
     "name": "stdout",
     "output_type": "stream",
     "text": [
      "last = Geeks\n",
      "first = Geeks\n",
      "mid = for\n"
     ]
    }
   ],
   "source": [
    "#example of **kwargs\n",
    "def myfunc(**kwargs):\n",
    "    for key, value in kwargs.items():\n",
    "        print(\"%s = %s\" %(key, value))\n",
    "        \n",
    "myfunc(first='Geeks', mid='for', last='Geeks')"
   ]
  },
  {
   "cell_type": "markdown",
   "metadata": {},
   "source": [
    "### Diff between pkg, library, module, API\n",
    "\n",
    "1. An API is not a collection of code per se - it is more like a \"protocol\" specification how various parts (usually libraries) communicate with each other. There are a few notable \"standard\" APIs in python. E.g. the [DB API](https://www.python.org/dev/peps/pep-0249/)\n",
    "\n",
    "2. In my opinion, a library is anything that is not an application - in python, a library is a module - usually with submodules. The scope of a library is quite variable - for example the [python standard library](https://docs.python.org/2/library/) is vast (with quite a few submodules) while there are lots of single purpose libraries in the PyPi, e.g. a backport of collections.OrderedDict for py < 2.7\n",
    "\n",
    "3. A package is a collection of python modules under a common namespace. In practice one is created by placing multiple python modules in a directory with a special __init__.py module (file).\n",
    "    The __init__.py files are required to make Python treat the directories as containing packages; this is done to prevent directories with a common name, such as string, from unintentionally hiding valid modules that occur later (deeper) on the module search path. In the simplest case, __init__.py can just be an empty file, but it can also execute initialization code for the package or set the __all__ variable, described later.\n",
    "\n",
    "4. A module is a single file of python code that is meant to be imported. This is a bit of a simplification since in practice quite a few modules detect when they are run as script and do something special in that case.\n",
    "\n",
    "5. A script is a single file of python code that is meant to be executed as the 'main' program.\n",
    "\n",
    "6. If you have a set of code that spans multiple files, you probably have an application instead of script.\n",
    "\n",
    " "
   ]
  },
  {
   "cell_type": "markdown",
   "metadata": {},
   "source": [
    "### What does __all__ variable does?\n",
    "\n",
    "For example, the following code in a **foo.py explicitly exports the symbols bar and baz:**\n",
    "\n",
    "__all__ = ['bar', 'baz'] <br>\n",
    "\n",
    "waz = 5 <br>\n",
    "bar = 10 <br>\n",
    "def baz(): return 'baz' <br>\n",
    "These symbols can then be imported like so: <br>\n",
    "\n",
    "from foo import * <br>\n",
    "\n",
    "print bar <br>\n",
    "print baz <br>\n",
    "\n",
    "##### The following will trigger an exception, as \"waz\" is not exported by the module <br>\n",
    "\n",
    "print waz <br>\n",
    "\n",
    "If the __all__ above is commented out, this code will then execute to completion, as the default behaviour of import * is to import all symbols that do not begin with an underscore, from the given namespace.\n",
    "\n",
    "[Reference:](https://docs.python.org/3.5/tutorial/modules.html#importing-from-a-package)\n",
    "\n",
    "NOTE: __all__ affects the from <module> import * behavior only. Members that are not mentioned in __all__ are still accessible from outside the module and can be imported with from <module> import <member>."
   ]
  },
  {
   "cell_type": "markdown",
   "metadata": {},
   "source": [
    "### Diff between list and array\n",
    "1. Arrays and lists are both used in Python to store data, but they don't serve exactly the same purposes. They both can be used to store any data type (real numbers, strings, etc), and they both can be indexed and iterated through, but the similarities between the two don't go much further. The main difference between a list and an array is the functions that you can perform to them. For example, you can divide an array by 3, and each number in the array will be divided by 3 and the result will be printed if you request it. If you try to divide a list by 3, Python will tell you that it can't be done, and an error will be thrown.\n",
    "\n",
    "2. It does take an extra step to use arrays because they have to be declared while lists don't because they are part of Python's syntax, so lists are generally used more often between the two, which works fine most of the time. However, if you're going to perform arithmetic functions to your lists, you should really be using arrays instead. Additionally, arrays will store your data more compactly and efficiently, so if you're storing a large amount of data, you may consider using arrays as well."
   ]
  },
  {
   "cell_type": "code",
   "execution_count": 13,
   "metadata": {},
   "outputs": [
    {
     "name": "stdout",
     "output_type": "stream",
     "text": [
      "3\n",
      "9\n",
      "12\n"
     ]
    },
    {
     "ename": "TypeError",
     "evalue": "unsupported operand type(s) for /: 'array.array' and 'int'",
     "output_type": "error",
     "traceback": [
      "\u001b[0;31m---------------------------------------------------------------------------\u001b[0m",
      "\u001b[0;31mTypeError\u001b[0m                                 Traceback (most recent call last)",
      "\u001b[0;32m<ipython-input-13-70a44aa23d94>\u001b[0m in \u001b[0;36m<module>\u001b[0;34m()\u001b[0m\n\u001b[1;32m      8\u001b[0m \u001b[0;34m\u001b[0m\u001b[0m\n\u001b[1;32m      9\u001b[0m \u001b[0;31m#We can't do any mathematical operation on this\u001b[0m\u001b[0;34m\u001b[0m\u001b[0;34m\u001b[0m\u001b[0m\n\u001b[0;32m---> 10\u001b[0;31m \u001b[0mprint\u001b[0m\u001b[0;34m(\u001b[0m\u001b[0marr\u001b[0m\u001b[0;34m/\u001b[0m\u001b[0;36m3\u001b[0m\u001b[0;34m)\u001b[0m\u001b[0;34m\u001b[0m\u001b[0m\n\u001b[0m\u001b[1;32m     11\u001b[0m \u001b[0;34m\u001b[0m\u001b[0m\n",
      "\u001b[0;31mTypeError\u001b[0m: unsupported operand type(s) for /: 'array.array' and 'int'"
     ]
    }
   ],
   "source": [
    "#case 1: Typical python array\n",
    "import array \n",
    "arr = array.array('i', [3, 9, 12])  \n",
    "\n",
    "#We can access and use like typical array\n",
    "for i in range(3):\n",
    "    print(arr[i])\n",
    "    \n",
    "#We can't do any mathematical operation on this\n",
    "print(arr/3)\n",
    "\n"
   ]
  },
  {
   "cell_type": "code",
   "execution_count": 14,
   "metadata": {},
   "outputs": [
    {
     "name": "stdout",
     "output_type": "stream",
     "text": [
      "[1 3 4]\n",
      "[1. 3. 4.]\n",
      "[0 0 0]\n"
     ]
    }
   ],
   "source": [
    "#case 2: numpy array\n",
    "import numpy as np\n",
    "\n",
    "a = np.array([3,9, 12])\n",
    "print(a//3) # // for integer division\n",
    "print(a/3)\n",
    "print(a%3)"
   ]
  },
  {
   "cell_type": "code",
   "execution_count": null,
   "metadata": {
    "collapsed": true
   },
   "outputs": [],
   "source": [
    "#case 3 List\n"
   ]
  },
  {
   "cell_type": "markdown",
   "metadata": {},
   "source": [
    "#### In Python, when to use a Dictionary, List or Set and why?\n",
    "\n",
    "##### Lists Versus Tuples\n",
    "Tuples are used to collect an immutable ordered list of elements. This means that:\n",
    "\n",
    "1. You can’t add elements to a tuple. There’s no append() or extend() method for tuples,\n",
    "2. You can’t remove elements from a tuple. Tuples have no remove() or pop() method,\n",
    "3. You can find elements in a tuple since this doesn’t change the tuple.\n",
    "4. You can also use the in operator to check if an element exists in the tuple.\n",
    "\n",
    "    So, if you’re defining a constant set of values and all you’re going to do with it is iterate through it, use a tuple instead of a list. It will be faster than working with lists and also safer, as the tuples contain “write-protect” data.\n",
    "    \n",
    "##### Lists Versus Dictionaries\n",
    "1. A list stores an ordered collection of items, so it keeps some order. Dictionaries don’t have any order.\n",
    "2. Dictionaries are known to associate each key with a value, while lists just contain values.\n",
    "\n",
    "    Note that, because you have keys and values that link to each other, the performance will be better than lists in cases where you’re checking membership of an element.\n",
    "    \n",
    "##### Lists Versus Sets\n",
    "1. Just like dictionaries, sets have no order in their collection of items. Not like lists.\n",
    "2. Set requires the items contained in it to be hashable, lists store non-hashable items.\n"
   ]
  },
  {
   "cell_type": "markdown",
   "metadata": {},
   "source": [
    "##### collections — High-performance container datatypes"
   ]
  },
  {
   "cell_type": "code",
   "execution_count": 6,
   "metadata": {},
   "outputs": [
    {
     "name": "stdout",
     "output_type": "stream",
     "text": [
      "False\n",
      "False\n",
      "True\n",
      "True\n",
      "['a', 'a', 'a', 'a', 'b', 'b']\n"
     ]
    },
    {
     "data": {
      "text/plain": [
       "[('the', 1091),\n",
       " ('and', 969),\n",
       " ('to', 767),\n",
       " ('of', 675),\n",
       " ('i', 633),\n",
       " ('a', 571),\n",
       " ('you', 558),\n",
       " ('my', 520),\n",
       " ('in', 451),\n",
       " ('it', 421)]"
      ]
     },
     "execution_count": 6,
     "metadata": {},
     "output_type": "execute_result"
    }
   ],
   "source": [
    "# Import the `collections` library\n",
    "import collections\n",
    "# Check if a dictionary is hashable\n",
    "print(isinstance({}, collections.Hashable))\n",
    "\n",
    "print(isinstance([], collections.Hashable))\n",
    "print(isinstance(set, collections.Hashable))\n",
    "print(isinstance(tuple, collections.Hashable))\n",
    "\n",
    "#from collections import Counter\n",
    "c = collections.Counter(a=4, b=2, c=0, d=-2)\n",
    "print(list(c.elements()))\n",
    "\n",
    "import re\n",
    "words = re.findall(r'\\w+', open('hamlet.txt').read().lower())\n",
    "Counter(words).most_common(10)"
   ]
  },
  {
   "cell_type": "markdown",
   "metadata": {},
   "source": [
    "#### lambda - the anonymous function\n",
    "\n",
    "It’s a functional programming technique where we would pass a function to a function to perform an operation on a data structure such as list.\n",
    "\n",
    "\"lambda arguments : expression\""
   ]
  },
  {
   "cell_type": "code",
   "execution_count": 7,
   "metadata": {},
   "outputs": [
    {
     "data": {
      "text/plain": [
       "[5, 4, 6, 3, 7, 2, 8, 1, 9]"
      ]
     },
     "execution_count": 7,
     "metadata": {},
     "output_type": "execute_result"
    }
   ],
   "source": [
    "#Example: Sort [1, 2, 3, 4, 5, 6, 7, 8, 9] by absolute values of (5-element)\n",
    "\n",
    "sorted([1, 2, 3, 4, 5, 6, 7, 8, 9], key=lambda x: abs(5-x))"
   ]
  },
  {
   "cell_type": "markdown",
   "metadata": {},
   "source": [
    "\n",
    "##### What are mutable and immutable objects in python? Name a few.\n",
    "\n",
    "Ans. A mutable object is one which can change its state or contents and immutable objects cannot.\n",
    "\n",
    "Examples :\n",
    "\n",
    "Mutable objects:\n",
    "\n",
    "List, dict, set, byte array\n",
    "\n",
    "Immutable objects:\n",
    "\n",
    "int, float, complex, string, tuple, frozen set [note: immutable version of set], bytes"
   ]
  },
  {
   "cell_type": "markdown",
   "metadata": {},
   "source": [
    "Function\n",
    "=======\n",
    "Functions are first class object, you can pass, assign function"
   ]
  },
  {
   "cell_type": "code",
   "execution_count": 20,
   "metadata": {},
   "outputs": [
    {
     "name": "stdout",
     "output_type": "stream",
     "text": [
      "16\n"
     ]
    }
   ],
   "source": [
    "def make_double(x): # just return double\n",
    "    return x**2\n",
    "\n",
    "def call_function(f, n): # call the function that are passed\n",
    "    return f(n)\n",
    "\n",
    "my_function = make_double # assign double as my function\n",
    "x = call_function(my_function, 4) # call the fucntion\n",
    "print(x)"
   ]
  },
  {
   "cell_type": "code",
   "execution_count": 19,
   "metadata": {},
   "outputs": [
    {
     "name": "stdout",
     "output_type": "stream",
     "text": [
      "16\n"
     ]
    }
   ],
   "source": [
    "another_double = lambda x: x**2 #lambda function to calcualate inline\n",
    "print(another_double(4))"
   ]
  },
  {
   "cell_type": "code",
   "execution_count": 29,
   "metadata": {},
   "outputs": [
    {
     "name": "stdout",
     "output_type": "stream",
     "text": [
      "you should provide your message\n",
      "roy\n"
     ]
    }
   ],
   "source": [
    "\" Function can have default value \"\n",
    "\n",
    "def print_msg(msg=\"you should provide your message\"):\n",
    "    print(msg)\n",
    "\n",
    "print_msg() # call function without providing any default message\n",
    "print_msg('roy')"
   ]
  },
  {
   "cell_type": "code",
   "execution_count": 28,
   "metadata": {},
   "outputs": [
    {
     "name": "stdout",
     "output_type": "stream",
     "text": [
      "Exception - can't divide by zero\n"
     ]
    }
   ],
   "source": [
    "#case 9 Exception\n",
    "def exception_handling():\n",
    "    try:\n",
    "        print(0 / 0)\n",
    "    except ZeroDivisionError:\n",
    "        print(\"Exception - can't divide by zero\")\n",
    "\n",
    "exception_handling()"
   ]
  },
  {
   "cell_type": "markdown",
   "metadata": {},
   "source": [
    "LIST\n",
    "===="
   ]
  },
  {
   "cell_type": "code",
   "execution_count": 2,
   "metadata": {},
   "outputs": [
    {
     "name": "stdout",
     "output_type": "stream",
     "text": [
      "[1, 2, 3]\n"
     ]
    }
   ],
   "source": [
    "x = [1, 2, 3, 4, 5, 6, 7, 8, 9, 10]\n",
    "print(x[:3]) # print from index 0 to 2"
   ]
  },
  {
   "cell_type": "code",
   "execution_count": 3,
   "metadata": {},
   "outputs": [
    {
     "name": "stdout",
     "output_type": "stream",
     "text": [
      "[1, 2, 3, 4, 5, 6, 7, 8]\n"
     ]
    }
   ],
   "source": [
    "print(x[:-2]) # print start to end except last 2 element"
   ]
  },
  {
   "cell_type": "code",
   "execution_count": 6,
   "metadata": {},
   "outputs": [
    {
     "name": "stdout",
     "output_type": "stream",
     "text": [
      "[4, 5, 6, 7, 8, 9, 10]\n"
     ]
    }
   ],
   "source": [
    "print(x[3:]) # index 3 to end"
   ]
  },
  {
   "cell_type": "code",
   "execution_count": 7,
   "metadata": {},
   "outputs": [
    {
     "name": "stdout",
     "output_type": "stream",
     "text": [
      "[2, 3, 4, 5]\n"
     ]
    }
   ],
   "source": [
    "print(x[1:5]) # print 1 to 4"
   ]
  },
  {
   "cell_type": "code",
   "execution_count": 8,
   "metadata": {},
   "outputs": [
    {
     "name": "stdout",
     "output_type": "stream",
     "text": [
      "[8, 9, 10]\n"
     ]
    }
   ],
   "source": [
    "print(x[-3:]) #print last 3"
   ]
  },
  {
   "cell_type": "code",
   "execution_count": 9,
   "metadata": {},
   "outputs": [
    {
     "name": "stdout",
     "output_type": "stream",
     "text": [
      "[2, 3, 4, 5, 6, 7, 8, 9]\n"
     ]
    }
   ],
   "source": [
    "print(x[1:-1]) # without first and last"
   ]
  },
  {
   "cell_type": "code",
   "execution_count": 11,
   "metadata": {},
   "outputs": [
    {
     "name": "stdout",
     "output_type": "stream",
     "text": [
      "[1, 2, 3, 4, 5, 6, 7, 8, 9, 10]\n"
     ]
    }
   ],
   "source": [
    "copy_of_x = x[:] # copy of x\n",
    "print(copy_of_x)"
   ]
  },
  {
   "cell_type": "code",
   "execution_count": 12,
   "metadata": {},
   "outputs": [
    {
     "name": "stdout",
     "output_type": "stream",
     "text": [
      "False\n"
     ]
    }
   ],
   "source": [
    "print( 0 in [1, 2, 3]) # element present or not"
   ]
  },
  {
   "cell_type": "code",
   "execution_count": 14,
   "metadata": {},
   "outputs": [
    {
     "name": "stdout",
     "output_type": "stream",
     "text": [
      "[1, 2, 3, 4, 5, 6]\n"
     ]
    }
   ],
   "source": [
    "x = [1, 2, 3]\n",
    "x.extend([4, 5, 6]) # concatenate element in existing list\n",
    "print(x)"
   ]
  },
  {
   "cell_type": "code",
   "execution_count": 15,
   "metadata": {},
   "outputs": [
    {
     "name": "stdout",
     "output_type": "stream",
     "text": [
      "[1, 2, 3, 4, 5, 6, 7, 8, 9]\n"
     ]
    }
   ],
   "source": [
    "y = x + [7, 8, 9]\n",
    "print(y)"
   ]
  },
  {
   "cell_type": "markdown",
   "metadata": {},
   "source": [
    "#### List comprehension"
   ]
  },
  {
   "cell_type": "code",
   "execution_count": 16,
   "metadata": {},
   "outputs": [
    {
     "name": "stdout",
     "output_type": "stream",
     "text": [
      "[4, 16, 36]\n"
     ]
    }
   ],
   "source": [
    "num = [1, 2, 3, 4, 5, 6]\n",
    "squares =[x ** 2 for x in num if x%2 == 0] # pick number if it is even and square it\n",
    "print(squares)"
   ]
  },
  {
   "cell_type": "markdown",
   "metadata": {},
   "source": [
    "#### How To Randomly Select An Element In A List"
   ]
  },
  {
   "cell_type": "code",
   "execution_count": 21,
   "metadata": {},
   "outputs": [
    {
     "name": "stdout",
     "output_type": "stream",
     "text": [
      "c\n"
     ]
    }
   ],
   "source": [
    "# Import `choice` from the `random` library\n",
    "from random import choice\n",
    "\n",
    "# Construct your `list` variable with a list of the first 4 letters of the alphabet\n",
    "list = ['a', 'b', 'c', 'd']\n",
    "\n",
    "# Print your random 'list' element\n",
    "print(choice(list))"
   ]
  },
  {
   "cell_type": "markdown",
   "metadata": {},
   "source": [
    "## zip function, iterate over multiple list in parrallel\n",
    "zip stops when the shorter of foo or bar stops."
   ]
  },
  {
   "cell_type": "code",
   "execution_count": 1,
   "metadata": {},
   "outputs": [
    {
     "name": "stdout",
     "output_type": "stream",
     "text": [
      "1 red manchego\n",
      "2 blue stilton\n",
      "3 green brie\n"
     ]
    }
   ],
   "source": [
    "for num, cheese, color in zip([1,2,3], ['manchego', 'stilton', 'brie'], \n",
    "                              ['red', 'blue', 'green']):\n",
    "    print('{} {} {}'.format(num, color, cheese))"
   ]
  },
  {
   "cell_type": "markdown",
   "metadata": {},
   "source": [
    "### Enumerate() in Python\n",
    "A lot of times when dealing with iterators, we also get a need to keep a count of iterations. Python eases the programmers’ task by providing a built-in function enumerate() for this task.\n",
    "Enumerate() method adds a counter to an iterable and returns it in a form of enumerate object. This enumerate object can then be used directly in for loops or be converted into a list of tuples using list() method."
   ]
  },
  {
   "cell_type": "code",
   "execution_count": 2,
   "metadata": {},
   "outputs": [
    {
     "name": "stdout",
     "output_type": "stream",
     "text": [
      "[(0, 'eat'), (1, 'sleep'), (2, 'repeat')]\n"
     ]
    }
   ],
   "source": [
    "\n",
    "l1 = [\"eat\",\"sleep\",\"repeat\"] \n",
    "print(list(enumerate(l1)))"
   ]
  },
  {
   "cell_type": "code",
   "execution_count": 7,
   "metadata": {},
   "outputs": [
    {
     "name": "stdout",
     "output_type": "stream",
     "text": [
      "Counter({'high': 2, 'some': 1, 'at': 1, 'the': 1, 'comedy': 1, 'bromwell': 1, 'same': 1, 'it': 1, 'as': 1, 'time': 1, 'ran': 1, 'is': 1, 'cartoon': 1, 'other': 1, 'a': 1})\n"
     ]
    },
    {
     "data": {
      "text/plain": [
       "{'a': 15,\n",
       " 'as': 9,\n",
       " 'at': 3,\n",
       " 'bromwell': 6,\n",
       " 'cartoon': 13,\n",
       " 'comedy': 5,\n",
       " 'high': 1,\n",
       " 'is': 12,\n",
       " 'it': 8,\n",
       " 'other': 14,\n",
       " 'ran': 11,\n",
       " 'same': 7,\n",
       " 'some': 2,\n",
       " 'the': 4,\n",
       " 'time': 10}"
      ]
     },
     "execution_count": 7,
     "metadata": {},
     "output_type": "execute_result"
    }
   ],
   "source": [
    "# In sentiment RNN, we used enumerate to create vocab to int\n",
    "from collections import Counter\n",
    "words=['bromwell','high','is','a','cartoon','comedy','it','ran','at','the','same','time','as',\n",
    " 'some',\n",
    " 'other',\n",
    " 'high']\n",
    "\n",
    "counts = Counter(words)\n",
    "print(counts)\n",
    "vocab = sorted(counts, key=counts.get, reverse=True)\n",
    "vocab_to_int = {word: ii for ii, word in enumerate(vocab, 1)} #1 to start count from 1 for each iterable\n",
    "vocab_to_int\n"
   ]
  },
  {
   "cell_type": "markdown",
   "metadata": {},
   "source": [
    "Tuples\n",
    "=======\n",
    "1. Tuples are lists immutable cousin, except modifying you can do everything on tuple that you do on list\n",
    "2. tuples are good for returning multiple values from function\n",
    "3. as dictionary key is immutable, if we need multipart key then we can use tuple to hold the key."
   ]
  },
  {
   "cell_type": "code",
   "execution_count": 31,
   "metadata": {},
   "outputs": [
    {
     "name": "stdout",
     "output_type": "stream",
     "text": [
      "[1, 3]\n",
      "you can't modify tuple\n"
     ]
    }
   ],
   "source": [
    "my_list = [1, 2]\n",
    "my_tuple =(1, 2)\n",
    "my_list[1] = 3 # Allowed\n",
    "\n",
    "print(my_list)\n",
    "\n",
    "def mod_tuple():\n",
    "    try:\n",
    "        my_tuple[1] =3\n",
    "    except TypeError:\n",
    "        print(\"you can't modify tuple\")\n",
    "\n",
    "mod_tuple()"
   ]
  },
  {
   "cell_type": "code",
   "execution_count": 33,
   "metadata": {},
   "outputs": [
    {
     "name": "stdout",
     "output_type": "stream",
     "text": [
      "(5, 6) 5 6\n",
      "5\n"
     ]
    }
   ],
   "source": [
    "\"Return multiple values from function\"\n",
    "\n",
    "def sum_and_prod(x, y):\n",
    "    return (x+y), (x*y)\n",
    "\n",
    "sp = sum_and_prod(2, 3)\n",
    "s, p = sum_and_prod(2, 3)\n",
    "\n",
    "print(sp, s, p)\n",
    "print(sp[0])"
   ]
  },
  {
   "cell_type": "code",
   "execution_count": 34,
   "metadata": {},
   "outputs": [
    {
     "name": "stdout",
     "output_type": "stream",
     "text": [
      "2 1\n"
     ]
    }
   ],
   "source": [
    "\"Can be used for multiple assignment\"\n",
    "x, y = 1, 2\n",
    "x, y = y, x # pythonic way of swaping value\n",
    "\n",
    "print(x, y)"
   ]
  },
  {
   "cell_type": "markdown",
   "metadata": {},
   "source": [
    "Dictionary\n",
    "=========\n",
    "key - value association, like JAVA map"
   ]
  },
  {
   "cell_type": "code",
   "execution_count": 38,
   "metadata": {},
   "outputs": [
    {
     "name": "stdout",
     "output_type": "stream",
     "text": [
      "{'sonali': 95, 'joe': 90, 'sanoja': 98}\n",
      "False\n"
     ]
    }
   ],
   "source": [
    "empty_dict ={}\n",
    "grades = {'joe': 89, 'sanoja': 98}\n",
    "grades['sonali'] = 95 # add new entry\n",
    "grades['joe'] = 90    # modify existing entry\n",
    "\n",
    "print(grades)\n",
    "\n",
    "def is_key_present(grade, key):\n",
    "    if key in grade:\n",
    "        return True\n",
    "    else:\n",
    "        return False\n",
    "    \n",
    "print(is_key_present(grades, 'kate'))"
   ]
  },
  {
   "cell_type": "code",
   "execution_count": 42,
   "metadata": {},
   "outputs": [
    {
     "name": "stdout",
     "output_type": "stream",
     "text": [
      "dict_keys(['hash tags', 're-tweet_count', 'user', 'text'])\n",
      "dict_values([['#data', '#science', '#datascience', '#awesome', '#yolo'], 100, 'roy', 'Data science is awesome'])\n",
      "dict_items([('hash tags', ['#data', '#science', '#datascience', '#awesome', '#yolo']), ('re-tweet_count', 100), ('user', 'roy'), ('text', 'Data science is awesome')])\n"
     ]
    }
   ],
   "source": [
    "\"Dictionary to represent structured data\"\n",
    "tweets = {\n",
    "            \"user\" : \"roy\",\n",
    "            \"text\" : \"Data science is awesome\",\n",
    "            \"re-tweet_count\" : 100,\n",
    "            \"hash tags\" : [\"#data\", \"#science\", \"#datascience\", \"#awesome\", \"#yolo\"]\n",
    "}\n",
    "print(tweets.keys())\n",
    "print(tweets.values())\n",
    "print(tweets.items())\n"
   ]
  },
  {
   "cell_type": "code",
   "execution_count": 46,
   "metadata": {},
   "outputs": [
    {
     "name": "stdout",
     "output_type": "stream",
     "text": [
      "human has 2 legs\n",
      "spider has 8 legs\n",
      "cow has 4 legs\n"
     ]
    }
   ],
   "source": [
    "# Note dictionary key are immutable, so you can't use list as key, If you need multipart key, you should use tuple\n",
    "# or turn the key into a string\n",
    "d = {'cow': 4, 'human': 2, 'spider': 8}\n",
    "for animal, leg in d.items():\n",
    "    print(\"%s has %d legs\" %(animal, leg))\n"
   ]
  },
  {
   "cell_type": "code",
   "execution_count": 51,
   "metadata": {},
   "outputs": [
    {
     "name": "stdout",
     "output_type": "stream",
     "text": [
      "Bob's id(0) final assesment is =>PASSED\n",
      "willis's id(1) final assesment is =>PASSED\n",
      "john's id(2) final assesment is =>PASSED WITH DISTINCTION\n"
     ]
    }
   ],
   "source": [
    "\"Data Processing with dictionary\"\n",
    "\n",
    "student_data = [{'name' : 'Bob', 'id' : 0, 'scores' : [68, 75, 76, 89]},\n",
    "                {'name' : 'willis', 'id' : 1, 'scores' : [67, 95, 46, 89]},\n",
    "                {'name' : 'john', 'id': 2, 'scores': [98, 95, 96, 89]}]\n",
    "\n",
    "def process_student_data(data, pass_threshold=50, merit_threshold=80):\n",
    "    for sdata in data:\n",
    "        av = sum(sdata['scores'])/float(len(sdata['scores']))\n",
    "        \n",
    "        sdata['average'] = av\n",
    "        \n",
    "        if av > merit_threshold:\n",
    "            sdata['assesment'] = 'passed with distinction'.upper()\n",
    "        elif av > pass_threshold:\n",
    "            sdata['assesment'] = 'passed'.upper()\n",
    "        else:\n",
    "            sdata['assesment'] = 'failed'.upper()\n",
    "            \n",
    "        print(\"%s's id(%d) final assesment is =>%s\" %(sdata['name'], sdata['id'], sdata['assesment']))\n",
    "    \n",
    "process_student_data(student_data)"
   ]
  },
  {
   "cell_type": "code",
   "execution_count": 9,
   "metadata": {},
   "outputs": [
    {
     "name": "stdout",
     "output_type": "stream",
     "text": [
      "{0: 0, 2: 4, 4: 16, 6: 36, 8: 64}\n"
     ]
    }
   ],
   "source": [
    "#Use dictionary comprehension\n",
    "numbers = range(10)\n",
    "new_dict_comp = {n:n**2 for n in numbers if n%2 == 0}\n",
    "\n",
    "print(new_dict_comp)"
   ]
  },
  {
   "cell_type": "code",
   "execution_count": null,
   "metadata": {},
   "outputs": [],
   "source": []
  }
 ],
 "metadata": {
  "kernelspec": {
   "display_name": "Python 3",
   "language": "python",
   "name": "python3"
  },
  "language_info": {
   "codemirror_mode": {
    "name": "ipython",
    "version": 3
   },
   "file_extension": ".py",
   "mimetype": "text/x-python",
   "name": "python",
   "nbconvert_exporter": "python",
   "pygments_lexer": "ipython3",
   "version": "3.7.3"
  }
 },
 "nbformat": 4,
 "nbformat_minor": 2
}
