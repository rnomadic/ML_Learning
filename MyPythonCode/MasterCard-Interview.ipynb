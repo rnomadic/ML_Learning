{
  "nbformat": 4,
  "nbformat_minor": 0,
  "metadata": {
    "colab": {
      "name": "Untitled2.ipynb",
      "provenance": [],
      "authorship_tag": "ABX9TyPvrOE2CBeg/gVpxaj7zc58",
      "include_colab_link": true
    },
    "kernelspec": {
      "name": "python3",
      "display_name": "Python 3"
    },
    "language_info": {
      "name": "python"
    }
  },
  "cells": [
    {
      "cell_type": "markdown",
      "metadata": {
        "id": "view-in-github",
        "colab_type": "text"
      },
      "source": [
        "<a href=\"https://colab.research.google.com/github/rnomadic/ML_Learning/blob/main/MyPythonCode/MasterCard-Interview.ipynb\" target=\"_parent\"><img src=\"https://colab.research.google.com/assets/colab-badge.svg\" alt=\"Open In Colab\"/></a>"
      ]
    },
    {
      "cell_type": "code",
      "execution_count": null,
      "metadata": {
        "id": "k2ZVs8k24fi4"
      },
      "outputs": [],
      "source": [
        ""
      ]
    },
    {
      "cell_type": "markdown",
      "source": [
        "# **Mastercard Interview Questions**\n",
        "\n",
        "### **Q1 How will you find all the unique values in a column?**\n",
        "\n",
        "We can use unique() with column name to print the value. For below example we use this.\n",
        "\n",
        "`df1['sepal length (cm)'].unique()`"
      ],
      "metadata": {
        "id": "KN_2HdIN4kxC"
      }
    },
    {
      "cell_type": "code",
      "source": [
        "import pandas as pd\n",
        "import numpy as np\n",
        "from sklearn import datasets\n",
        "\n",
        "iris = datasets.load_iris()\n",
        "\n",
        "df1 = pd.DataFrame(data=np.c_[iris['data'], iris['target']],\n",
        "                   columns= iris['feature_names'] + ['target'])\n",
        "\n",
        "\"\"\"\n",
        "here np.c_ is actually concatening the values\n",
        "Translates slice objects to concatenation along the second axis. \n",
        "Example\n",
        "np.c_[np.array([1,2,3]), np.array([4,5,6])]\n",
        "array([[1, 4],\n",
        "       [2, 5],\n",
        "       [3, 6]])\n",
        "\n",
        "\"\"\"\n"
      ],
      "metadata": {
        "id": "GMRjxNLH5BXB"
      },
      "execution_count": 2,
      "outputs": []
    },
    {
      "cell_type": "code",
      "source": [
        "df1.columns"
      ],
      "metadata": {
        "colab": {
          "base_uri": "https://localhost:8080/"
        },
        "id": "ZWFIiYEM6pr6",
        "outputId": "bf478baa-2df7-477a-f7f5-1576ee363e94"
      },
      "execution_count": 4,
      "outputs": [
        {
          "output_type": "execute_result",
          "data": {
            "text/plain": [
              "Index(['sepal length (cm)', 'sepal width (cm)', 'petal length (cm)',\n",
              "       'petal width (cm)', 'target'],\n",
              "      dtype='object')"
            ]
          },
          "metadata": {},
          "execution_count": 4
        }
      ]
    },
    {
      "cell_type": "code",
      "source": [
        "df1['sepal length (cm)'].unique()\n"
      ],
      "metadata": {
        "colab": {
          "base_uri": "https://localhost:8080/"
        },
        "id": "Y4I01Kaw6zfS",
        "outputId": "cd3cc79c-d360-495f-9670-8d712b307aa8"
      },
      "execution_count": 5,
      "outputs": [
        {
          "output_type": "execute_result",
          "data": {
            "text/plain": [
              "array([5.1, 4.9, 4.7, 4.6, 5. , 5.4, 4.4, 4.8, 4.3, 5.8, 5.7, 5.2, 5.5,\n",
              "       4.5, 5.3, 7. , 6.4, 6.9, 6.5, 6.3, 6.6, 5.9, 6. , 6.1, 5.6, 6.7,\n",
              "       6.2, 6.8, 7.1, 7.6, 7.3, 7.2, 7.7, 7.4, 7.9])"
            ]
          },
          "metadata": {},
          "execution_count": 5
        }
      ]
    },
    {
      "cell_type": "markdown",
      "source": [
        "## **Q2 How will you rename a column?**\n",
        "\n",
        "We can use rename function like below\n",
        "\n",
        "`df1.rename(columns={'sepal length (cm)' : 'sepal length'}, inplace=True)`"
      ],
      "metadata": {
        "id": "4KIa-jOC72a3"
      }
    },
    {
      "cell_type": "code",
      "source": [
        "df1.rename(columns={'sepal length (cm)' : 'sepal length'}, inplace=True)\n",
        "df1.columns"
      ],
      "metadata": {
        "colab": {
          "base_uri": "https://localhost:8080/"
        },
        "id": "HsfNtQup9KFt",
        "outputId": "36334107-5119-4415-9bf2-0fde695bc5b8"
      },
      "execution_count": 8,
      "outputs": [
        {
          "output_type": "execute_result",
          "data": {
            "text/plain": [
              "Index(['sepal length', 'sepal width (cm)', 'petal length (cm)',\n",
              "       'petal width (cm)', 'target'],\n",
              "      dtype='object')"
            ]
          },
          "metadata": {},
          "execution_count": 8
        }
      ]
    },
    {
      "cell_type": "markdown",
      "source": [
        "## **Q3. What are various ways to combine two datasets?**\n",
        "\n",
        "The **concat()** function in pandas is used to append either columns or rows from one DataFrame to another. The concat() function does all the heavy lifting of performing concatenation operations along an axis while performing optional set logic (union or intersection) of the indexes (if any) on the other axes.\n",
        "\n",
        "\n",
        "pd.concat(\n",
        "    objs,\n",
        "    axis=0,\n",
        "    join=\"outer\",\n",
        "    ignore_index=False,\n",
        "    keys=None,\n",
        "    levels=None,\n",
        "    names=None,\n",
        "    verify_integrity=False,\n",
        "    copy=True,\n",
        ")\n",
        "\n",
        "\n",
        "\n",
        "\n",
        "\n",
        "\n",
        "\n"
      ],
      "metadata": {
        "id": "zKQG6GeZ-GoD"
      }
    },
    {
      "cell_type": "code",
      "source": [
        "# First DataFrame\n",
        "df1 = pd.DataFrame({'id': ['A01', 'A02', 'A03', 'A04'],\n",
        "                    'Name': ['ABC', 'PQR', 'DEF', 'GHI']},\n",
        "                   index=[0, 1, 2, 3])\n",
        "# Second DataFrame\n",
        "df2 = pd.DataFrame({'id': ['B05', 'B06', 'B07', 'B08'],\n",
        "                    'Name': ['XYZ', 'TUV', 'MNO', 'JKL']},\n",
        "                   index=[4, 5, 6, 7])\n",
        "  \n",
        "frames = [df1, df2]\n",
        "result = pd.concat(frames)\n",
        "display(result)"
      ],
      "metadata": {
        "colab": {
          "base_uri": "https://localhost:8080/",
          "height": 300
        },
        "id": "DBM8NQ8-_u9n",
        "outputId": "cd5e98d9-a506-49f9-a9bd-cfd0816068a9"
      },
      "execution_count": 16,
      "outputs": [
        {
          "output_type": "display_data",
          "data": {
            "text/plain": [
              "    id Name\n",
              "0  A01  ABC\n",
              "1  A02  PQR\n",
              "2  A03  DEF\n",
              "3  A04  GHI\n",
              "4  B05  XYZ\n",
              "5  B06  TUV\n",
              "6  B07  MNO\n",
              "7  B08  JKL"
            ],
            "text/html": [
              "\n",
              "  <div id=\"df-023e8654-f79e-4295-b01a-88518d2cffb5\">\n",
              "    <div class=\"colab-df-container\">\n",
              "      <div>\n",
              "<style scoped>\n",
              "    .dataframe tbody tr th:only-of-type {\n",
              "        vertical-align: middle;\n",
              "    }\n",
              "\n",
              "    .dataframe tbody tr th {\n",
              "        vertical-align: top;\n",
              "    }\n",
              "\n",
              "    .dataframe thead th {\n",
              "        text-align: right;\n",
              "    }\n",
              "</style>\n",
              "<table border=\"1\" class=\"dataframe\">\n",
              "  <thead>\n",
              "    <tr style=\"text-align: right;\">\n",
              "      <th></th>\n",
              "      <th>id</th>\n",
              "      <th>Name</th>\n",
              "    </tr>\n",
              "  </thead>\n",
              "  <tbody>\n",
              "    <tr>\n",
              "      <th>0</th>\n",
              "      <td>A01</td>\n",
              "      <td>ABC</td>\n",
              "    </tr>\n",
              "    <tr>\n",
              "      <th>1</th>\n",
              "      <td>A02</td>\n",
              "      <td>PQR</td>\n",
              "    </tr>\n",
              "    <tr>\n",
              "      <th>2</th>\n",
              "      <td>A03</td>\n",
              "      <td>DEF</td>\n",
              "    </tr>\n",
              "    <tr>\n",
              "      <th>3</th>\n",
              "      <td>A04</td>\n",
              "      <td>GHI</td>\n",
              "    </tr>\n",
              "    <tr>\n",
              "      <th>4</th>\n",
              "      <td>B05</td>\n",
              "      <td>XYZ</td>\n",
              "    </tr>\n",
              "    <tr>\n",
              "      <th>5</th>\n",
              "      <td>B06</td>\n",
              "      <td>TUV</td>\n",
              "    </tr>\n",
              "    <tr>\n",
              "      <th>6</th>\n",
              "      <td>B07</td>\n",
              "      <td>MNO</td>\n",
              "    </tr>\n",
              "    <tr>\n",
              "      <th>7</th>\n",
              "      <td>B08</td>\n",
              "      <td>JKL</td>\n",
              "    </tr>\n",
              "  </tbody>\n",
              "</table>\n",
              "</div>\n",
              "      <button class=\"colab-df-convert\" onclick=\"convertToInteractive('df-023e8654-f79e-4295-b01a-88518d2cffb5')\"\n",
              "              title=\"Convert this dataframe to an interactive table.\"\n",
              "              style=\"display:none;\">\n",
              "        \n",
              "  <svg xmlns=\"http://www.w3.org/2000/svg\" height=\"24px\"viewBox=\"0 0 24 24\"\n",
              "       width=\"24px\">\n",
              "    <path d=\"M0 0h24v24H0V0z\" fill=\"none\"/>\n",
              "    <path d=\"M18.56 5.44l.94 2.06.94-2.06 2.06-.94-2.06-.94-.94-2.06-.94 2.06-2.06.94zm-11 1L8.5 8.5l.94-2.06 2.06-.94-2.06-.94L8.5 2.5l-.94 2.06-2.06.94zm10 10l.94 2.06.94-2.06 2.06-.94-2.06-.94-.94-2.06-.94 2.06-2.06.94z\"/><path d=\"M17.41 7.96l-1.37-1.37c-.4-.4-.92-.59-1.43-.59-.52 0-1.04.2-1.43.59L10.3 9.45l-7.72 7.72c-.78.78-.78 2.05 0 2.83L4 21.41c.39.39.9.59 1.41.59.51 0 1.02-.2 1.41-.59l7.78-7.78 2.81-2.81c.8-.78.8-2.07 0-2.86zM5.41 20L4 18.59l7.72-7.72 1.47 1.35L5.41 20z\"/>\n",
              "  </svg>\n",
              "      </button>\n",
              "      \n",
              "  <style>\n",
              "    .colab-df-container {\n",
              "      display:flex;\n",
              "      flex-wrap:wrap;\n",
              "      gap: 12px;\n",
              "    }\n",
              "\n",
              "    .colab-df-convert {\n",
              "      background-color: #E8F0FE;\n",
              "      border: none;\n",
              "      border-radius: 50%;\n",
              "      cursor: pointer;\n",
              "      display: none;\n",
              "      fill: #1967D2;\n",
              "      height: 32px;\n",
              "      padding: 0 0 0 0;\n",
              "      width: 32px;\n",
              "    }\n",
              "\n",
              "    .colab-df-convert:hover {\n",
              "      background-color: #E2EBFA;\n",
              "      box-shadow: 0px 1px 2px rgba(60, 64, 67, 0.3), 0px 1px 3px 1px rgba(60, 64, 67, 0.15);\n",
              "      fill: #174EA6;\n",
              "    }\n",
              "\n",
              "    [theme=dark] .colab-df-convert {\n",
              "      background-color: #3B4455;\n",
              "      fill: #D2E3FC;\n",
              "    }\n",
              "\n",
              "    [theme=dark] .colab-df-convert:hover {\n",
              "      background-color: #434B5C;\n",
              "      box-shadow: 0px 1px 3px 1px rgba(0, 0, 0, 0.15);\n",
              "      filter: drop-shadow(0px 1px 2px rgba(0, 0, 0, 0.3));\n",
              "      fill: #FFFFFF;\n",
              "    }\n",
              "  </style>\n",
              "\n",
              "      <script>\n",
              "        const buttonEl =\n",
              "          document.querySelector('#df-023e8654-f79e-4295-b01a-88518d2cffb5 button.colab-df-convert');\n",
              "        buttonEl.style.display =\n",
              "          google.colab.kernel.accessAllowed ? 'block' : 'none';\n",
              "\n",
              "        async function convertToInteractive(key) {\n",
              "          const element = document.querySelector('#df-023e8654-f79e-4295-b01a-88518d2cffb5');\n",
              "          const dataTable =\n",
              "            await google.colab.kernel.invokeFunction('convertToInteractive',\n",
              "                                                     [key], {});\n",
              "          if (!dataTable) return;\n",
              "\n",
              "          const docLinkHtml = 'Like what you see? Visit the ' +\n",
              "            '<a target=\"_blank\" href=https://colab.research.google.com/notebooks/data_table.ipynb>data table notebook</a>'\n",
              "            + ' to learn more about interactive tables.';\n",
              "          element.innerHTML = '';\n",
              "          dataTable['output_type'] = 'display_data';\n",
              "          await google.colab.output.renderOutput(dataTable, element);\n",
              "          const docLink = document.createElement('div');\n",
              "          docLink.innerHTML = docLinkHtml;\n",
              "          element.appendChild(docLink);\n",
              "        }\n",
              "      </script>\n",
              "    </div>\n",
              "  </div>\n",
              "  "
            ]
          },
          "metadata": {}
        }
      ]
    },
    {
      "cell_type": "code",
      "source": [
        "## Joining\n",
        "import pandas as pd\n",
        "  \n",
        "df1 = pd.DataFrame({'id': ['A01', 'A02', 'A03', 'A04'],\n",
        "                    'Name': ['ABC', 'PQR', 'DEF', 'GHI']})\n",
        "  \n",
        "df3 = pd.DataFrame({'City': ['MUMBAI', 'PUNE', 'MUMBAI', 'DELHI'],\n",
        "                    'Age': ['12', '13', '14', '12']})\n",
        "  \n",
        "# the default behaviour is join='outer'\n",
        "# inner join\n",
        "  \n",
        "result = pd.concat([df1, df3], axis=1, join='inner')\n",
        "display(result)"
      ],
      "metadata": {
        "colab": {
          "base_uri": "https://localhost:8080/",
          "height": 175
        },
        "id": "Wm0FZcOTAroC",
        "outputId": "115e4555-b86f-4c1c-fac9-04addf9d470c"
      },
      "execution_count": 15,
      "outputs": [
        {
          "output_type": "display_data",
          "data": {
            "text/plain": [
              "    id Name    City Age\n",
              "0  A01  ABC  MUMBAI  12\n",
              "1  A02  PQR    PUNE  13\n",
              "2  A03  DEF  MUMBAI  14\n",
              "3  A04  GHI   DELHI  12"
            ],
            "text/html": [
              "\n",
              "  <div id=\"df-83f30d5e-443e-4e88-b783-c4c783f3e8af\">\n",
              "    <div class=\"colab-df-container\">\n",
              "      <div>\n",
              "<style scoped>\n",
              "    .dataframe tbody tr th:only-of-type {\n",
              "        vertical-align: middle;\n",
              "    }\n",
              "\n",
              "    .dataframe tbody tr th {\n",
              "        vertical-align: top;\n",
              "    }\n",
              "\n",
              "    .dataframe thead th {\n",
              "        text-align: right;\n",
              "    }\n",
              "</style>\n",
              "<table border=\"1\" class=\"dataframe\">\n",
              "  <thead>\n",
              "    <tr style=\"text-align: right;\">\n",
              "      <th></th>\n",
              "      <th>id</th>\n",
              "      <th>Name</th>\n",
              "      <th>City</th>\n",
              "      <th>Age</th>\n",
              "    </tr>\n",
              "  </thead>\n",
              "  <tbody>\n",
              "    <tr>\n",
              "      <th>0</th>\n",
              "      <td>A01</td>\n",
              "      <td>ABC</td>\n",
              "      <td>MUMBAI</td>\n",
              "      <td>12</td>\n",
              "    </tr>\n",
              "    <tr>\n",
              "      <th>1</th>\n",
              "      <td>A02</td>\n",
              "      <td>PQR</td>\n",
              "      <td>PUNE</td>\n",
              "      <td>13</td>\n",
              "    </tr>\n",
              "    <tr>\n",
              "      <th>2</th>\n",
              "      <td>A03</td>\n",
              "      <td>DEF</td>\n",
              "      <td>MUMBAI</td>\n",
              "      <td>14</td>\n",
              "    </tr>\n",
              "    <tr>\n",
              "      <th>3</th>\n",
              "      <td>A04</td>\n",
              "      <td>GHI</td>\n",
              "      <td>DELHI</td>\n",
              "      <td>12</td>\n",
              "    </tr>\n",
              "  </tbody>\n",
              "</table>\n",
              "</div>\n",
              "      <button class=\"colab-df-convert\" onclick=\"convertToInteractive('df-83f30d5e-443e-4e88-b783-c4c783f3e8af')\"\n",
              "              title=\"Convert this dataframe to an interactive table.\"\n",
              "              style=\"display:none;\">\n",
              "        \n",
              "  <svg xmlns=\"http://www.w3.org/2000/svg\" height=\"24px\"viewBox=\"0 0 24 24\"\n",
              "       width=\"24px\">\n",
              "    <path d=\"M0 0h24v24H0V0z\" fill=\"none\"/>\n",
              "    <path d=\"M18.56 5.44l.94 2.06.94-2.06 2.06-.94-2.06-.94-.94-2.06-.94 2.06-2.06.94zm-11 1L8.5 8.5l.94-2.06 2.06-.94-2.06-.94L8.5 2.5l-.94 2.06-2.06.94zm10 10l.94 2.06.94-2.06 2.06-.94-2.06-.94-.94-2.06-.94 2.06-2.06.94z\"/><path d=\"M17.41 7.96l-1.37-1.37c-.4-.4-.92-.59-1.43-.59-.52 0-1.04.2-1.43.59L10.3 9.45l-7.72 7.72c-.78.78-.78 2.05 0 2.83L4 21.41c.39.39.9.59 1.41.59.51 0 1.02-.2 1.41-.59l7.78-7.78 2.81-2.81c.8-.78.8-2.07 0-2.86zM5.41 20L4 18.59l7.72-7.72 1.47 1.35L5.41 20z\"/>\n",
              "  </svg>\n",
              "      </button>\n",
              "      \n",
              "  <style>\n",
              "    .colab-df-container {\n",
              "      display:flex;\n",
              "      flex-wrap:wrap;\n",
              "      gap: 12px;\n",
              "    }\n",
              "\n",
              "    .colab-df-convert {\n",
              "      background-color: #E8F0FE;\n",
              "      border: none;\n",
              "      border-radius: 50%;\n",
              "      cursor: pointer;\n",
              "      display: none;\n",
              "      fill: #1967D2;\n",
              "      height: 32px;\n",
              "      padding: 0 0 0 0;\n",
              "      width: 32px;\n",
              "    }\n",
              "\n",
              "    .colab-df-convert:hover {\n",
              "      background-color: #E2EBFA;\n",
              "      box-shadow: 0px 1px 2px rgba(60, 64, 67, 0.3), 0px 1px 3px 1px rgba(60, 64, 67, 0.15);\n",
              "      fill: #174EA6;\n",
              "    }\n",
              "\n",
              "    [theme=dark] .colab-df-convert {\n",
              "      background-color: #3B4455;\n",
              "      fill: #D2E3FC;\n",
              "    }\n",
              "\n",
              "    [theme=dark] .colab-df-convert:hover {\n",
              "      background-color: #434B5C;\n",
              "      box-shadow: 0px 1px 3px 1px rgba(0, 0, 0, 0.15);\n",
              "      filter: drop-shadow(0px 1px 2px rgba(0, 0, 0, 0.3));\n",
              "      fill: #FFFFFF;\n",
              "    }\n",
              "  </style>\n",
              "\n",
              "      <script>\n",
              "        const buttonEl =\n",
              "          document.querySelector('#df-83f30d5e-443e-4e88-b783-c4c783f3e8af button.colab-df-convert');\n",
              "        buttonEl.style.display =\n",
              "          google.colab.kernel.accessAllowed ? 'block' : 'none';\n",
              "\n",
              "        async function convertToInteractive(key) {\n",
              "          const element = document.querySelector('#df-83f30d5e-443e-4e88-b783-c4c783f3e8af');\n",
              "          const dataTable =\n",
              "            await google.colab.kernel.invokeFunction('convertToInteractive',\n",
              "                                                     [key], {});\n",
              "          if (!dataTable) return;\n",
              "\n",
              "          const docLinkHtml = 'Like what you see? Visit the ' +\n",
              "            '<a target=\"_blank\" href=https://colab.research.google.com/notebooks/data_table.ipynb>data table notebook</a>'\n",
              "            + ' to learn more about interactive tables.';\n",
              "          element.innerHTML = '';\n",
              "          dataTable['output_type'] = 'display_data';\n",
              "          await google.colab.output.renderOutput(dataTable, element);\n",
              "          const docLink = document.createElement('div');\n",
              "          docLink.innerHTML = docLinkHtml;\n",
              "          element.appendChild(docLink);\n",
              "        }\n",
              "      </script>\n",
              "    </div>\n",
              "  </div>\n",
              "  "
            ]
          },
          "metadata": {}
        }
      ]
    },
    {
      "cell_type": "markdown",
      "source": [
        "## **Q4. How will you load a dataset which is too large in size to hold in memory?**\n",
        "\n",
        "https://towardsdatascience.com/what-to-do-when-your-data-is-too-big-for-your-memory-65c84c600585\n",
        "\n",
        "### Technique 1: Lossless Compression\n",
        "#### Load data by columns\n"
      ],
      "metadata": {
        "id": "sOD14kG6Cxii"
      }
    },
    {
      "cell_type": "code",
      "source": [
        "#Import needed library\n",
        "import pandas as pd\n",
        "#Dataset\n",
        "csv = \"https://raw.githubusercontent.com/nytimes/covid-19-data/master/us-counties.csv\"\n",
        "#Load entire dataset\n",
        "data = pd.read_csv(csv)\n",
        "data.info(verbose=False, memory_usage=\"deep\")\n",
        "print()\n",
        "#Load only two columns\n",
        "df_2col = pd.read_csv(csv , usecols=[\"county\", \"cases\"])\n",
        "df_2col.info(verbose=False, memory_usage=\"deep\")"
      ],
      "metadata": {
        "colab": {
          "base_uri": "https://localhost:8080/"
        },
        "id": "IrjCMjhJNP9u",
        "outputId": "124abb0d-f7da-40e0-fbf4-3c2601d70f77"
      },
      "execution_count": 18,
      "outputs": [
        {
          "output_type": "stream",
          "name": "stdout",
          "text": [
            "<class 'pandas.core.frame.DataFrame'>\n",
            "RangeIndex: 2502832 entries, 0 to 2502831\n",
            "Columns: 6 entries, date to deaths\n",
            "dtypes: float64(2), int64(1), object(3)\n",
            "memory usage: 526.0 MB\n",
            "\n",
            "<class 'pandas.core.frame.DataFrame'>\n",
            "RangeIndex: 2502832 entries, 0 to 2502831\n",
            "Columns: 2 entries, county to cases\n",
            "dtypes: int64(1), object(1)\n",
            "memory usage: 172.3 MB\n"
          ]
        }
      ]
    },
    {
      "cell_type": "markdown",
      "source": [
        "### Technique 2: Manipulate datatypes\n",
        "int8 can store integers from -128 to 127.\n",
        "\n",
        "int16 can store integers from -32768 to 32767.\n",
        "\n",
        "int64 can store integers from -9223372036854775808 to 9223372036854775807."
      ],
      "metadata": {
        "id": "ZGnoOUwIN5p0"
      }
    },
    {
      "cell_type": "code",
      "source": [
        "df = pd.read_csv(csv, usecols=[\"county\", \"cases\"])\n",
        "df[\"cases\"].memory_usage(index=False, deep=True)"
      ],
      "metadata": {
        "colab": {
          "base_uri": "https://localhost:8080/"
        },
        "id": "v-EMGVnOOeUb",
        "outputId": "73366959-ee57-4cda-9ff1-81e447882aad"
      },
      "execution_count": 19,
      "outputs": [
        {
          "output_type": "execute_result",
          "data": {
            "text/plain": [
              "20022656"
            ]
          },
          "metadata": {},
          "execution_count": 19
        }
      ]
    },
    {
      "cell_type": "code",
      "source": [
        "df = pd.read_csv(csv, usecols=[\"county\", \"cases\"], dtype={\"cases\" : \"int16\"})\n",
        "df[\"cases\"].memory_usage(index=False, deep=True)\n",
        "\n",
        "## You can see 4 times reduction"
      ],
      "metadata": {
        "colab": {
          "base_uri": "https://localhost:8080/"
        },
        "id": "Y6twibb8PGbo",
        "outputId": "38ca5790-0bf5-4377-8c97-13b75b404eea"
      },
      "execution_count": 20,
      "outputs": [
        {
          "output_type": "execute_result",
          "data": {
            "text/plain": [
              "5005664"
            ]
          },
          "metadata": {},
          "execution_count": 20
        }
      ]
    },
    {
      "cell_type": "markdown",
      "source": [
        "### Technique 3: Chunking\n",
        "That is cutting a large dataset into smaller chunks and then processing those chunks individually. After all the chunks have been processed, you can compare the results and calculate the final findings."
      ],
      "metadata": {
        "id": "U6zyHaVlQQhz"
      }
    },
    {
      "cell_type": "code",
      "source": [
        "import pandas as pd\n",
        "#Dataset \n",
        "csv = \"https://raw.githubusercontent.com/nytimes/covid-19-data/master/us-counties.csv\"\n",
        "#Loop different chuncks and get the max of each one \n",
        "result = {}\n",
        "for chunk in pd.read_csv(csv, chunksize=100):\n",
        "    max_case = chunk[\"cases\"].max()\n",
        "    max_case_county = chunk.loc[chunk['cases'] == max_case, 'county'].iloc[0]\n",
        "    result[max_case_county] = max_case\n",
        "#Display results\n",
        "print(max(result, key=result.get) , result[max(result, key=result.get)])"
      ],
      "metadata": {
        "colab": {
          "base_uri": "https://localhost:8080/"
        },
        "id": "RNuumop6QeUq",
        "outputId": "c6725733-7fd5-4caf-d100-fb5644ee6e0e"
      },
      "execution_count": 21,
      "outputs": [
        {
          "output_type": "stream",
          "name": "stdout",
          "text": [
            "Los Angeles 2908425\n"
          ]
        }
      ]
    },
    {
      "cell_type": "markdown",
      "source": [
        "### Technique 4: Indexing\n",
        "The above code took about 2 mins to execute.\n",
        "\n",
        "Chunking is excellent if you need to load your dataset only once, but if you want to load multiple datasets, then indexing is the way to go.\n",
        "\n",
        "For example, let’s say I want to get the cases for a specific state. In this case, chunking would make sense; I could write a simple function that accomplishes that."
      ],
      "metadata": {
        "id": "7UPwpmJXQw6j"
      }
    },
    {
      "cell_type": "code",
      "source": [
        "def get_state_info(name):\n",
        "  csv = \"https://raw.githubusercontent.com/nytimes/covid-19-data/master/us-counties.csv\"\n",
        "  return pd.concat(df[df['state']==name] for df in \n",
        "                   pd.read_csv(csv, chunksize=100)\n",
        "                   )"
      ],
      "metadata": {
        "id": "7P6ljX68RlFa"
      },
      "execution_count": 22,
      "outputs": []
    },
    {
      "cell_type": "markdown",
      "source": [
        "So, my small function loads all the rows in each chunk but only cares about the ones for the state I want. **That leads to significant overhead**. I can avoid having this by using a database next to Pandas. The simplest one I can use is **SQLite.**\n",
        "\n",
        "And then re-write the get_state_info function"
      ],
      "metadata": {
        "id": "bOoRzydbSXqq"
      }
    },
    {
      "cell_type": "code",
      "source": [
        "## I first need to load my data frame into an SQLite database.\n",
        "import sqlite3\n",
        "csv = \"https://raw.githubusercontent.com/nytimes/covid-19-data/master/us-counties.csv\"\n",
        "# Create a new database file:\n",
        "db = sqlite3.connect(\"cases.sqlite\")\n",
        "# Load the CSV in chunks:\n",
        "for c in pd.read_csv(csv, chunksize=100):\n",
        "    # Append all rows to a new database table\n",
        "    c.to_sql(\"cases\", db, if_exists=\"append\")\n",
        "# Add an index on the 'state' column:\n",
        "db.execute(\"CREATE INDEX state ON cases(state)\") \n",
        "db.close()"
      ],
      "metadata": {
        "id": "-6OucuXQTMRb"
      },
      "execution_count": null,
      "outputs": []
    },
    {
      "cell_type": "code",
      "source": [
        "def get_state_info(name):\n",
        "  connection = sqlite3.connect(\"cases.sqlite\")\n",
        "  query = \"select * from cases where state= ?\"\n",
        "  values= (name)\n",
        "  return pd.read_sql_query(query, connection, values)"
      ],
      "metadata": {
        "id": "36yX5EhFT89H"
      },
      "execution_count": null,
      "outputs": []
    }
  ]
}