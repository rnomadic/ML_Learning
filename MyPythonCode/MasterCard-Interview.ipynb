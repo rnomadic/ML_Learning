{
  "nbformat": 4,
  "nbformat_minor": 0,
  "metadata": {
    "colab": {
      "name": "Untitled2.ipynb",
      "provenance": [],
      "authorship_tag": "ABX9TyMj2GQnizYYPOmEImwFDaKh",
      "include_colab_link": true
    },
    "kernelspec": {
      "name": "python3",
      "display_name": "Python 3"
    },
    "language_info": {
      "name": "python"
    }
  },
  "cells": [
    {
      "cell_type": "markdown",
      "metadata": {
        "id": "view-in-github",
        "colab_type": "text"
      },
      "source": [
        "<a href=\"https://colab.research.google.com/github/rnomadic/ML_Learning/blob/main/MyPythonCode/MasterCard-Interview.ipynb\" target=\"_parent\"><img src=\"https://colab.research.google.com/assets/colab-badge.svg\" alt=\"Open In Colab\"/></a>"
      ]
    },
    {
      "cell_type": "code",
      "execution_count": null,
      "metadata": {
        "id": "k2ZVs8k24fi4"
      },
      "outputs": [],
      "source": [
        ""
      ]
    },
    {
      "cell_type": "markdown",
      "source": [
        "# **Mastercard Interview Questions**\n",
        "\n",
        "### **Q1 How will you find all the unique values in a column?**\n",
        "\n",
        "We can use unique() with column name to print the value. For below example we use this.\n",
        "\n",
        "`df1['sepal length (cm)'].unique()`"
      ],
      "metadata": {
        "id": "KN_2HdIN4kxC"
      }
    },
    {
      "cell_type": "code",
      "source": [
        "import pandas as pd\n",
        "import numpy as np\n",
        "from sklearn import datasets\n",
        "\n",
        "iris = datasets.load_iris()\n",
        "\n",
        "df1 = pd.DataFrame(data=np.c_[iris['data'], iris['target']],\n",
        "                   columns= iris['feature_names'] + ['target'])\n",
        "\n",
        "\"\"\"\n",
        "here np.c_ is actually concatening the values\n",
        "Translates slice objects to concatenation along the second axis. \n",
        "Example\n",
        "np.c_[np.array([1,2,3]), np.array([4,5,6])]\n",
        "array([[1, 4],\n",
        "       [2, 5],\n",
        "       [3, 6]])\n",
        "\n",
        "\"\"\"\n"
      ],
      "metadata": {
        "id": "GMRjxNLH5BXB"
      },
      "execution_count": null,
      "outputs": []
    },
    {
      "cell_type": "code",
      "source": [
        "df1.columns"
      ],
      "metadata": {
        "colab": {
          "base_uri": "https://localhost:8080/"
        },
        "id": "ZWFIiYEM6pr6",
        "outputId": "bf478baa-2df7-477a-f7f5-1576ee363e94"
      },
      "execution_count": null,
      "outputs": [
        {
          "output_type": "execute_result",
          "data": {
            "text/plain": [
              "Index(['sepal length (cm)', 'sepal width (cm)', 'petal length (cm)',\n",
              "       'petal width (cm)', 'target'],\n",
              "      dtype='object')"
            ]
          },
          "metadata": {},
          "execution_count": 4
        }
      ]
    },
    {
      "cell_type": "code",
      "source": [
        "df1['sepal length (cm)'].unique()\n"
      ],
      "metadata": {
        "colab": {
          "base_uri": "https://localhost:8080/"
        },
        "id": "Y4I01Kaw6zfS",
        "outputId": "cd3cc79c-d360-495f-9670-8d712b307aa8"
      },
      "execution_count": null,
      "outputs": [
        {
          "output_type": "execute_result",
          "data": {
            "text/plain": [
              "array([5.1, 4.9, 4.7, 4.6, 5. , 5.4, 4.4, 4.8, 4.3, 5.8, 5.7, 5.2, 5.5,\n",
              "       4.5, 5.3, 7. , 6.4, 6.9, 6.5, 6.3, 6.6, 5.9, 6. , 6.1, 5.6, 6.7,\n",
              "       6.2, 6.8, 7.1, 7.6, 7.3, 7.2, 7.7, 7.4, 7.9])"
            ]
          },
          "metadata": {},
          "execution_count": 5
        }
      ]
    },
    {
      "cell_type": "markdown",
      "source": [
        "## **Q2 How will you rename a column?**\n",
        "\n",
        "We can use rename function like below\n",
        "\n",
        "`df1.rename(columns={'sepal length (cm)' : 'sepal length'}, inplace=True)`"
      ],
      "metadata": {
        "id": "4KIa-jOC72a3"
      }
    },
    {
      "cell_type": "code",
      "source": [
        "df1.rename(columns={'sepal length (cm)' : 'sepal length'}, inplace=True)\n",
        "df1.columns"
      ],
      "metadata": {
        "colab": {
          "base_uri": "https://localhost:8080/"
        },
        "id": "HsfNtQup9KFt",
        "outputId": "36334107-5119-4415-9bf2-0fde695bc5b8"
      },
      "execution_count": null,
      "outputs": [
        {
          "output_type": "execute_result",
          "data": {
            "text/plain": [
              "Index(['sepal length', 'sepal width (cm)', 'petal length (cm)',\n",
              "       'petal width (cm)', 'target'],\n",
              "      dtype='object')"
            ]
          },
          "metadata": {},
          "execution_count": 8
        }
      ]
    },
    {
      "cell_type": "markdown",
      "source": [
        "## **Q3. What are various ways to combine two datasets?**\n",
        "\n",
        "The **concat()** function in pandas is used to append either columns or rows from one DataFrame to another. The concat() function does all the heavy lifting of performing concatenation operations along an axis while performing optional set logic (union or intersection) of the indexes (if any) on the other axes.\n",
        "\n",
        "\n",
        "pd.concat(\n",
        "    objs,\n",
        "    axis=0,\n",
        "    join=\"outer\",\n",
        "    ignore_index=False,\n",
        "    keys=None,\n",
        "    levels=None,\n",
        "    names=None,\n",
        "    verify_integrity=False,\n",
        "    copy=True,\n",
        ")\n",
        "\n",
        "\n",
        "\n",
        "\n",
        "\n",
        "\n",
        "\n"
      ],
      "metadata": {
        "id": "zKQG6GeZ-GoD"
      }
    },
    {
      "cell_type": "code",
      "source": [
        "# First DataFrame\n",
        "df1 = pd.DataFrame({'id': ['A01', 'A02', 'A03', 'A04'],\n",
        "                    'Name': ['ABC', 'PQR', 'DEF', 'GHI']},\n",
        "                   index=[0, 1, 2, 3])\n",
        "# Second DataFrame\n",
        "df2 = pd.DataFrame({'id': ['B05', 'B06', 'B07', 'B08'],\n",
        "                    'Name': ['XYZ', 'TUV', 'MNO', 'JKL']},\n",
        "                   index=[4, 5, 6, 7])\n",
        "  \n",
        "frames = [df1, df2]\n",
        "result = pd.concat(frames)\n",
        "display(result)"
      ],
      "metadata": {
        "colab": {
          "base_uri": "https://localhost:8080/",
          "height": 300
        },
        "id": "DBM8NQ8-_u9n",
        "outputId": "cd5e98d9-a506-49f9-a9bd-cfd0816068a9"
      },
      "execution_count": null,
      "outputs": [
        {
          "output_type": "display_data",
          "data": {
            "text/plain": [
              "    id Name\n",
              "0  A01  ABC\n",
              "1  A02  PQR\n",
              "2  A03  DEF\n",
              "3  A04  GHI\n",
              "4  B05  XYZ\n",
              "5  B06  TUV\n",
              "6  B07  MNO\n",
              "7  B08  JKL"
            ],
            "text/html": [
              "\n",
              "  <div id=\"df-023e8654-f79e-4295-b01a-88518d2cffb5\">\n",
              "    <div class=\"colab-df-container\">\n",
              "      <div>\n",
              "<style scoped>\n",
              "    .dataframe tbody tr th:only-of-type {\n",
              "        vertical-align: middle;\n",
              "    }\n",
              "\n",
              "    .dataframe tbody tr th {\n",
              "        vertical-align: top;\n",
              "    }\n",
              "\n",
              "    .dataframe thead th {\n",
              "        text-align: right;\n",
              "    }\n",
              "</style>\n",
              "<table border=\"1\" class=\"dataframe\">\n",
              "  <thead>\n",
              "    <tr style=\"text-align: right;\">\n",
              "      <th></th>\n",
              "      <th>id</th>\n",
              "      <th>Name</th>\n",
              "    </tr>\n",
              "  </thead>\n",
              "  <tbody>\n",
              "    <tr>\n",
              "      <th>0</th>\n",
              "      <td>A01</td>\n",
              "      <td>ABC</td>\n",
              "    </tr>\n",
              "    <tr>\n",
              "      <th>1</th>\n",
              "      <td>A02</td>\n",
              "      <td>PQR</td>\n",
              "    </tr>\n",
              "    <tr>\n",
              "      <th>2</th>\n",
              "      <td>A03</td>\n",
              "      <td>DEF</td>\n",
              "    </tr>\n",
              "    <tr>\n",
              "      <th>3</th>\n",
              "      <td>A04</td>\n",
              "      <td>GHI</td>\n",
              "    </tr>\n",
              "    <tr>\n",
              "      <th>4</th>\n",
              "      <td>B05</td>\n",
              "      <td>XYZ</td>\n",
              "    </tr>\n",
              "    <tr>\n",
              "      <th>5</th>\n",
              "      <td>B06</td>\n",
              "      <td>TUV</td>\n",
              "    </tr>\n",
              "    <tr>\n",
              "      <th>6</th>\n",
              "      <td>B07</td>\n",
              "      <td>MNO</td>\n",
              "    </tr>\n",
              "    <tr>\n",
              "      <th>7</th>\n",
              "      <td>B08</td>\n",
              "      <td>JKL</td>\n",
              "    </tr>\n",
              "  </tbody>\n",
              "</table>\n",
              "</div>\n",
              "      <button class=\"colab-df-convert\" onclick=\"convertToInteractive('df-023e8654-f79e-4295-b01a-88518d2cffb5')\"\n",
              "              title=\"Convert this dataframe to an interactive table.\"\n",
              "              style=\"display:none;\">\n",
              "        \n",
              "  <svg xmlns=\"http://www.w3.org/2000/svg\" height=\"24px\"viewBox=\"0 0 24 24\"\n",
              "       width=\"24px\">\n",
              "    <path d=\"M0 0h24v24H0V0z\" fill=\"none\"/>\n",
              "    <path d=\"M18.56 5.44l.94 2.06.94-2.06 2.06-.94-2.06-.94-.94-2.06-.94 2.06-2.06.94zm-11 1L8.5 8.5l.94-2.06 2.06-.94-2.06-.94L8.5 2.5l-.94 2.06-2.06.94zm10 10l.94 2.06.94-2.06 2.06-.94-2.06-.94-.94-2.06-.94 2.06-2.06.94z\"/><path d=\"M17.41 7.96l-1.37-1.37c-.4-.4-.92-.59-1.43-.59-.52 0-1.04.2-1.43.59L10.3 9.45l-7.72 7.72c-.78.78-.78 2.05 0 2.83L4 21.41c.39.39.9.59 1.41.59.51 0 1.02-.2 1.41-.59l7.78-7.78 2.81-2.81c.8-.78.8-2.07 0-2.86zM5.41 20L4 18.59l7.72-7.72 1.47 1.35L5.41 20z\"/>\n",
              "  </svg>\n",
              "      </button>\n",
              "      \n",
              "  <style>\n",
              "    .colab-df-container {\n",
              "      display:flex;\n",
              "      flex-wrap:wrap;\n",
              "      gap: 12px;\n",
              "    }\n",
              "\n",
              "    .colab-df-convert {\n",
              "      background-color: #E8F0FE;\n",
              "      border: none;\n",
              "      border-radius: 50%;\n",
              "      cursor: pointer;\n",
              "      display: none;\n",
              "      fill: #1967D2;\n",
              "      height: 32px;\n",
              "      padding: 0 0 0 0;\n",
              "      width: 32px;\n",
              "    }\n",
              "\n",
              "    .colab-df-convert:hover {\n",
              "      background-color: #E2EBFA;\n",
              "      box-shadow: 0px 1px 2px rgba(60, 64, 67, 0.3), 0px 1px 3px 1px rgba(60, 64, 67, 0.15);\n",
              "      fill: #174EA6;\n",
              "    }\n",
              "\n",
              "    [theme=dark] .colab-df-convert {\n",
              "      background-color: #3B4455;\n",
              "      fill: #D2E3FC;\n",
              "    }\n",
              "\n",
              "    [theme=dark] .colab-df-convert:hover {\n",
              "      background-color: #434B5C;\n",
              "      box-shadow: 0px 1px 3px 1px rgba(0, 0, 0, 0.15);\n",
              "      filter: drop-shadow(0px 1px 2px rgba(0, 0, 0, 0.3));\n",
              "      fill: #FFFFFF;\n",
              "    }\n",
              "  </style>\n",
              "\n",
              "      <script>\n",
              "        const buttonEl =\n",
              "          document.querySelector('#df-023e8654-f79e-4295-b01a-88518d2cffb5 button.colab-df-convert');\n",
              "        buttonEl.style.display =\n",
              "          google.colab.kernel.accessAllowed ? 'block' : 'none';\n",
              "\n",
              "        async function convertToInteractive(key) {\n",
              "          const element = document.querySelector('#df-023e8654-f79e-4295-b01a-88518d2cffb5');\n",
              "          const dataTable =\n",
              "            await google.colab.kernel.invokeFunction('convertToInteractive',\n",
              "                                                     [key], {});\n",
              "          if (!dataTable) return;\n",
              "\n",
              "          const docLinkHtml = 'Like what you see? Visit the ' +\n",
              "            '<a target=\"_blank\" href=https://colab.research.google.com/notebooks/data_table.ipynb>data table notebook</a>'\n",
              "            + ' to learn more about interactive tables.';\n",
              "          element.innerHTML = '';\n",
              "          dataTable['output_type'] = 'display_data';\n",
              "          await google.colab.output.renderOutput(dataTable, element);\n",
              "          const docLink = document.createElement('div');\n",
              "          docLink.innerHTML = docLinkHtml;\n",
              "          element.appendChild(docLink);\n",
              "        }\n",
              "      </script>\n",
              "    </div>\n",
              "  </div>\n",
              "  "
            ]
          },
          "metadata": {}
        }
      ]
    },
    {
      "cell_type": "code",
      "source": [
        "## Joining\n",
        "import pandas as pd\n",
        "  \n",
        "df1 = pd.DataFrame({'id': ['A01', 'A02', 'A03', 'A04'],\n",
        "                    'Name': ['ABC', 'PQR', 'DEF', 'GHI']})\n",
        "  \n",
        "df3 = pd.DataFrame({'City': ['MUMBAI', 'PUNE', 'MUMBAI', 'DELHI'],\n",
        "                    'Age': ['12', '13', '14', '12']})\n",
        "  \n",
        "# the default behaviour is join='outer'\n",
        "# inner join\n",
        "  \n",
        "result = pd.concat([df1, df3], axis=1, join='inner')\n",
        "display(result)"
      ],
      "metadata": {
        "colab": {
          "base_uri": "https://localhost:8080/",
          "height": 175
        },
        "id": "Wm0FZcOTAroC",
        "outputId": "115e4555-b86f-4c1c-fac9-04addf9d470c"
      },
      "execution_count": null,
      "outputs": [
        {
          "output_type": "display_data",
          "data": {
            "text/plain": [
              "    id Name    City Age\n",
              "0  A01  ABC  MUMBAI  12\n",
              "1  A02  PQR    PUNE  13\n",
              "2  A03  DEF  MUMBAI  14\n",
              "3  A04  GHI   DELHI  12"
            ],
            "text/html": [
              "\n",
              "  <div id=\"df-83f30d5e-443e-4e88-b783-c4c783f3e8af\">\n",
              "    <div class=\"colab-df-container\">\n",
              "      <div>\n",
              "<style scoped>\n",
              "    .dataframe tbody tr th:only-of-type {\n",
              "        vertical-align: middle;\n",
              "    }\n",
              "\n",
              "    .dataframe tbody tr th {\n",
              "        vertical-align: top;\n",
              "    }\n",
              "\n",
              "    .dataframe thead th {\n",
              "        text-align: right;\n",
              "    }\n",
              "</style>\n",
              "<table border=\"1\" class=\"dataframe\">\n",
              "  <thead>\n",
              "    <tr style=\"text-align: right;\">\n",
              "      <th></th>\n",
              "      <th>id</th>\n",
              "      <th>Name</th>\n",
              "      <th>City</th>\n",
              "      <th>Age</th>\n",
              "    </tr>\n",
              "  </thead>\n",
              "  <tbody>\n",
              "    <tr>\n",
              "      <th>0</th>\n",
              "      <td>A01</td>\n",
              "      <td>ABC</td>\n",
              "      <td>MUMBAI</td>\n",
              "      <td>12</td>\n",
              "    </tr>\n",
              "    <tr>\n",
              "      <th>1</th>\n",
              "      <td>A02</td>\n",
              "      <td>PQR</td>\n",
              "      <td>PUNE</td>\n",
              "      <td>13</td>\n",
              "    </tr>\n",
              "    <tr>\n",
              "      <th>2</th>\n",
              "      <td>A03</td>\n",
              "      <td>DEF</td>\n",
              "      <td>MUMBAI</td>\n",
              "      <td>14</td>\n",
              "    </tr>\n",
              "    <tr>\n",
              "      <th>3</th>\n",
              "      <td>A04</td>\n",
              "      <td>GHI</td>\n",
              "      <td>DELHI</td>\n",
              "      <td>12</td>\n",
              "    </tr>\n",
              "  </tbody>\n",
              "</table>\n",
              "</div>\n",
              "      <button class=\"colab-df-convert\" onclick=\"convertToInteractive('df-83f30d5e-443e-4e88-b783-c4c783f3e8af')\"\n",
              "              title=\"Convert this dataframe to an interactive table.\"\n",
              "              style=\"display:none;\">\n",
              "        \n",
              "  <svg xmlns=\"http://www.w3.org/2000/svg\" height=\"24px\"viewBox=\"0 0 24 24\"\n",
              "       width=\"24px\">\n",
              "    <path d=\"M0 0h24v24H0V0z\" fill=\"none\"/>\n",
              "    <path d=\"M18.56 5.44l.94 2.06.94-2.06 2.06-.94-2.06-.94-.94-2.06-.94 2.06-2.06.94zm-11 1L8.5 8.5l.94-2.06 2.06-.94-2.06-.94L8.5 2.5l-.94 2.06-2.06.94zm10 10l.94 2.06.94-2.06 2.06-.94-2.06-.94-.94-2.06-.94 2.06-2.06.94z\"/><path d=\"M17.41 7.96l-1.37-1.37c-.4-.4-.92-.59-1.43-.59-.52 0-1.04.2-1.43.59L10.3 9.45l-7.72 7.72c-.78.78-.78 2.05 0 2.83L4 21.41c.39.39.9.59 1.41.59.51 0 1.02-.2 1.41-.59l7.78-7.78 2.81-2.81c.8-.78.8-2.07 0-2.86zM5.41 20L4 18.59l7.72-7.72 1.47 1.35L5.41 20z\"/>\n",
              "  </svg>\n",
              "      </button>\n",
              "      \n",
              "  <style>\n",
              "    .colab-df-container {\n",
              "      display:flex;\n",
              "      flex-wrap:wrap;\n",
              "      gap: 12px;\n",
              "    }\n",
              "\n",
              "    .colab-df-convert {\n",
              "      background-color: #E8F0FE;\n",
              "      border: none;\n",
              "      border-radius: 50%;\n",
              "      cursor: pointer;\n",
              "      display: none;\n",
              "      fill: #1967D2;\n",
              "      height: 32px;\n",
              "      padding: 0 0 0 0;\n",
              "      width: 32px;\n",
              "    }\n",
              "\n",
              "    .colab-df-convert:hover {\n",
              "      background-color: #E2EBFA;\n",
              "      box-shadow: 0px 1px 2px rgba(60, 64, 67, 0.3), 0px 1px 3px 1px rgba(60, 64, 67, 0.15);\n",
              "      fill: #174EA6;\n",
              "    }\n",
              "\n",
              "    [theme=dark] .colab-df-convert {\n",
              "      background-color: #3B4455;\n",
              "      fill: #D2E3FC;\n",
              "    }\n",
              "\n",
              "    [theme=dark] .colab-df-convert:hover {\n",
              "      background-color: #434B5C;\n",
              "      box-shadow: 0px 1px 3px 1px rgba(0, 0, 0, 0.15);\n",
              "      filter: drop-shadow(0px 1px 2px rgba(0, 0, 0, 0.3));\n",
              "      fill: #FFFFFF;\n",
              "    }\n",
              "  </style>\n",
              "\n",
              "      <script>\n",
              "        const buttonEl =\n",
              "          document.querySelector('#df-83f30d5e-443e-4e88-b783-c4c783f3e8af button.colab-df-convert');\n",
              "        buttonEl.style.display =\n",
              "          google.colab.kernel.accessAllowed ? 'block' : 'none';\n",
              "\n",
              "        async function convertToInteractive(key) {\n",
              "          const element = document.querySelector('#df-83f30d5e-443e-4e88-b783-c4c783f3e8af');\n",
              "          const dataTable =\n",
              "            await google.colab.kernel.invokeFunction('convertToInteractive',\n",
              "                                                     [key], {});\n",
              "          if (!dataTable) return;\n",
              "\n",
              "          const docLinkHtml = 'Like what you see? Visit the ' +\n",
              "            '<a target=\"_blank\" href=https://colab.research.google.com/notebooks/data_table.ipynb>data table notebook</a>'\n",
              "            + ' to learn more about interactive tables.';\n",
              "          element.innerHTML = '';\n",
              "          dataTable['output_type'] = 'display_data';\n",
              "          await google.colab.output.renderOutput(dataTable, element);\n",
              "          const docLink = document.createElement('div');\n",
              "          docLink.innerHTML = docLinkHtml;\n",
              "          element.appendChild(docLink);\n",
              "        }\n",
              "      </script>\n",
              "    </div>\n",
              "  </div>\n",
              "  "
            ]
          },
          "metadata": {}
        }
      ]
    },
    {
      "cell_type": "markdown",
      "source": [
        "## **Q4. How will you load a dataset which is too large in size to hold in memory?**\n",
        "\n",
        "https://towardsdatascience.com/what-to-do-when-your-data-is-too-big-for-your-memory-65c84c600585\n",
        "\n",
        "### Technique 1: Lossless Compression\n",
        "#### Load data by columns\n"
      ],
      "metadata": {
        "id": "sOD14kG6Cxii"
      }
    },
    {
      "cell_type": "code",
      "source": [
        "#Import needed library\n",
        "import pandas as pd\n",
        "#Dataset\n",
        "csv = \"https://raw.githubusercontent.com/nytimes/covid-19-data/master/us-counties.csv\"\n",
        "#Load entire dataset\n",
        "data = pd.read_csv(csv)\n",
        "data.info(verbose=False, memory_usage=\"deep\")\n",
        "print()\n",
        "#Load only two columns\n",
        "df_2col = pd.read_csv(csv , usecols=[\"county\", \"cases\"])\n",
        "df_2col.info(verbose=False, memory_usage=\"deep\")"
      ],
      "metadata": {
        "colab": {
          "base_uri": "https://localhost:8080/"
        },
        "id": "IrjCMjhJNP9u",
        "outputId": "124abb0d-f7da-40e0-fbf4-3c2601d70f77"
      },
      "execution_count": null,
      "outputs": [
        {
          "output_type": "stream",
          "name": "stdout",
          "text": [
            "<class 'pandas.core.frame.DataFrame'>\n",
            "RangeIndex: 2502832 entries, 0 to 2502831\n",
            "Columns: 6 entries, date to deaths\n",
            "dtypes: float64(2), int64(1), object(3)\n",
            "memory usage: 526.0 MB\n",
            "\n",
            "<class 'pandas.core.frame.DataFrame'>\n",
            "RangeIndex: 2502832 entries, 0 to 2502831\n",
            "Columns: 2 entries, county to cases\n",
            "dtypes: int64(1), object(1)\n",
            "memory usage: 172.3 MB\n"
          ]
        }
      ]
    },
    {
      "cell_type": "markdown",
      "source": [
        "### Technique 2: Manipulate datatypes\n",
        "int8 can store integers from -128 to 127.\n",
        "\n",
        "int16 can store integers from -32768 to 32767.\n",
        "\n",
        "int64 can store integers from -9223372036854775808 to 9223372036854775807."
      ],
      "metadata": {
        "id": "ZGnoOUwIN5p0"
      }
    },
    {
      "cell_type": "code",
      "source": [
        "df = pd.read_csv(csv, usecols=[\"county\", \"cases\"])\n",
        "df[\"cases\"].memory_usage(index=False, deep=True)"
      ],
      "metadata": {
        "colab": {
          "base_uri": "https://localhost:8080/"
        },
        "id": "v-EMGVnOOeUb",
        "outputId": "73366959-ee57-4cda-9ff1-81e447882aad"
      },
      "execution_count": null,
      "outputs": [
        {
          "output_type": "execute_result",
          "data": {
            "text/plain": [
              "20022656"
            ]
          },
          "metadata": {},
          "execution_count": 19
        }
      ]
    },
    {
      "cell_type": "code",
      "source": [
        "df = pd.read_csv(csv, usecols=[\"county\", \"cases\"], dtype={\"cases\" : \"int16\"})\n",
        "df[\"cases\"].memory_usage(index=False, deep=True)\n",
        "\n",
        "## You can see 4 times reduction"
      ],
      "metadata": {
        "colab": {
          "base_uri": "https://localhost:8080/"
        },
        "id": "Y6twibb8PGbo",
        "outputId": "38ca5790-0bf5-4377-8c97-13b75b404eea"
      },
      "execution_count": null,
      "outputs": [
        {
          "output_type": "execute_result",
          "data": {
            "text/plain": [
              "5005664"
            ]
          },
          "metadata": {},
          "execution_count": 20
        }
      ]
    },
    {
      "cell_type": "markdown",
      "source": [
        "### Technique 3: Chunking\n",
        "That is cutting a large dataset into smaller chunks and then processing those chunks individually. After all the chunks have been processed, you can compare the results and calculate the final findings."
      ],
      "metadata": {
        "id": "U6zyHaVlQQhz"
      }
    },
    {
      "cell_type": "code",
      "source": [
        "import pandas as pd\n",
        "#Dataset \n",
        "csv = \"https://raw.githubusercontent.com/nytimes/covid-19-data/master/us-counties.csv\"\n",
        "#Loop different chuncks and get the max of each one \n",
        "result = {}\n",
        "for chunk in pd.read_csv(csv, chunksize=100):\n",
        "    max_case = chunk[\"cases\"].max()\n",
        "    max_case_county = chunk.loc[chunk['cases'] == max_case, 'county'].iloc[0]\n",
        "    result[max_case_county] = max_case\n",
        "#Display results\n",
        "print(max(result, key=result.get) , result[max(result, key=result.get)])"
      ],
      "metadata": {
        "colab": {
          "base_uri": "https://localhost:8080/"
        },
        "id": "RNuumop6QeUq",
        "outputId": "c6725733-7fd5-4caf-d100-fb5644ee6e0e"
      },
      "execution_count": null,
      "outputs": [
        {
          "output_type": "stream",
          "name": "stdout",
          "text": [
            "Los Angeles 2908425\n"
          ]
        }
      ]
    },
    {
      "cell_type": "markdown",
      "source": [
        "### Technique 4: Indexing\n",
        "The above code took about 2 mins to execute.\n",
        "\n",
        "Chunking is excellent if you need to load your dataset only once, but if you want to load multiple datasets, then indexing is the way to go.\n",
        "\n",
        "For example, let’s say I want to get the cases for a specific state. In this case, chunking would make sense; I could write a simple function that accomplishes that."
      ],
      "metadata": {
        "id": "7UPwpmJXQw6j"
      }
    },
    {
      "cell_type": "code",
      "source": [
        "def get_state_info(name):\n",
        "  csv = \"https://raw.githubusercontent.com/nytimes/covid-19-data/master/us-counties.csv\"\n",
        "  return pd.concat(df[df['state']==name] for df in \n",
        "                   pd.read_csv(csv, chunksize=100)\n",
        "                   )"
      ],
      "metadata": {
        "id": "7P6ljX68RlFa"
      },
      "execution_count": null,
      "outputs": []
    },
    {
      "cell_type": "markdown",
      "source": [
        "So, my small function loads all the rows in each chunk but only cares about the ones for the state I want. **That leads to significant overhead**. I can avoid having this by using a database next to Pandas. The simplest one I can use is **SQLite.**\n",
        "\n",
        "And then re-write the get_state_info function"
      ],
      "metadata": {
        "id": "bOoRzydbSXqq"
      }
    },
    {
      "cell_type": "code",
      "source": [
        "## I first need to load my data frame into an SQLite database.\n",
        "import sqlite3\n",
        "csv = \"https://raw.githubusercontent.com/nytimes/covid-19-data/master/us-counties.csv\"\n",
        "# Create a new database file:\n",
        "db = sqlite3.connect(\"cases.sqlite\")\n",
        "# Load the CSV in chunks:\n",
        "for c in pd.read_csv(csv, chunksize=100):\n",
        "    # Append all rows to a new database table\n",
        "    c.to_sql(\"cases\", db, if_exists=\"append\")\n",
        "# Add an index on the 'state' column:\n",
        "db.execute(\"CREATE INDEX state ON cases(state)\") \n",
        "db.close()"
      ],
      "metadata": {
        "id": "-6OucuXQTMRb"
      },
      "execution_count": null,
      "outputs": []
    },
    {
      "cell_type": "code",
      "source": [
        "def get_state_info(name):\n",
        "  connection = sqlite3.connect(\"cases.sqlite\")\n",
        "  query = \"select * from cases where state= ?\"\n",
        "  values= (name)\n",
        "  return pd.read_sql_query(query, connection, values)"
      ],
      "metadata": {
        "id": "36yX5EhFT89H"
      },
      "execution_count": null,
      "outputs": []
    },
    {
      "cell_type": "markdown",
      "source": [
        "## **Q5.How will you create a new column whose value is calculated from two other columns**\n",
        "\n",
        "1. Create a new column by assigning the output to the DataFrame with a new column name in between the [].\n",
        "\n",
        "2. Operations are element-wise, no need to loop over rows.\n",
        "\n",
        "3. Use rename with a dictionary or function to rename row labels or column names.\n"
      ],
      "metadata": {
        "id": "3kHLRZ-_anZ8"
      }
    },
    {
      "cell_type": "code",
      "source": [
        "df = pd.DataFrame({'Date':['10/2/2011', '11/2/2011', '12/2/2011', '13/2/2011'],\n",
        "                    'Event':['Music', 'Poetry', 'Theatre', 'Comedy'],\n",
        "                    'Cost':[10000, 5000, 15000, 2000]})\n",
        "  \n",
        "# Print the dataframe\n",
        "print(df)"
      ],
      "metadata": {
        "colab": {
          "base_uri": "https://localhost:8080/"
        },
        "id": "sXvYaa6xcgt7",
        "outputId": "cd0b0b3f-5554-497d-f76f-166abafdfbea"
      },
      "execution_count": null,
      "outputs": [
        {
          "output_type": "stream",
          "name": "stdout",
          "text": [
            "        Date    Event   Cost\n",
            "0  10/2/2011    Music  10000\n",
            "1  11/2/2011   Poetry   5000\n",
            "2  12/2/2011  Theatre  15000\n",
            "3  13/2/2011   Comedy   2000\n"
          ]
        }
      ]
    },
    {
      "cell_type": "code",
      "source": [
        "df[\"Discounted Price\"] = df.apply(lambda row: row.Cost - (row.Cost*0.1), axis=1)\n",
        "print(df)"
      ],
      "metadata": {
        "colab": {
          "base_uri": "https://localhost:8080/"
        },
        "id": "JwukDIvtcjHU",
        "outputId": "262e28cf-0459-4b5b-8c5a-e75e166a7907"
      },
      "execution_count": null,
      "outputs": [
        {
          "output_type": "stream",
          "name": "stdout",
          "text": [
            "        Date    Event   Cost  Discounted Price\n",
            "0  10/2/2011    Music  10000            9000.0\n",
            "1  11/2/2011   Poetry   5000            4500.0\n",
            "2  12/2/2011  Theatre  15000           13500.0\n",
            "3  13/2/2011   Comedy   2000            1800.0\n"
          ]
        }
      ]
    },
    {
      "cell_type": "markdown",
      "source": [
        "## **Q6. What is the difference between loc() and iloc()**\n",
        "\n",
        "\n",
        "`ipcdf=ipcdf.iloc[ipcdf['ACTION_TIME'].dropna().index,:]`\n",
        "\n",
        "`ipcdf.loc[ipcdf['CATEGORY'].isin(['Grp-Weight']),'CATEGORY']='Group Weight'`\n",
        "\n",
        "**loc()** is **label based** data selecting method which means that we have to pass the name of the row or column which we want to select. This method includes the last element of the range passed in it, unlike iloc(). loc() can accept the boolean data unlike iloc() . Many operations can be performed using the loc() method like-\n",
        "\n",
        "1. Selecting data according to some conditions :\n",
        "\n",
        "`display(data.loc[(data.Brand == 'Maruti') & (data.Mileage > 25)])`\n",
        "\n",
        "2. Selecting a range of rows from the DataFrame :\n",
        "\n",
        "`display(data.loc[2 : 5])`\n",
        "\n",
        "3. Updating the value of any column :\n",
        "\n",
        "`data.loc[(data.Year < 2015), ['Mileage']] = 22`\n",
        "\n",
        "\n",
        "**iloc() :** iloc() is a **indexed based** selecting method which means that we have to pass integer index in the method to select specific row/column. This method does not include the last element of the range passed in it unlike loc(). iloc() does not accept the boolean data unlike loc(). Operations performed using iloc() are:\n",
        "\n",
        "1. Selecting rows using integer indices:\n",
        "\n",
        "`display(data.iloc[[0, 2, 4, 7]])`\n",
        "\n",
        "2. Selecting a range of columns and rows simultaneously:\n",
        "\n",
        "`display(data.iloc[1 : 5, 2 : 5])`\n",
        "\n"
      ],
      "metadata": {
        "id": "5G4aePdXcHPk"
      }
    },
    {
      "cell_type": "markdown",
      "source": [
        "## **Q7. How will you calculate the total number of null values in a dataset**\n",
        "\n",
        "**Counting NaN in a column :**\n",
        "\n",
        "`data['B'].isnull().sum()`"
      ],
      "metadata": {
        "id": "bVt_8HDakPDt"
      }
    },
    {
      "cell_type": "code",
      "source": [
        "\n",
        "import pandas as pd\n",
        "import numpy as np\n",
        "    \n",
        "# dictionary of lists \n",
        "dict = { 'A':[1, 4, 6, 9], \n",
        "        'B':[np.NaN, 5, 8, np.NaN], \n",
        "        'C':[7, 3, np.NaN, 2],\n",
        "        'D':[1, np.NaN, np.NaN, np.NaN] } \n",
        "    \n",
        "# creating dataframe from the\n",
        "# dictionary \n",
        "data = pd.DataFrame(dict) \n",
        "print(data.head())\n",
        "\n",
        "# total NaN values in column 'B'\n",
        "print()\n",
        "print('total NaN values in col B =',data['B'].isnull().sum())"
      ],
      "metadata": {
        "colab": {
          "base_uri": "https://localhost:8080/"
        },
        "id": "ToML1CE3lD3U",
        "outputId": "60346555-2d2f-4b8e-ca15-e550e27aa169"
      },
      "execution_count": null,
      "outputs": [
        {
          "output_type": "stream",
          "name": "stdout",
          "text": [
            "   A    B    C    D\n",
            "0  1  NaN  7.0  1.0\n",
            "1  4  5.0  3.0  NaN\n",
            "2  6  8.0  NaN  NaN\n",
            "3  9  NaN  2.0  NaN\n",
            "\n",
            "total NaN values in col B = 2\n"
          ]
        }
      ]
    },
    {
      "cell_type": "markdown",
      "source": [
        "**Counting NaN in a row :**\n",
        "\n",
        "The row can be selected using loc or iloc. Then we find the sum as before.\n",
        "\n"
      ],
      "metadata": {
        "id": "oI6sMvDymQOF"
      }
    },
    {
      "cell_type": "code",
      "source": [
        "display(data.loc[1, :].isnull().sum())\n",
        "display(data.loc[2, :].isnull().sum())"
      ],
      "metadata": {
        "colab": {
          "base_uri": "https://localhost:8080/",
          "height": 52
        },
        "id": "3XPSlwoDmv1l",
        "outputId": "00bfd850-9d6a-406c-c275-0bf78a565dda"
      },
      "execution_count": null,
      "outputs": [
        {
          "output_type": "display_data",
          "data": {
            "text/plain": [
              "1"
            ]
          },
          "metadata": {}
        },
        {
          "output_type": "display_data",
          "data": {
            "text/plain": [
              "2"
            ]
          },
          "metadata": {}
        }
      ]
    },
    {
      "cell_type": "markdown",
      "source": [
        "## **Q8. In a dataset, there is a sex column with the following unique values – Male, Female, M, F, other. How will you change these values to make this column consistent with a supervised model?**\n",
        "\n",
        "`df.loc[df[<some_column_name>] == <condition>, [<another_column_name>]] = <value_to_add>`\n",
        "\n",
        "where **some_column_name** is the column you want to check the **condition** variable against and **another_column_name** is the column you want to add to (can be a new column or one that already exists or the same column that you want to replace the value). **value_to_add** is the value you want to add to that column/row.\n",
        "\n",
        "`df.loc[df['Sex'].isin(['M']),'Sex']='Male'`\n",
        "\n",
        "Above code will replace M with Male."
      ],
      "metadata": {
        "id": "CYkPIz3EoLz0"
      }
    },
    {
      "cell_type": "markdown",
      "source": [
        "## **Q9. In a dataset with an age column, extract all those rows with ages between 18 and 60?**\n",
        "\n",
        "1. Technique 1 - using condition directly\n",
        "2. Technique 2 - using isin() function"
      ],
      "metadata": {
        "id": "d0EsprLgtbM5"
      }
    },
    {
      "cell_type": "code",
      "source": [
        "import pandas as pd\n",
        "  \n",
        "record = {\n",
        "  \n",
        " 'Name': ['Ankit', 'Amit', 'Aishwarya', 'Priyanka', 'Priya', 'Shaurya' ],\n",
        " 'Age': [21, 19, 20, 18, 17, 21],\n",
        " 'Stream': ['Math', 'Commerce', 'Science', 'Math', 'Math', 'Science'],\n",
        " 'Percentage': [88, 92, 95, 70, 65, 78] }\n",
        "  \n",
        "# create a dataframe\n",
        "dataframe = pd.DataFrame(record, columns = ['Name', 'Age', 'Stream', 'Percentage'])\n",
        "\n",
        "dataframe.head()"
      ],
      "metadata": {
        "colab": {
          "base_uri": "https://localhost:8080/",
          "height": 206
        },
        "id": "VxXTHgatu-on",
        "outputId": "8bca23da-f995-409d-a351-f897c976a12a"
      },
      "execution_count": null,
      "outputs": [
        {
          "output_type": "execute_result",
          "data": {
            "text/plain": [
              "        Name  Age    Stream  Percentage\n",
              "0      Ankit   21      Math          88\n",
              "1       Amit   19  Commerce          92\n",
              "2  Aishwarya   20   Science          95\n",
              "3   Priyanka   18      Math          70\n",
              "4      Priya   17      Math          65"
            ],
            "text/html": [
              "\n",
              "  <div id=\"df-eea8e4c8-b93d-4f7a-8472-0d82e9c594d1\">\n",
              "    <div class=\"colab-df-container\">\n",
              "      <div>\n",
              "<style scoped>\n",
              "    .dataframe tbody tr th:only-of-type {\n",
              "        vertical-align: middle;\n",
              "    }\n",
              "\n",
              "    .dataframe tbody tr th {\n",
              "        vertical-align: top;\n",
              "    }\n",
              "\n",
              "    .dataframe thead th {\n",
              "        text-align: right;\n",
              "    }\n",
              "</style>\n",
              "<table border=\"1\" class=\"dataframe\">\n",
              "  <thead>\n",
              "    <tr style=\"text-align: right;\">\n",
              "      <th></th>\n",
              "      <th>Name</th>\n",
              "      <th>Age</th>\n",
              "      <th>Stream</th>\n",
              "      <th>Percentage</th>\n",
              "    </tr>\n",
              "  </thead>\n",
              "  <tbody>\n",
              "    <tr>\n",
              "      <th>0</th>\n",
              "      <td>Ankit</td>\n",
              "      <td>21</td>\n",
              "      <td>Math</td>\n",
              "      <td>88</td>\n",
              "    </tr>\n",
              "    <tr>\n",
              "      <th>1</th>\n",
              "      <td>Amit</td>\n",
              "      <td>19</td>\n",
              "      <td>Commerce</td>\n",
              "      <td>92</td>\n",
              "    </tr>\n",
              "    <tr>\n",
              "      <th>2</th>\n",
              "      <td>Aishwarya</td>\n",
              "      <td>20</td>\n",
              "      <td>Science</td>\n",
              "      <td>95</td>\n",
              "    </tr>\n",
              "    <tr>\n",
              "      <th>3</th>\n",
              "      <td>Priyanka</td>\n",
              "      <td>18</td>\n",
              "      <td>Math</td>\n",
              "      <td>70</td>\n",
              "    </tr>\n",
              "    <tr>\n",
              "      <th>4</th>\n",
              "      <td>Priya</td>\n",
              "      <td>17</td>\n",
              "      <td>Math</td>\n",
              "      <td>65</td>\n",
              "    </tr>\n",
              "  </tbody>\n",
              "</table>\n",
              "</div>\n",
              "      <button class=\"colab-df-convert\" onclick=\"convertToInteractive('df-eea8e4c8-b93d-4f7a-8472-0d82e9c594d1')\"\n",
              "              title=\"Convert this dataframe to an interactive table.\"\n",
              "              style=\"display:none;\">\n",
              "        \n",
              "  <svg xmlns=\"http://www.w3.org/2000/svg\" height=\"24px\"viewBox=\"0 0 24 24\"\n",
              "       width=\"24px\">\n",
              "    <path d=\"M0 0h24v24H0V0z\" fill=\"none\"/>\n",
              "    <path d=\"M18.56 5.44l.94 2.06.94-2.06 2.06-.94-2.06-.94-.94-2.06-.94 2.06-2.06.94zm-11 1L8.5 8.5l.94-2.06 2.06-.94-2.06-.94L8.5 2.5l-.94 2.06-2.06.94zm10 10l.94 2.06.94-2.06 2.06-.94-2.06-.94-.94-2.06-.94 2.06-2.06.94z\"/><path d=\"M17.41 7.96l-1.37-1.37c-.4-.4-.92-.59-1.43-.59-.52 0-1.04.2-1.43.59L10.3 9.45l-7.72 7.72c-.78.78-.78 2.05 0 2.83L4 21.41c.39.39.9.59 1.41.59.51 0 1.02-.2 1.41-.59l7.78-7.78 2.81-2.81c.8-.78.8-2.07 0-2.86zM5.41 20L4 18.59l7.72-7.72 1.47 1.35L5.41 20z\"/>\n",
              "  </svg>\n",
              "      </button>\n",
              "      \n",
              "  <style>\n",
              "    .colab-df-container {\n",
              "      display:flex;\n",
              "      flex-wrap:wrap;\n",
              "      gap: 12px;\n",
              "    }\n",
              "\n",
              "    .colab-df-convert {\n",
              "      background-color: #E8F0FE;\n",
              "      border: none;\n",
              "      border-radius: 50%;\n",
              "      cursor: pointer;\n",
              "      display: none;\n",
              "      fill: #1967D2;\n",
              "      height: 32px;\n",
              "      padding: 0 0 0 0;\n",
              "      width: 32px;\n",
              "    }\n",
              "\n",
              "    .colab-df-convert:hover {\n",
              "      background-color: #E2EBFA;\n",
              "      box-shadow: 0px 1px 2px rgba(60, 64, 67, 0.3), 0px 1px 3px 1px rgba(60, 64, 67, 0.15);\n",
              "      fill: #174EA6;\n",
              "    }\n",
              "\n",
              "    [theme=dark] .colab-df-convert {\n",
              "      background-color: #3B4455;\n",
              "      fill: #D2E3FC;\n",
              "    }\n",
              "\n",
              "    [theme=dark] .colab-df-convert:hover {\n",
              "      background-color: #434B5C;\n",
              "      box-shadow: 0px 1px 3px 1px rgba(0, 0, 0, 0.15);\n",
              "      filter: drop-shadow(0px 1px 2px rgba(0, 0, 0, 0.3));\n",
              "      fill: #FFFFFF;\n",
              "    }\n",
              "  </style>\n",
              "\n",
              "      <script>\n",
              "        const buttonEl =\n",
              "          document.querySelector('#df-eea8e4c8-b93d-4f7a-8472-0d82e9c594d1 button.colab-df-convert');\n",
              "        buttonEl.style.display =\n",
              "          google.colab.kernel.accessAllowed ? 'block' : 'none';\n",
              "\n",
              "        async function convertToInteractive(key) {\n",
              "          const element = document.querySelector('#df-eea8e4c8-b93d-4f7a-8472-0d82e9c594d1');\n",
              "          const dataTable =\n",
              "            await google.colab.kernel.invokeFunction('convertToInteractive',\n",
              "                                                     [key], {});\n",
              "          if (!dataTable) return;\n",
              "\n",
              "          const docLinkHtml = 'Like what you see? Visit the ' +\n",
              "            '<a target=\"_blank\" href=https://colab.research.google.com/notebooks/data_table.ipynb>data table notebook</a>'\n",
              "            + ' to learn more about interactive tables.';\n",
              "          element.innerHTML = '';\n",
              "          dataTable['output_type'] = 'display_data';\n",
              "          await google.colab.output.renderOutput(dataTable, element);\n",
              "          const docLink = document.createElement('div');\n",
              "          docLink.innerHTML = docLinkHtml;\n",
              "          element.appendChild(docLink);\n",
              "        }\n",
              "      </script>\n",
              "    </div>\n",
              "  </div>\n",
              "  "
            ]
          },
          "metadata": {},
          "execution_count": 43
        }
      ]
    },
    {
      "cell_type": "code",
      "source": [
        "df = dataframe[dataframe[\"Age\"] < 20]\n",
        "df"
      ],
      "metadata": {
        "colab": {
          "base_uri": "https://localhost:8080/",
          "height": 143
        },
        "id": "kmgRwNUBvLqR",
        "outputId": "66c91dec-f3ee-4e71-8f19-085d6bbedbf7"
      },
      "execution_count": null,
      "outputs": [
        {
          "output_type": "execute_result",
          "data": {
            "text/plain": [
              "       Name  Age    Stream  Percentage\n",
              "1      Amit   19  Commerce          92\n",
              "3  Priyanka   18      Math          70\n",
              "4     Priya   17      Math          65"
            ],
            "text/html": [
              "\n",
              "  <div id=\"df-fbedfe80-3ab5-4f92-9320-ec029236cec1\">\n",
              "    <div class=\"colab-df-container\">\n",
              "      <div>\n",
              "<style scoped>\n",
              "    .dataframe tbody tr th:only-of-type {\n",
              "        vertical-align: middle;\n",
              "    }\n",
              "\n",
              "    .dataframe tbody tr th {\n",
              "        vertical-align: top;\n",
              "    }\n",
              "\n",
              "    .dataframe thead th {\n",
              "        text-align: right;\n",
              "    }\n",
              "</style>\n",
              "<table border=\"1\" class=\"dataframe\">\n",
              "  <thead>\n",
              "    <tr style=\"text-align: right;\">\n",
              "      <th></th>\n",
              "      <th>Name</th>\n",
              "      <th>Age</th>\n",
              "      <th>Stream</th>\n",
              "      <th>Percentage</th>\n",
              "    </tr>\n",
              "  </thead>\n",
              "  <tbody>\n",
              "    <tr>\n",
              "      <th>1</th>\n",
              "      <td>Amit</td>\n",
              "      <td>19</td>\n",
              "      <td>Commerce</td>\n",
              "      <td>92</td>\n",
              "    </tr>\n",
              "    <tr>\n",
              "      <th>3</th>\n",
              "      <td>Priyanka</td>\n",
              "      <td>18</td>\n",
              "      <td>Math</td>\n",
              "      <td>70</td>\n",
              "    </tr>\n",
              "    <tr>\n",
              "      <th>4</th>\n",
              "      <td>Priya</td>\n",
              "      <td>17</td>\n",
              "      <td>Math</td>\n",
              "      <td>65</td>\n",
              "    </tr>\n",
              "  </tbody>\n",
              "</table>\n",
              "</div>\n",
              "      <button class=\"colab-df-convert\" onclick=\"convertToInteractive('df-fbedfe80-3ab5-4f92-9320-ec029236cec1')\"\n",
              "              title=\"Convert this dataframe to an interactive table.\"\n",
              "              style=\"display:none;\">\n",
              "        \n",
              "  <svg xmlns=\"http://www.w3.org/2000/svg\" height=\"24px\"viewBox=\"0 0 24 24\"\n",
              "       width=\"24px\">\n",
              "    <path d=\"M0 0h24v24H0V0z\" fill=\"none\"/>\n",
              "    <path d=\"M18.56 5.44l.94 2.06.94-2.06 2.06-.94-2.06-.94-.94-2.06-.94 2.06-2.06.94zm-11 1L8.5 8.5l.94-2.06 2.06-.94-2.06-.94L8.5 2.5l-.94 2.06-2.06.94zm10 10l.94 2.06.94-2.06 2.06-.94-2.06-.94-.94-2.06-.94 2.06-2.06.94z\"/><path d=\"M17.41 7.96l-1.37-1.37c-.4-.4-.92-.59-1.43-.59-.52 0-1.04.2-1.43.59L10.3 9.45l-7.72 7.72c-.78.78-.78 2.05 0 2.83L4 21.41c.39.39.9.59 1.41.59.51 0 1.02-.2 1.41-.59l7.78-7.78 2.81-2.81c.8-.78.8-2.07 0-2.86zM5.41 20L4 18.59l7.72-7.72 1.47 1.35L5.41 20z\"/>\n",
              "  </svg>\n",
              "      </button>\n",
              "      \n",
              "  <style>\n",
              "    .colab-df-container {\n",
              "      display:flex;\n",
              "      flex-wrap:wrap;\n",
              "      gap: 12px;\n",
              "    }\n",
              "\n",
              "    .colab-df-convert {\n",
              "      background-color: #E8F0FE;\n",
              "      border: none;\n",
              "      border-radius: 50%;\n",
              "      cursor: pointer;\n",
              "      display: none;\n",
              "      fill: #1967D2;\n",
              "      height: 32px;\n",
              "      padding: 0 0 0 0;\n",
              "      width: 32px;\n",
              "    }\n",
              "\n",
              "    .colab-df-convert:hover {\n",
              "      background-color: #E2EBFA;\n",
              "      box-shadow: 0px 1px 2px rgba(60, 64, 67, 0.3), 0px 1px 3px 1px rgba(60, 64, 67, 0.15);\n",
              "      fill: #174EA6;\n",
              "    }\n",
              "\n",
              "    [theme=dark] .colab-df-convert {\n",
              "      background-color: #3B4455;\n",
              "      fill: #D2E3FC;\n",
              "    }\n",
              "\n",
              "    [theme=dark] .colab-df-convert:hover {\n",
              "      background-color: #434B5C;\n",
              "      box-shadow: 0px 1px 3px 1px rgba(0, 0, 0, 0.15);\n",
              "      filter: drop-shadow(0px 1px 2px rgba(0, 0, 0, 0.3));\n",
              "      fill: #FFFFFF;\n",
              "    }\n",
              "  </style>\n",
              "\n",
              "      <script>\n",
              "        const buttonEl =\n",
              "          document.querySelector('#df-fbedfe80-3ab5-4f92-9320-ec029236cec1 button.colab-df-convert');\n",
              "        buttonEl.style.display =\n",
              "          google.colab.kernel.accessAllowed ? 'block' : 'none';\n",
              "\n",
              "        async function convertToInteractive(key) {\n",
              "          const element = document.querySelector('#df-fbedfe80-3ab5-4f92-9320-ec029236cec1');\n",
              "          const dataTable =\n",
              "            await google.colab.kernel.invokeFunction('convertToInteractive',\n",
              "                                                     [key], {});\n",
              "          if (!dataTable) return;\n",
              "\n",
              "          const docLinkHtml = 'Like what you see? Visit the ' +\n",
              "            '<a target=\"_blank\" href=https://colab.research.google.com/notebooks/data_table.ipynb>data table notebook</a>'\n",
              "            + ' to learn more about interactive tables.';\n",
              "          element.innerHTML = '';\n",
              "          dataTable['output_type'] = 'display_data';\n",
              "          await google.colab.output.renderOutput(dataTable, element);\n",
              "          const docLink = document.createElement('div');\n",
              "          docLink.innerHTML = docLinkHtml;\n",
              "          element.appendChild(docLink);\n",
              "        }\n",
              "      </script>\n",
              "    </div>\n",
              "  </div>\n",
              "  "
            ]
          },
          "metadata": {},
          "execution_count": 45
        }
      ]
    },
    {
      "cell_type": "code",
      "source": [
        "options = ['Math', 'Commerce']\n",
        "dataframe.loc[dataframe[\"Stream\"].isin(options)]\n",
        "dataframe"
      ],
      "metadata": {
        "colab": {
          "base_uri": "https://localhost:8080/",
          "height": 237
        },
        "id": "V-9K7lDjvpKi",
        "outputId": "16b24be3-10f5-40e9-b0b6-a80e52647571"
      },
      "execution_count": null,
      "outputs": [
        {
          "output_type": "execute_result",
          "data": {
            "text/plain": [
              "        Name  Age    Stream  Percentage\n",
              "0      Ankit   21      Math          88\n",
              "1       Amit   19  Commerce          92\n",
              "2  Aishwarya   20   Science          95\n",
              "3   Priyanka   18      Math          70\n",
              "4      Priya   17      Math          65\n",
              "5    Shaurya   21   Science          78"
            ],
            "text/html": [
              "\n",
              "  <div id=\"df-2a919d4e-142a-4f23-be3b-e990ebaff396\">\n",
              "    <div class=\"colab-df-container\">\n",
              "      <div>\n",
              "<style scoped>\n",
              "    .dataframe tbody tr th:only-of-type {\n",
              "        vertical-align: middle;\n",
              "    }\n",
              "\n",
              "    .dataframe tbody tr th {\n",
              "        vertical-align: top;\n",
              "    }\n",
              "\n",
              "    .dataframe thead th {\n",
              "        text-align: right;\n",
              "    }\n",
              "</style>\n",
              "<table border=\"1\" class=\"dataframe\">\n",
              "  <thead>\n",
              "    <tr style=\"text-align: right;\">\n",
              "      <th></th>\n",
              "      <th>Name</th>\n",
              "      <th>Age</th>\n",
              "      <th>Stream</th>\n",
              "      <th>Percentage</th>\n",
              "    </tr>\n",
              "  </thead>\n",
              "  <tbody>\n",
              "    <tr>\n",
              "      <th>0</th>\n",
              "      <td>Ankit</td>\n",
              "      <td>21</td>\n",
              "      <td>Math</td>\n",
              "      <td>88</td>\n",
              "    </tr>\n",
              "    <tr>\n",
              "      <th>1</th>\n",
              "      <td>Amit</td>\n",
              "      <td>19</td>\n",
              "      <td>Commerce</td>\n",
              "      <td>92</td>\n",
              "    </tr>\n",
              "    <tr>\n",
              "      <th>2</th>\n",
              "      <td>Aishwarya</td>\n",
              "      <td>20</td>\n",
              "      <td>Science</td>\n",
              "      <td>95</td>\n",
              "    </tr>\n",
              "    <tr>\n",
              "      <th>3</th>\n",
              "      <td>Priyanka</td>\n",
              "      <td>18</td>\n",
              "      <td>Math</td>\n",
              "      <td>70</td>\n",
              "    </tr>\n",
              "    <tr>\n",
              "      <th>4</th>\n",
              "      <td>Priya</td>\n",
              "      <td>17</td>\n",
              "      <td>Math</td>\n",
              "      <td>65</td>\n",
              "    </tr>\n",
              "    <tr>\n",
              "      <th>5</th>\n",
              "      <td>Shaurya</td>\n",
              "      <td>21</td>\n",
              "      <td>Science</td>\n",
              "      <td>78</td>\n",
              "    </tr>\n",
              "  </tbody>\n",
              "</table>\n",
              "</div>\n",
              "      <button class=\"colab-df-convert\" onclick=\"convertToInteractive('df-2a919d4e-142a-4f23-be3b-e990ebaff396')\"\n",
              "              title=\"Convert this dataframe to an interactive table.\"\n",
              "              style=\"display:none;\">\n",
              "        \n",
              "  <svg xmlns=\"http://www.w3.org/2000/svg\" height=\"24px\"viewBox=\"0 0 24 24\"\n",
              "       width=\"24px\">\n",
              "    <path d=\"M0 0h24v24H0V0z\" fill=\"none\"/>\n",
              "    <path d=\"M18.56 5.44l.94 2.06.94-2.06 2.06-.94-2.06-.94-.94-2.06-.94 2.06-2.06.94zm-11 1L8.5 8.5l.94-2.06 2.06-.94-2.06-.94L8.5 2.5l-.94 2.06-2.06.94zm10 10l.94 2.06.94-2.06 2.06-.94-2.06-.94-.94-2.06-.94 2.06-2.06.94z\"/><path d=\"M17.41 7.96l-1.37-1.37c-.4-.4-.92-.59-1.43-.59-.52 0-1.04.2-1.43.59L10.3 9.45l-7.72 7.72c-.78.78-.78 2.05 0 2.83L4 21.41c.39.39.9.59 1.41.59.51 0 1.02-.2 1.41-.59l7.78-7.78 2.81-2.81c.8-.78.8-2.07 0-2.86zM5.41 20L4 18.59l7.72-7.72 1.47 1.35L5.41 20z\"/>\n",
              "  </svg>\n",
              "      </button>\n",
              "      \n",
              "  <style>\n",
              "    .colab-df-container {\n",
              "      display:flex;\n",
              "      flex-wrap:wrap;\n",
              "      gap: 12px;\n",
              "    }\n",
              "\n",
              "    .colab-df-convert {\n",
              "      background-color: #E8F0FE;\n",
              "      border: none;\n",
              "      border-radius: 50%;\n",
              "      cursor: pointer;\n",
              "      display: none;\n",
              "      fill: #1967D2;\n",
              "      height: 32px;\n",
              "      padding: 0 0 0 0;\n",
              "      width: 32px;\n",
              "    }\n",
              "\n",
              "    .colab-df-convert:hover {\n",
              "      background-color: #E2EBFA;\n",
              "      box-shadow: 0px 1px 2px rgba(60, 64, 67, 0.3), 0px 1px 3px 1px rgba(60, 64, 67, 0.15);\n",
              "      fill: #174EA6;\n",
              "    }\n",
              "\n",
              "    [theme=dark] .colab-df-convert {\n",
              "      background-color: #3B4455;\n",
              "      fill: #D2E3FC;\n",
              "    }\n",
              "\n",
              "    [theme=dark] .colab-df-convert:hover {\n",
              "      background-color: #434B5C;\n",
              "      box-shadow: 0px 1px 3px 1px rgba(0, 0, 0, 0.15);\n",
              "      filter: drop-shadow(0px 1px 2px rgba(0, 0, 0, 0.3));\n",
              "      fill: #FFFFFF;\n",
              "    }\n",
              "  </style>\n",
              "\n",
              "      <script>\n",
              "        const buttonEl =\n",
              "          document.querySelector('#df-2a919d4e-142a-4f23-be3b-e990ebaff396 button.colab-df-convert');\n",
              "        buttonEl.style.display =\n",
              "          google.colab.kernel.accessAllowed ? 'block' : 'none';\n",
              "\n",
              "        async function convertToInteractive(key) {\n",
              "          const element = document.querySelector('#df-2a919d4e-142a-4f23-be3b-e990ebaff396');\n",
              "          const dataTable =\n",
              "            await google.colab.kernel.invokeFunction('convertToInteractive',\n",
              "                                                     [key], {});\n",
              "          if (!dataTable) return;\n",
              "\n",
              "          const docLinkHtml = 'Like what you see? Visit the ' +\n",
              "            '<a target=\"_blank\" href=https://colab.research.google.com/notebooks/data_table.ipynb>data table notebook</a>'\n",
              "            + ' to learn more about interactive tables.';\n",
              "          element.innerHTML = '';\n",
              "          dataTable['output_type'] = 'display_data';\n",
              "          await google.colab.output.renderOutput(dataTable, element);\n",
              "          const docLink = document.createElement('div');\n",
              "          docLink.innerHTML = docLinkHtml;\n",
              "          element.appendChild(docLink);\n",
              "        }\n",
              "      </script>\n",
              "    </div>\n",
              "  </div>\n",
              "  "
            ]
          },
          "metadata": {},
          "execution_count": 47
        }
      ]
    },
    {
      "cell_type": "markdown",
      "source": [
        "## **Q10. What is the use of .append() and .extend() on a list?**\n",
        "\n",
        "Python’s **append() **function inserts a **single element** into an existing list. The element will be added to the **end of the old list** rather than being returned to a new list. Adds its argument as a single element to the end of a list. The **length of the list increases by one**. "
      ],
      "metadata": {
        "id": "MILUvXkgwjab"
      }
    },
    {
      "cell_type": "code",
      "source": [
        "my_list = ['geeks', 'for']\n",
        "my_list.append('geeks')\n",
        "print(my_list)\n",
        "\n",
        "another_list = [6, 4, 7, 1]\n",
        "my_list.append(another_list)\n",
        "print(my_list)"
      ],
      "metadata": {
        "colab": {
          "base_uri": "https://localhost:8080/"
        },
        "id": "U1w_5MbZ7Khj",
        "outputId": "e755b7e5-cb3e-43ea-b673-ce5b09c31ff4"
      },
      "execution_count": null,
      "outputs": [
        {
          "output_type": "stream",
          "name": "stdout",
          "text": [
            "['geeks', 'for', 'geeks']\n",
            "['geeks', 'for', 'geeks', [6, 4, 7, 1]]\n"
          ]
        }
      ]
    },
    {
      "cell_type": "markdown",
      "source": [
        "**extend()** Iterates over its argument and adding each element to the list and extending the list. The **length** of the list **increases** by a **number of elements** in its argument.\n",
        "\n",
        "Time Complexity: Append has constant time complexity i.e.,O(1). Extend has a time complexity of O(k). Where k is the length of the list which need to be added.\n",
        "\n"
      ],
      "metadata": {
        "id": "Xg-zBbNO76US"
      }
    },
    {
      "cell_type": "code",
      "source": [
        "my_list = ['geeks', 'for']\n",
        "another_list = [6, 0, 4, 1]\n",
        "my_list.extend(another_list)\n",
        "print(my_list)\n",
        "\n",
        "my_list = ['geeks', 'for', 6, 0, 4, 1]\n",
        "my_list.extend('geeks')\n",
        "print(my_list)"
      ],
      "metadata": {
        "colab": {
          "base_uri": "https://localhost:8080/"
        },
        "id": "hrk6RISx8Gzp",
        "outputId": "4222caba-4a3c-4e0f-b9f2-dd8ea83a0851"
      },
      "execution_count": null,
      "outputs": [
        {
          "output_type": "stream",
          "name": "stdout",
          "text": [
            "['geeks', 'for', 6, 0, 4, 1]\n",
            "['geeks', 'for', 6, 0, 4, 1, 'g', 'e', 'e', 'k', 's']\n"
          ]
        }
      ]
    },
    {
      "cell_type": "markdown",
      "source": [
        "## **Q11. Which technique did you use to fill the null values and why**\n",
        "\n",
        "    1. Deleting Rows with missing values\n",
        "    2. Impute missing values for continuous variable\n",
        "    3. Impute missing values for categorical variable\n",
        "    4. Other Imputation Methods\n",
        "    5. Using Algorithms that support missing values\n",
        "    6. Prediction of missing values\n",
        "    7. Imputation using Deep Learning Library — Datawig\n",
        "\n",
        "    https://towardsdatascience.com/7-ways-to-handle-missing-values-in-machine-learning-1a6326adf79e\n",
        "    "
      ],
      "metadata": {
        "id": "84vcKTk68vez"
      }
    }
  ]
}