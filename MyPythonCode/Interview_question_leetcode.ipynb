{
 "cells": [
  {
   "cell_type": "markdown",
   "metadata": {},
   "source": [
    "### 1. Given an array of integers nums and an integer target, return indices of the two numbers such that they add up to target.\n",
    "#### Input: nums = [2,7,11,15], target = 9\n",
    "#### Output: [0,1]\n",
    "#### Output: Because nums[0] + nums[1] == 9, we return [0, 1]."
   ]
  },
  {
   "cell_type": "code",
   "execution_count": 4,
   "metadata": {},
   "outputs": [],
   "source": [
    "from typing import List"
   ]
  },
  {
   "cell_type": "code",
   "execution_count": 11,
   "metadata": {},
   "outputs": [
    {
     "name": "stdout",
     "output_type": "stream",
     "text": [
      "[0, 1]\n"
     ]
    }
   ],
   "source": [
    "def twoSum(nums: List[int], target: int)-> List[int]:\n",
    "    d = {}\n",
    "    for i, num in enumerate(nums):\n",
    "        if num in d:\n",
    "            return [d[num], i]\n",
    "        else:\n",
    "            d[target - num] =i\n",
    "            \n",
    "            \n",
    "print(twoSum( [2,7,11,15], 9))"
   ]
  },
  {
   "cell_type": "markdown",
   "metadata": {},
   "source": [
    "### 2.  Given a string remove ith character"
   ]
  },
  {
   "cell_type": "code",
   "execution_count": 2,
   "metadata": {},
   "outputs": [
    {
     "data": {
      "text/plain": [
       "'geksforgeeks'"
      ]
     },
     "execution_count": 2,
     "metadata": {},
     "output_type": "execute_result"
    }
   ],
   "source": [
    "str = \"geeksforgeeks\"\n",
    "#remove first i\n",
    "new_str = str.replace('e', '', 1)\n",
    "new_str"
   ]
  },
  {
   "cell_type": "code",
   "execution_count": 5,
   "metadata": {},
   "outputs": [
    {
     "data": {
      "text/plain": [
       "'geksforgeeks'"
      ]
     },
     "execution_count": 5,
     "metadata": {},
     "output_type": "execute_result"
    }
   ],
   "source": [
    "#using list comprehension\n",
    "new_str = ''.join([str[i] for i in range(len(str)) if i!=2])\n",
    "new_str"
   ]
  },
  {
   "cell_type": "markdown",
   "metadata": {},
   "source": [
    "### 3. Reverse words in a given String in Python"
   ]
  },
  {
   "cell_type": "code",
   "execution_count": 6,
   "metadata": {},
   "outputs": [
    {
     "name": "stdout",
     "output_type": "stream",
     "text": [
      "code practice quiz geeks\n"
     ]
    }
   ],
   "source": [
    "#Input : str = geeks quiz practice code\n",
    "#Output : str = code practice quiz geeks\n",
    "\n",
    "def rev_func(str):\n",
    "    words = str.split(' ')\n",
    "    sentence = ' '.join(reversed(words))\n",
    "    return sentence\n",
    "\n",
    "print(rev_func(\"geeks quiz practice code\"))"
   ]
  },
  {
   "cell_type": "code",
   "execution_count": null,
   "metadata": {},
   "outputs": [],
   "source": []
  }
 ],
 "metadata": {
  "kernelspec": {
   "display_name": "Python 3",
   "language": "python",
   "name": "python3"
  },
  "language_info": {
   "codemirror_mode": {
    "name": "ipython",
    "version": 3
   },
   "file_extension": ".py",
   "mimetype": "text/x-python",
   "name": "python",
   "nbconvert_exporter": "python",
   "pygments_lexer": "ipython3",
   "version": "3.7.3"
  }
 },
 "nbformat": 4,
 "nbformat_minor": 4
}
