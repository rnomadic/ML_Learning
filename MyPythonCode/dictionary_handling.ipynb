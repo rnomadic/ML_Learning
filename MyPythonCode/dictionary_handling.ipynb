{
 "cells": [
  {
   "cell_type": "markdown",
   "metadata": {},
   "source": [
    "1> Open a pickle file and load data as dictionary\n",
    "\n",
    "2> Print key, value of dictionary"
   ]
  },
  {
   "cell_type": "code",
   "execution_count": 1,
   "metadata": {},
   "outputs": [
    {
     "name": "stdout",
     "output_type": "stream",
     "text": [
      "ELLIOTT STEVEN\n",
      "LEWIS RICHARD\n",
      "TAYLOR MITCHELL S\n",
      "BANNANTINE JAMES M\n",
      "REDMOND BRIAN L\n",
      "BAY FRANKLIN R\n",
      "WODRASKA JOHN\n",
      "WHITE JR THOMAS E\n",
      "THE TRAVEL AGENCY IN THE PARK\n",
      "BERBERIAN DAVID\n",
      "SHARP VICTORIA T\n",
      "DODSON KEITH\n",
      "PAI LOU L\n",
      "METTS MARK\n",
      "KISHKILL JOSEPH G\n",
      "PRENTICE JAMES\n",
      "BLACHMAN JEREMY M\n",
      "CHRISTODOULOU DIOMEDES\n",
      "BROWN MICHAEL\n",
      "LEFF DANIEL P\n",
      "DONAHUE JR JEFFREY M\n",
      "CALGER CHRISTOPHER F\n",
      "BHATNAGAR SANJAY\n",
      "WHALEY DAVID A\n",
      "KITCHEN LOUISE\n",
      "KAMINSKI WINCENTY J\n",
      "MARTIN AMANDA K\n",
      "FUGH JOHN L\n",
      "BERGSIEKER RICHARD P\n",
      "GLISAN JR BEN F\n",
      "HAUG DAVID L\n",
      "HERMANN ROBERT J\n",
      "PIRO JIM\n",
      "TILNEY ELIZABETH A\n",
      "HUMPHREY GENE E\n",
      "LOCKHART EUGENE E\n",
      "HAEDICKE MARK E\n",
      "CHAN RONNIE\n",
      "HIRKO JOSEPH\n",
      "MORAN MICHAEL P\n",
      "FOY JOE\n",
      "MULLER MARK S\n",
      "CLINE KENNETH W\n",
      "LAVORATO JOHN J\n",
      "SCRIMSHAW MATTHEW\n",
      "HORTON STANLEY C\n",
      "DIMICHELE RICHARD G\n",
      "WALTERS GARETH W\n",
      "GAHN ROBERT S\n",
      "DIETRICH JANET R\n",
      "ECHOLS JOHN B\n",
      "BADUM JAMES P\n",
      "URQUHART JOHN A\n",
      "BLAKE JR. NORMAN P\n",
      "SHERRIFF JOHN R\n",
      "ALLEN PHILLIP K\n",
      "HICKERSON GARY J\n",
      "OVERDYKE JR JERE C\n",
      "LAY KENNETH L\n",
      "FITZGERALD JAY L\n",
      "OLSON CINDY K\n",
      "GIBBS DANA R\n",
      "LOWRY CHARLES P\n",
      "BOWEN JR RAYMOND M\n",
      "WHALLEY LAWRENCE G\n",
      "JACKSON CHARLENE R\n",
      "WROBEL BRUCE\n",
      "LEMAISTRE CHARLES\n",
      "SUNDE MARTIN\n",
      "RIEKER PAULA H\n",
      "HAYSLETT RODERICK J\n",
      "SHANKMAN JEFFREY A\n",
      "COLWELL WESLEY\n",
      "HUGHES JAMES A\n",
      "BIBI PHILIPPE A\n",
      "GOLD JOSEPH\n",
      "SKILLING JEFFREY K\n",
      "NOLES JAMES L\n",
      "STABLER FRANK\n",
      "BELDEN TIMOTHY N\n",
      "MENDELSOHN JOHN\n",
      "FALLON JAMES B\n",
      "BECK SALLY W\n",
      "WALLS JR ROBERT H\n",
      "DELAINEY DAVID W\n",
      "DURAN WILLIAM D\n",
      "THORN TERENCE H\n",
      "YEAP SOON\n",
      "CUMBERLAND MICHAEL S\n",
      "MORDAUNT KRISTINA M\n",
      "PICKERING MARK R\n",
      "UMANOFF ADAM S\n",
      "IZZO LAWRENCE L\n",
      "LINDHOLM TOD A\n",
      "PIPER GREGORY F\n",
      "RICE KENNETH D\n",
      "MURRAY JULIA H\n",
      "GARLAND C KEVIN\n",
      "BUCHANAN HAROLD G\n",
      "REYNOLDS LAWRENCE\n",
      "FOWLER PEGGY\n",
      "SHELBY REX\n",
      "MCMAHON JEFFREY\n",
      "DETMERING TIMOTHY J\n",
      "CARTER REBECCA C\n",
      "CAUSEY RICHARD A\n",
      "CORDES WILLIAM R\n",
      "MCDONALD REBECCA\n",
      "HANNON KEVIN P\n",
      "TOTAL\n",
      "WESTFAHL RICHARD K\n",
      "GATHMANN WILLIAM D\n",
      "WINOKUR JR. HERBERT S\n",
      "SAVAGE FRANK\n",
      "JAEDICKE ROBERT\n",
      "FASTOW ANDREW S\n",
      "KOENIG MARK E\n",
      "HAYES ROBERT E\n",
      "MEYER JEROME J\n",
      "GRAMM WENDY L\n",
      "COX DAVID\n",
      "KEAN STEVEN J\n",
      "BAXTER JOHN C\n",
      "SULLIVAN-SHAKLOVITZ COLLEEN\n",
      "KOPPER MICHAEL J\n",
      "FREVERT MARK A\n",
      "BAZELIDES PHILIP J\n",
      "BELFER ROBERT\n",
      "GILLIS JOHN\n",
      "GRAY RODNEY\n",
      "MCCONNELL MICHAEL S\n",
      "DERRICK JR. JAMES V\n",
      "DUNCAN JOHN H\n",
      "SHAPIRO RICHARD S\n",
      "MCCLELLAN GEORGE\n",
      "DEFFNER JOSEPH M\n",
      "WAKEHAM JOHN\n",
      "SHERRICK JEFFREY B\n",
      "BUTTS ROBERT H\n",
      "BUY RICHARD B\n",
      "WASAFF GEORGE\n",
      "MEYER ROCKFORD G\n",
      "POWERS WILLIAM\n",
      "PEREIRA PAULO V. FERRAZ\n",
      "MCCARTY DANNY J\n",
      "YEAGER F SCOTT\n",
      "{'director_fees': 'NaN', 'total_stock_value': 4221891, 'poi': False, 'long_term_incentive': 156250, 'bonus': 100000, 'other': 202052, 'exercised_stock_options': 4160672, 'salary': 76399, 'total_payments': 394475, 'shared_receipt_with_poi': 'NaN', 'deferred_income': -200000, 'restricted_stock': 201483, 'from_this_person_to_poi': 'NaN', 'expenses': 8409, 'to_messages': 'NaN', 'restricted_stock_deferred': -140264, 'from_poi_to_this_person': 'NaN', 'loan_advances': 'NaN', 'from_messages': 'NaN', 'deferral_payments': 51365, 'email_address': 'NaN'}\n"
     ]
    }
   ],
   "source": [
    "import pickle\n",
    "data_dict = pickle.load(open('resources/final_project_dataset.pkl', \"rb\"))\n",
    "\n",
    "for key, value in data_dict.items() :\n",
    "    print (key)\n",
    "\n",
    "print(data_dict['REYNOLDS LAWRENCE'])"
   ]
  },
  {
   "cell_type": "markdown",
   "metadata": {},
   "source": [
    "What is the number of features and no of entries of dictionary"
   ]
  },
  {
   "cell_type": "code",
   "execution_count": 2,
   "metadata": {},
   "outputs": [
    {
     "name": "stdout",
     "output_type": "stream",
     "text": [
      "no of entry: 146\n",
      "no of feature: 21\n"
     ]
    }
   ],
   "source": [
    "no_of_entry = len(data_dict)\n",
    "print(\"no of entry: %d\" % no_of_entry)\n",
    "first_key = list(data_dict.keys())[0] # convert it to list and return 1st item\n",
    "no_of_feature = len(data_dict[first_key])\n",
    "print(\"no of feature: %d\" % no_of_feature)\n"
   ]
  },
  {
   "cell_type": "markdown",
   "metadata": {},
   "source": [
    "What are the maximum and minimum values taken by the\n",
    "exercised_stock_options feature used in this example?  ignoring all the NaN entries."
   ]
  },
  {
   "cell_type": "code",
   "execution_count": 16,
   "metadata": {},
   "outputs": [
    {
     "name": "stdout",
     "output_type": "stream",
     "text": [
      "3285\n",
      "311764000\n"
     ]
    }
   ],
   "source": [
    "\"In this case we just convert dict in list and then take the max and min\"\n",
    "stock = [item[\"exercised_stock_options\"] for key, item in data_dict.items() if item[\"exercised_stock_options\"] != \"NaN\"]\n",
    "print(min(stock))\n",
    "print(max(stock))"
   ]
  },
  {
   "cell_type": "markdown",
   "metadata": {},
   "source": [
    "CONVERT INT TO FLOAT\n",
    "====================\n",
    "Apply feature scaling to your k-means clustering code from the last lesson, \n",
    "on the “salary” and “exercised_stock_options” features (use only these two features). \n",
    "What would be the rescaled value of a \"salary\" feature that had an original value of 200,000, \n",
    "and an \"exercised_stock_options\" feature of 1 million? (Be sure to represent these numbers as floats, not integers!)\n"
   ]
  },
  {
   "cell_type": "code",
   "execution_count": 47,
   "metadata": {},
   "outputs": [
    {
     "name": "stdout",
     "output_type": "stream",
     "text": [
      "original salary: 76399\n",
      "modified salary: 76399.00\n"
     ]
    }
   ],
   "source": [
    "\n",
    "\n",
    "print(\"original salary: %d\" % data_dict['REYNOLDS LAWRENCE']['salary'])\n",
    "\n",
    "\"Take empty list\"\n",
    "salary = []\n",
    "ex_stok = []\n",
    "\n",
    "for users in data_dict:\n",
    "    val = data_dict[users][\"salary\"]\n",
    "    if val == 'NaN':\n",
    "        continue\n",
    "    salary.append(float(val))\n",
    "    val = data_dict[users][\"exercised_stock_options\"]\n",
    "    if val == 'NaN':\n",
    "        continue\n",
    "    ex_stok.append(float(val))\n",
    "\n",
    "print(\"modified salary: %.2f\" % salary[0])"
   ]
  },
  {
   "cell_type": "code",
   "execution_count": null,
   "metadata": {
    "collapsed": true
   },
   "outputs": [],
   "source": []
  }
 ],
 "metadata": {
  "kernelspec": {
   "display_name": "Python 3",
   "language": "python",
   "name": "python3"
  },
  "language_info": {
   "codemirror_mode": {
    "name": "ipython",
    "version": 3
   },
   "file_extension": ".py",
   "mimetype": "text/x-python",
   "name": "python",
   "nbconvert_exporter": "python",
   "pygments_lexer": "ipython3",
   "version": "3.6.7"
  }
 },
 "nbformat": 4,
 "nbformat_minor": 2
}
