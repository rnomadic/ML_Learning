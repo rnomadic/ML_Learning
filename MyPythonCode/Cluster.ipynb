{
 "cells": [
  {
   "cell_type": "code",
   "execution_count": 59,
   "metadata": {},
   "outputs": [
    {
     "data": {
      "text/html": [
       "<div>\n",
       "<style scoped>\n",
       "    .dataframe tbody tr th:only-of-type {\n",
       "        vertical-align: middle;\n",
       "    }\n",
       "\n",
       "    .dataframe tbody tr th {\n",
       "        vertical-align: top;\n",
       "    }\n",
       "\n",
       "    .dataframe thead th {\n",
       "        text-align: right;\n",
       "    }\n",
       "</style>\n",
       "<table border=\"1\" class=\"dataframe\">\n",
       "  <thead>\n",
       "    <tr style=\"text-align: right;\">\n",
       "      <th></th>\n",
       "      <th>Idnumber</th>\n",
       "      <th>Sex</th>\n",
       "      <th>Anatomical subtype1</th>\n",
       "      <th>Anatomical subtype2</th>\n",
       "      <th>Adverse outcomes1</th>\n",
       "      <th>Adverse outcomes2</th>\n",
       "      <th>Chromosomal microarray</th>\n",
       "      <th>Maternal miscarriages</th>\n",
       "      <th>YearBorn_2000</th>\n",
       "      <th>YearBorn_2010</th>\n",
       "      <th>YearBorn_2020</th>\n",
       "      <th>Indicator_Death</th>\n",
       "      <th>FamilyD_Aortopathy</th>\n",
       "      <th>FamilyD_Cardiomyopathy</th>\n",
       "      <th>FamilyD_Congenital Heart Disease</th>\n",
       "      <th>LifeSpan</th>\n",
       "    </tr>\n",
       "  </thead>\n",
       "  <tbody>\n",
       "    <tr>\n",
       "      <th>0</th>\n",
       "      <td>005-HLH-001</td>\n",
       "      <td>M</td>\n",
       "      <td>Mitral atresia</td>\n",
       "      <td>Aortic atresia</td>\n",
       "      <td>Early Fontan takedown</td>\n",
       "      <td>Death</td>\n",
       "      <td>Normal</td>\n",
       "      <td>3</td>\n",
       "      <td>False</td>\n",
       "      <td>True</td>\n",
       "      <td>False</td>\n",
       "      <td>1</td>\n",
       "      <td>0</td>\n",
       "      <td>0</td>\n",
       "      <td>0</td>\n",
       "      <td>5</td>\n",
       "    </tr>\n",
       "    <tr>\n",
       "      <th>1</th>\n",
       "      <td>015-HLH-001</td>\n",
       "      <td>M</td>\n",
       "      <td>Mitral atresia</td>\n",
       "      <td>Aortic atresia</td>\n",
       "      <td>Late Fontan takedown</td>\n",
       "      <td>Death</td>\n",
       "      <td>Normal</td>\n",
       "      <td>0</td>\n",
       "      <td>True</td>\n",
       "      <td>False</td>\n",
       "      <td>False</td>\n",
       "      <td>1</td>\n",
       "      <td>1</td>\n",
       "      <td>0</td>\n",
       "      <td>0</td>\n",
       "      <td>24</td>\n",
       "    </tr>\n",
       "    <tr>\n",
       "      <th>2</th>\n",
       "      <td>048-HLH-001</td>\n",
       "      <td>M</td>\n",
       "      <td>Mitral stenosis</td>\n",
       "      <td>Aortic stenosis</td>\n",
       "      <td>Heart failure</td>\n",
       "      <td>Death</td>\n",
       "      <td>Normal</td>\n",
       "      <td>0</td>\n",
       "      <td>False</td>\n",
       "      <td>True</td>\n",
       "      <td>False</td>\n",
       "      <td>1</td>\n",
       "      <td>0</td>\n",
       "      <td>0</td>\n",
       "      <td>0</td>\n",
       "      <td>5</td>\n",
       "    </tr>\n",
       "    <tr>\n",
       "      <th>3</th>\n",
       "      <td>049-HLH-001</td>\n",
       "      <td>M</td>\n",
       "      <td>Mitral atresia</td>\n",
       "      <td>Aortic atresia</td>\n",
       "      <td>Heart failure</td>\n",
       "      <td>Transplant</td>\n",
       "      <td>15q11.2 deletion</td>\n",
       "      <td>1</td>\n",
       "      <td>False</td>\n",
       "      <td>False</td>\n",
       "      <td>True</td>\n",
       "      <td>0</td>\n",
       "      <td>0</td>\n",
       "      <td>0</td>\n",
       "      <td>0</td>\n",
       "      <td>10</td>\n",
       "    </tr>\n",
       "    <tr>\n",
       "      <th>4</th>\n",
       "      <td>056-HLH-001</td>\n",
       "      <td>F</td>\n",
       "      <td>Mitral stenosis</td>\n",
       "      <td>Aortic stenosis</td>\n",
       "      <td>Heart failure</td>\n",
       "      <td>NaN</td>\n",
       "      <td>Normal</td>\n",
       "      <td>1</td>\n",
       "      <td>False</td>\n",
       "      <td>True</td>\n",
       "      <td>False</td>\n",
       "      <td>0</td>\n",
       "      <td>0</td>\n",
       "      <td>0</td>\n",
       "      <td>0</td>\n",
       "      <td>14</td>\n",
       "    </tr>\n",
       "  </tbody>\n",
       "</table>\n",
       "</div>"
      ],
      "text/plain": [
       "      Idnumber Sex Anatomical subtype1 Anatomical subtype2  \\\n",
       "0  005-HLH-001   M      Mitral atresia      Aortic atresia   \n",
       "1  015-HLH-001   M      Mitral atresia      Aortic atresia   \n",
       "2  048-HLH-001   M     Mitral stenosis     Aortic stenosis   \n",
       "3  049-HLH-001   M      Mitral atresia      Aortic atresia   \n",
       "4  056-HLH-001   F     Mitral stenosis     Aortic stenosis   \n",
       "\n",
       "       Adverse outcomes1 Adverse outcomes2 Chromosomal microarray  \\\n",
       "0  Early Fontan takedown             Death                 Normal   \n",
       "1   Late Fontan takedown             Death                 Normal   \n",
       "2          Heart failure             Death                 Normal   \n",
       "3          Heart failure        Transplant       15q11.2 deletion   \n",
       "4          Heart failure               NaN                 Normal   \n",
       "\n",
       "   Maternal miscarriages  YearBorn_2000  YearBorn_2010  YearBorn_2020  \\\n",
       "0                      3          False           True          False   \n",
       "1                      0           True          False          False   \n",
       "2                      0          False           True          False   \n",
       "3                      1          False          False           True   \n",
       "4                      1          False           True          False   \n",
       "\n",
       "   Indicator_Death  FamilyD_Aortopathy  FamilyD_Cardiomyopathy  \\\n",
       "0                1                   0                       0   \n",
       "1                1                   1                       0   \n",
       "2                1                   0                       0   \n",
       "3                0                   0                       0   \n",
       "4                0                   0                       0   \n",
       "\n",
       "   FamilyD_Congenital Heart Disease  LifeSpan  \n",
       "0                                 0         5  \n",
       "1                                 0        24  \n",
       "2                                 0         5  \n",
       "3                                 0        10  \n",
       "4                                 0        14  "
      ]
     },
     "execution_count": 59,
     "metadata": {},
     "output_type": "execute_result"
    }
   ],
   "source": [
    "import pandas as pd\n",
    "data = pd.read_excel(r\"https://bdamlstudiostorage.blob.core.windows.net/sampledata/Cleand.xlsx\",sheet_name='Cleand')\n",
    "data.head()"
   ]
  },
  {
   "cell_type": "code",
   "execution_count": 60,
   "metadata": {
    "jupyter": {
     "outputs_hidden": false,
     "source_hidden": false
    },
    "nteract": {
     "transient": {
      "deleting": false
     }
    }
   },
   "outputs": [
    {
     "name": "stdout",
     "output_type": "stream",
     "text": [
      "Index(['Idnumber', 'Sex', 'Anatomical subtype1', 'Anatomical subtype2',\n",
      "       'Adverse outcomes1', 'Adverse outcomes2', 'Chromosomal microarray',\n",
      "       'Maternal miscarriages', 'YearBorn_2000', 'YearBorn_2010',\n",
      "       'YearBorn_2020', 'Indicator_Death', 'FamilyD_Aortopathy',\n",
      "       'FamilyD_Cardiomyopathy', 'FamilyD_Congenital Heart Disease',\n",
      "       'LifeSpan'],\n",
      "      dtype='object')\n"
     ]
    }
   ],
   "source": [
    "print(data.columns)"
   ]
  },
  {
   "cell_type": "code",
   "execution_count": 61,
   "metadata": {
    "jupyter": {
     "outputs_hidden": false,
     "source_hidden": false
    },
    "nteract": {
     "transient": {
      "deleting": false
     }
    }
   },
   "outputs": [],
   "source": [
    "\n",
    "df = pd.DataFrame(data) \n",
    "W_df = df[['Sex', 'Anatomical subtype1', 'Anatomical subtype2',\n",
    "       'Adverse outcomes1', 'Adverse outcomes2', 'Chromosomal microarray',\n",
    "       'Maternal miscarriages', 'YearBorn_2000', 'YearBorn_2010',\n",
    "       'YearBorn_2020', 'Indicator_Death', 'FamilyD_Aortopathy',\n",
    "       'FamilyD_Cardiomyopathy', 'FamilyD_Congenital Heart Disease',\n",
    "       'LifeSpan']]"
   ]
  },
  {
   "cell_type": "code",
   "execution_count": 4,
   "metadata": {
    "jupyter": {
     "outputs_hidden": false,
     "source_hidden": false
    },
    "nteract": {
     "transient": {
      "deleting": false
     }
    }
   },
   "outputs": [
    {
     "name": "stdout",
     "output_type": "stream",
     "text": [
      "Collecting gower\n",
      "  Downloading https://files.pythonhosted.org/packages/98/62/dea557ca74253ff35afa6dce17c6f950ff8b7fbd3636a4df2ef0877bcf65/gower-0.0.5.tar.gz\n",
      "Requirement already satisfied: numpy in /anaconda/envs/azureml_py36/lib/python3.6/site-packages (from gower) (1.16.2)\n",
      "Requirement already satisfied: scipy in /anaconda/envs/azureml_py36/lib/python3.6/site-packages (from gower) (1.4.1)\n",
      "Building wheels for collected packages: gower\n",
      "  Building wheel for gower (setup.py) ... \u001b[?25l-\b \b\\\b \b|\b \bdone\n",
      "\u001b[?25h  Created wheel for gower: filename=gower-0.0.5-cp36-none-any.whl size=4232 sha256=164af5a0954d6d69481da6bfe7c120f99375c6846c702ae4cb88f1df04b5a477\n",
      "  Stored in directory: /home/azureuser/.cache/pip/wheels/c0/09/9b/072d54d6ced0f43a179852e3f09532d0131e25ff7cb4e5ee75\n",
      "Successfully built gower\n",
      "Installing collected packages: gower\n",
      "Successfully installed gower-0.0.5\n",
      "Note: you may need to restart the kernel to use updated packages.\n"
     ]
    }
   ],
   "source": [
    "pip install gower"
   ]
  },
  {
   "cell_type": "code",
   "execution_count": 62,
   "metadata": {
    "jupyter": {
     "outputs_hidden": false,
     "source_hidden": false
    },
    "nteract": {
     "transient": {
      "deleting": false
     }
    }
   },
   "outputs": [],
   "source": [
    "from sklearn.cluster import KMeans \n",
    "from sklearn import metrics \n",
    "from scipy.spatial.distance import cdist \n",
    "import numpy as np \n",
    "import matplotlib.pyplot as plt"
   ]
  },
  {
   "cell_type": "code",
   "execution_count": 63,
   "metadata": {
    "jupyter": {
     "outputs_hidden": false,
     "source_hidden": false
    },
    "nteract": {
     "transient": {
      "deleting": false
     }
    }
   },
   "outputs": [],
   "source": [
    "import gower\n",
    "\n",
    "#gower.gower_matrix(W_df)"
   ]
  },
  {
   "cell_type": "code",
   "execution_count": 64,
   "metadata": {
    "jupyter": {
     "outputs_hidden": false,
     "source_hidden": false
    },
    "nteract": {
     "transient": {
      "deleting": false
     }
    }
   },
   "outputs": [],
   "source": [
    "import numpy as np\n",
    "import matplotlib.pyplot as plt\n",
    "from scipy.cluster.hierarchy import linkage, fcluster, dendrogram\n",
    "\n",
    "dm = gower.gower_matrix(W_df)\n",
    "Zd = linkage(dm) "
   ]
  },
  {
   "cell_type": "code",
   "execution_count": 75,
   "metadata": {
    "jupyter": {
     "outputs_hidden": false,
     "source_hidden": false
    },
    "nteract": {
     "transient": {
      "deleting": false
     }
    }
   },
   "outputs": [],
   "source": [
    "which = lambda lst:list(np.where(lst)[0])\n",
    "TWssLst = []\n"
   ]
  },
  {
   "cell_type": "code",
   "execution_count": 107,
   "metadata": {
    "jupyter": {
     "outputs_hidden": false,
     "source_hidden": false
    },
    "nteract": {
     "transient": {
      "deleting": false
     }
    }
   },
   "outputs": [],
   "source": [
    "for k in range(2,15):\n",
    "    cld = fcluster(Zd, k, criterion='maxclust')\n",
    "    TWss = 0\n",
    "    for j in range(1,k+1):\n",
    "        tempData = data.iloc[which(cld == j)]\n",
    "        m = pd.DataFrame(gower.gower_matrix(tempData))\n",
    "        Wss = 0\n",
    "        for i in range(1,m.shape[0]):\n",
    "            Wss = Wss + sum(m[i][:i])\n",
    "        TWss = TWss + Wss\n",
    "    TWssLst.append(TWss)    \n",
    "    \n",
    "\n",
    "        \n",
    "        \n",
    "    \n",
    "    "
   ]
  },
  {
   "cell_type": "code",
   "execution_count": 101,
   "metadata": {
    "jupyter": {
     "outputs_hidden": false,
     "source_hidden": false
    },
    "nteract": {
     "transient": {
      "deleting": false
     }
    }
   },
   "outputs": [],
   "source": [
    "TWssLst = [130.75,57.33,47.28,42.67,29.89,29.01,24.86,20.72,16.94,14.24,9,8.70,6.9]\n",
    "K =[2,3,4,5,6,7,8,9,10,11,12,13,14]"
   ]
  },
  {
   "cell_type": "code",
   "execution_count": 102,
   "metadata": {
    "jupyter": {
     "outputs_hidden": false,
     "source_hidden": false
    },
    "nteract": {
     "transient": {
      "deleting": false
     }
    }
   },
   "outputs": [
    {
     "data": {
      "image/png": "[encoded data removed]",
      "text/plain": [
       "<Figure size 432x288 with 1 Axes>"
      ]
     },
     "metadata": {
      "needs_background": "light"
     },
     "output_type": "display_data"
    }
   ],
   "source": [
    "plt.plot(K, TWssLst, 'bx-') \n",
    "plt.xlabel('Values of K') \n",
    "plt.ylabel('Distortion') \n",
    "plt.title('The Elbow Method using Distortion') \n",
    "plt.show() "
   ]
  },
  {
   "cell_type": "code",
   "execution_count": 103,
   "metadata": {
    "jupyter": {
     "outputs_hidden": false,
     "source_hidden": false
    },
    "nteract": {
     "transient": {
      "deleting": false
     }
    }
   },
   "outputs": [],
   "source": [
    "cld = fcluster(Zd, 6, criterion='maxclust')\n",
    "data['ClusterId'] = cld"
   ]
  },
  {
   "cell_type": "code",
   "execution_count": 104,
   "metadata": {
    "jupyter": {
     "outputs_hidden": false,
     "source_hidden": false
    },
    "nteract": {
     "transient": {
      "deleting": false
     }
    }
   },
   "outputs": [
    {
     "data": {
      "text/plain": [
       "{'icoord': [[5.0, 5.0, 15.0, 15.0],\n",
       "  [35.0, 35.0, 45.0, 45.0],\n",
       "  [95.0, 95.0, 105.0, 105.0],\n",
       "  [85.0, 85.0, 100.0, 100.0],\n",
       "  [75.0, 75.0, 92.5, 92.5],\n",
       "  [65.0, 65.0, 83.75, 83.75],\n",
       "  [55.0, 55.0, 74.375, 74.375],\n",
       "  [40.0, 40.0, 64.6875, 64.6875],\n",
       "  [25.0, 25.0, 52.34375, 52.34375],\n",
       "  [125.0, 125.0, 135.0, 135.0],\n",
       "  [115.0, 115.0, 130.0, 130.0],\n",
       "  [38.671875, 38.671875, 122.5, 122.5],\n",
       "  [145.0, 145.0, 155.0, 155.0],\n",
       "  [185.0, 185.0, 195.0, 195.0],\n",
       "  [205.0, 205.0, 215.0, 215.0],\n",
       "  [245.0, 245.0, 255.0, 255.0],\n",
       "  [235.0, 235.0, 250.0, 250.0],\n",
       "  [225.0, 225.0, 242.5, 242.5],\n",
       "  [210.0, 210.0, 233.75, 233.75],\n",
       "  [190.0, 190.0, 221.875, 221.875],\n",
       "  [175.0, 175.0, 205.9375, 205.9375],\n",
       "  [165.0, 165.0, 190.46875, 190.46875],\n",
       "  [150.0, 150.0, 177.734375, 177.734375],\n",
       "  [80.5859375, 80.5859375, 163.8671875, 163.8671875],\n",
       "  [10.0, 10.0, 122.2265625, 122.2265625]],\n",
       " 'dcoord': [[0.0, 0.42642484863544017, 0.42642484863544017, 0.0],\n",
       "  [0.0, 0.2923067906935011, 0.2923067906935011, 0.0],\n",
       "  [0.0, 0.3132268293758113, 0.3132268293758113, 0.0],\n",
       "  [0.0, 0.3158389795711836, 0.3158389795711836, 0.3132268293758113],\n",
       "  [0.0, 0.332577242243249, 0.332577242243249, 0.3158389795711836],\n",
       "  [0.0, 0.4275611734191923, 0.4275611734191923, 0.332577242243249],\n",
       "  [0.0, 0.4722896591516924, 0.4722896591516924, 0.4275611734191923],\n",
       "  [0.2923067906935011,\n",
       "   0.5206833360210187,\n",
       "   0.5206833360210187,\n",
       "   0.4722896591516924],\n",
       "  [0.0, 0.5216126092122626, 0.5216126092122626, 0.5206833360210187],\n",
       "  [0.0, 0.30863400226515614, 0.30863400226515614, 0.0],\n",
       "  [0.0, 0.5909298150243157, 0.5909298150243157, 0.30863400226515614],\n",
       "  [0.5216126092122626,\n",
       "   0.596953342602719,\n",
       "   0.596953342602719,\n",
       "   0.5909298150243157],\n",
       "  [0.0, 0.3536496004002285, 0.3536496004002285, 0.0],\n",
       "  [0.0, 0.496354783368691, 0.496354783368691, 0.0],\n",
       "  [0.0, 0.40605839963541884, 0.40605839963541884, 0.0],\n",
       "  [0.0, 0.32794747802903673, 0.32794747802903673, 0.0],\n",
       "  [0.0, 0.41768286506089597, 0.41768286506089597, 0.32794747802903673],\n",
       "  [0.0, 0.4631418855554966, 0.4631418855554966, 0.41768286506089597],\n",
       "  [0.40605839963541884,\n",
       "   0.5244848588191007,\n",
       "   0.5244848588191007,\n",
       "   0.4631418855554966],\n",
       "  [0.496354783368691,\n",
       "   0.5533572653442383,\n",
       "   0.5533572653442383,\n",
       "   0.5244848588191007],\n",
       "  [0.0, 0.5895106039029114, 0.5895106039029114, 0.5533572653442383],\n",
       "  [0.0, 0.7015953070395846, 0.7015953070395846, 0.5895106039029114],\n",
       "  [0.3536496004002285,\n",
       "   0.7040352744581967,\n",
       "   0.7040352744581967,\n",
       "   0.7015953070395846],\n",
       "  [0.596953342602719,\n",
       "   0.7463625638409768,\n",
       "   0.7463625638409768,\n",
       "   0.7040352744581967],\n",
       "  [0.42642484863544017,\n",
       "   0.7781779002935371,\n",
       "   0.7781779002935371,\n",
       "   0.7463625638409768]],\n",
       " 'ivl': ['6',\n",
       "  '21',\n",
       "  '5',\n",
       "  '7',\n",
       "  '12',\n",
       "  '17',\n",
       "  '13',\n",
       "  '20',\n",
       "  '10',\n",
       "  '3',\n",
       "  '22',\n",
       "  '15',\n",
       "  '24',\n",
       "  '25',\n",
       "  '1',\n",
       "  '9',\n",
       "  '0',\n",
       "  '16',\n",
       "  '2',\n",
       "  '8',\n",
       "  '14',\n",
       "  '18',\n",
       "  '23',\n",
       "  '11',\n",
       "  '4',\n",
       "  '19'],\n",
       " 'leaves': [6,\n",
       "  21,\n",
       "  5,\n",
       "  7,\n",
       "  12,\n",
       "  17,\n",
       "  13,\n",
       "  20,\n",
       "  10,\n",
       "  3,\n",
       "  22,\n",
       "  15,\n",
       "  24,\n",
       "  25,\n",
       "  1,\n",
       "  9,\n",
       "  0,\n",
       "  16,\n",
       "  2,\n",
       "  8,\n",
       "  14,\n",
       "  18,\n",
       "  23,\n",
       "  11,\n",
       "  4,\n",
       "  19],\n",
       " 'color_list': ['g',\n",
       "  'r',\n",
       "  'r',\n",
       "  'r',\n",
       "  'r',\n",
       "  'r',\n",
       "  'r',\n",
       "  'r',\n",
       "  'r',\n",
       "  'c',\n",
       "  'b',\n",
       "  'b',\n",
       "  'm',\n",
       "  'y',\n",
       "  'k',\n",
       "  'k',\n",
       "  'k',\n",
       "  'k',\n",
       "  'k',\n",
       "  'b',\n",
       "  'b',\n",
       "  'b',\n",
       "  'b',\n",
       "  'b',\n",
       "  'b']}"
      ]
     },
     "execution_count": 104,
     "metadata": {},
     "output_type": "execute_result"
    },
    {
     "data": {
      "image/png": "[encoded data removed]",
      "text/plain": [
       "<Figure size 432x288 with 1 Axes>"
      ]
     },
     "metadata": {
      "needs_background": "light"
     },
     "output_type": "display_data"
    }
   ],
   "source": [
    "dendrogram(Zd) "
   ]
  },
  {
   "cell_type": "code",
   "execution_count": 106,
   "metadata": {
    "jupyter": {
     "outputs_hidden": false,
     "source_hidden": false
    },
    "nteract": {
     "transient": {
      "deleting": false
     }
    }
   },
   "outputs": [],
   "source": [
    "data.to_csv(\"Cluster.csv\")"
   ]
  }
 ],
 "metadata": {
  "kernel_info": {
   "name": "python3"
  },
  "kernelspec": {
   "display_name": "Python 3",
   "language": "python",
   "name": "python3"
  },
  "language_info": {
   "codemirror_mode": {
    "name": "ipython",
    "version": 3
   },
   "file_extension": ".py",
   "mimetype": "text/x-python",
   "name": "python",
   "nbconvert_exporter": "python",
   "pygments_lexer": "ipython3",
   "version": "3.7.3"
  },
  "nteract": {
   "version": "nteract-front-end@1.0.0"
  }
 },
 "nbformat": 4,
 "nbformat_minor": 2
}
