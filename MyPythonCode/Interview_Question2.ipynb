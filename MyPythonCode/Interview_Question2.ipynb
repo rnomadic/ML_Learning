{
 "cells": [
  {
   "cell_type": "markdown",
   "metadata": {},
   "source": [
    "### 1. How you can call C function from python\n",
    "There are three key methods developers use to call C functions from their python code - **ctypes, SWIG and Python/C API**. Each method comes with it’s own merits and demerits.\n",
    "\n",
    "###### Firstly, why would you want to interface C with Python?\n",
    "\n",
    "A few common reasons are :\n",
    "\n",
    "1. You want speed and you know C is about 50x faster than Python.\n",
    "2. Certain legacy C libraries work just as well as you want them to, so you don’t want to rewrite them in python.\n",
    "3. Certain low level resource access - from memory to file interfaces.\n",
    "\n",
    "###### CTypes\n",
    "[CTypes](https://docs.python.org/2/library/ctypes.html) <br>\n",
    "The Python ctypes module is probably the easiest way to call C functions from Python. The ctypes module provides C compatible data types and functions to load DLLs so that calls can be made to C shared libraries without having to modify them. The fact that the C side needn’t be touched adds to the simplicity of this method."
   ]
  },
  {
   "cell_type": "code",
   "execution_count": null,
   "metadata": {},
   "outputs": [],
   "source": [
    "## Simple C code to add two numbers, save it as add.c\n",
    "#include <stdio.h>\n",
    "\n",
    "int add_int(int, int);\n",
    "float add_float(float, float);\n",
    "\n",
    "int add_int(int num1, int num2){\n",
    "    return num1 + num2;\n",
    "}\n",
    "\n",
    "float add_float(float num1, float num2){\n",
    "    return num1 + num2;\n",
    "}"
   ]
  },
  {
   "cell_type": "markdown",
   "metadata": {},
   "source": [
    "###### Next compile the C file to a .so file (DLL in windows) This will generate an adder.so file."
   ]
  },
  {
   "cell_type": "code",
   "execution_count": null,
   "metadata": {},
   "outputs": [],
   "source": [
    "#For Linux\n",
    "$  gcc -shared -Wl,-soname,adder -o adder.so -fPIC add.c\n",
    "\n",
    "#For Mac\n",
    "$ gcc -shared -Wl,-install_name,adder.so -o adder.so -fPIC add.c"
   ]
  },
  {
   "cell_type": "code",
   "execution_count": null,
   "metadata": {},
   "outputs": [],
   "source": [
    "## Now in your python code -\n",
    "\n",
    "from ctypes import *\n",
    "\n",
    "#load the shared object file\n",
    "adder = CDLL('./adder.so')\n",
    "\n",
    "#Find sum of integers\n",
    "res_int = adder.add_int(4,5)\n",
    "print \"Sum of 4 and 5 = \" + str(res_int)\n",
    "\n",
    "#Find sum of floats\n",
    "a = c_float(5.5)\n",
    "b = c_float(4.1)\n",
    "\n",
    "add_float = adder.add_float\n",
    "add_float.restype = c_float\n",
    "print \"Sum of 5.5 and 4.1 = \", str(add_float(a, b))"
   ]
  },
  {
   "cell_type": "markdown",
   "metadata": {},
   "source": [
    "### 2. How can you debug .py file"
   ]
  },
  {
   "cell_type": "code",
   "execution_count": null,
   "metadata": {},
   "outputs": [],
   "source": [
    "## Running from commandline\n",
    "$ python -m pdb my_script.py\n",
    "\n",
    "\"\"\"\n",
    "It would cause the debugger to stop the execution on the first statement it finds. \n",
    "This is helpful if your script is short. \n",
    "You can then inspect the variables and continue execution line-by-line.\n",
    "\"\"\""
   ]
  },
  {
   "cell_type": "code",
   "execution_count": null,
   "metadata": {},
   "outputs": [],
   "source": [
    "##Running from inside a script\n",
    "\"\"\"\n",
    "You can set break points in the script itself so that you can inspect \n",
    "the variables and stuff at particular points. \n",
    "This is possible using the pdb.set_trace() method. Here is an example:\n",
    "\"\"\"\n",
    "import pdb\n",
    "\n",
    "def make_bread():\n",
    "    pdb.set_trace()\n",
    "    return \"I don't have time\"\n",
    "\n",
    "print(make_bread())"
   ]
  },
  {
   "cell_type": "markdown",
   "metadata": {},
   "source": [
    "##### Debug Commands:\n",
    "\n",
    "    c: continue execution\n",
    "    w: shows the context of the current line it is executing.\n",
    "    a: print the argument list of the current function\n",
    "    s: Execute the current line and stop at the first possible occasion.\n",
    "    n: Continue execution until the next line in the current function is reached or it returns.\n"
   ]
  },
  {
   "cell_type": "markdown",
   "metadata": {},
   "source": [
    "### 3. Generators\n",
    "There are three parts namely:\n",
    "\n",
    "1. Iterable\n",
    "2. Iterator\n",
    "3. Iteration\n",
    "\n",
    "#### 3.1. Iterable\n",
    "An iterable is any object in Python which has an $__iter__ $ or a $__getitem__ $ method defined which returns an iterator or can take indexes (You can read more about them [here](https://stackoverflow.com/questions/20551042/whats-the-difference-between-iter-and-getitem/20551346#20551346)). In short an iterable is any object which can provide us with an iterator. So what is an iterator?\n",
    "\n",
    "#### 3.2. Iterator\n",
    "An iterator is any object in Python which has a next (Python2) or $__next__ $ method defined. That’s it. That’s an iterator. Now let’s understand iteration.\n",
    "\n",
    "#### 3.3. Iteration\n",
    "In simple words it is the process of taking an item from something e.g a list. When we use a loop to loop over something it is called iteration. It is the name given to the process itself. Now as we have a basic understanding of these terms let’s understand generators.\n",
    "\n",
    "#### 3.4. Generators\n",
    "**Generators are iterators, but you can only iterate over them once.** It’s because they do not store all the values in memory, they generate the values on the fly. You use them by iterating over them, either with a ‘for’ loop or by passing them to any function or construct that iterates. Most of the time generators are implemented as functions. However, they do not return a value, they yield it. Here is a simple example of a generator function:"
   ]
  },
  {
   "cell_type": "code",
   "execution_count": 3,
   "metadata": {},
   "outputs": [
    {
     "name": "stdout",
     "output_type": "stream",
     "text": [
      "0\n",
      "1\n",
      "2\n",
      "3\n",
      "4\n",
      "5\n",
      "6\n",
      "7\n",
      "8\n",
      "9\n"
     ]
    }
   ],
   "source": [
    "def generator_function():\n",
    "    for i in range(10):\n",
    "        yield i\n",
    "\n",
    "for item in generator_function():\n",
    "    print(item)"
   ]
  },
  {
   "cell_type": "markdown",
   "metadata": {},
   "source": [
    "It is not really useful in this case. Generators are best for calculating large sets of results (particularly calculations involving loops themselves) where you don’t want to allocate the memory for all results at the same time. **Many Standard Library functions that return lists in Python 2 have been modified to return generators in Python 3 because generators require fewer resources.**\n",
    "\n",
    "Here is an example generator which calculates fibonacci numbers:"
   ]
  },
  {
   "cell_type": "code",
   "execution_count": null,
   "metadata": {},
   "outputs": [],
   "source": [
    "# generator version\n",
    "def fibon(n):\n",
    "    a = b = 1\n",
    "    for i in range(n):\n",
    "        yield a\n",
    "        a, b = b, a + b\n",
    "\n",
    "# Please dont run this cell, as it will stop the execution of notebook\n",
    "for x in fibon(100000):\n",
    "    print(x)"
   ]
  },
  {
   "cell_type": "markdown",
   "metadata": {},
   "source": [
    "This way we would not have to worry about it using a lot of resources. However, if we would have implemented it like below:\n",
    "\n",
    "\n",
    "It would have used up all our resources while calculating a large input(100000)."
   ]
  },
  {
   "cell_type": "code",
   "execution_count": null,
   "metadata": {},
   "outputs": [],
   "source": [
    "def fibon(n):\n",
    "    a = b = 1\n",
    "    result = []\n",
    "    for i in range(n):\n",
    "        result.append(a)\n",
    "        a, b = b, a + b\n",
    "    return result"
   ]
  },
  {
   "cell_type": "markdown",
   "metadata": {},
   "source": [
    "**You can iterate over generator only once**"
   ]
  },
  {
   "cell_type": "code",
   "execution_count": null,
   "metadata": {},
   "outputs": [],
   "source": [
    "def generator_function():\n",
    "    for i in range(3):\n",
    "        yield i\n",
    "\n",
    "gen = generator_function()\n",
    "print(next(gen))\n",
    "# Output: 0\n",
    "print(next(gen))\n",
    "# Output: 1\n",
    "print(next(gen))\n",
    "# Output: 2\n",
    "print(next(gen))\n",
    "# Output: Traceback (most recent call last):\n",
    "#            File \"<stdin>\", line 1, in <module>\n",
    "#         StopIteration"
   ]
  },
  {
   "cell_type": "markdown",
   "metadata": {},
   "source": [
    "As we can see that after yielding all the values next() caused a StopIteration error. Basically this error informs us that all the values have been **yielded.**"
   ]
  },
  {
   "cell_type": "markdown",
   "metadata": {},
   "source": [
    "**Few built-in data types in Python also support iteration**"
   ]
  },
  {
   "cell_type": "code",
   "execution_count": null,
   "metadata": {},
   "outputs": [],
   "source": [
    "my_string = \"Jyotirmoy\"\n",
    "next(my_string)\n",
    "# Output: Traceback (most recent call last):\n",
    "#      File \"<stdin>\", line 1, in <module>\n",
    "#    TypeError: str object is not an iterator"
   ]
  },
  {
   "cell_type": "markdown",
   "metadata": {},
   "source": [
    "The error says that str is not an iterator. Well it’s right! **It’s an iterable but not an iterator.** This means that it supports iteration but we can’t iterate over it directly. Below is the example of how you can iterate over."
   ]
  },
  {
   "cell_type": "code",
   "execution_count": 7,
   "metadata": {},
   "outputs": [
    {
     "name": "stdout",
     "output_type": "stream",
     "text": [
      "J\n"
     ]
    }
   ],
   "source": [
    "my_string = \"Jyotirmoy\"\n",
    "my_iter = iter(my_string)\n",
    "print(next(my_iter))"
   ]
  },
  {
   "cell_type": "markdown",
   "metadata": {},
   "source": [
    "### 4. $__slots__$ Magic\n",
    "In Python every class can have instance attributes. By default Python uses a **dict** to store an object’s instance attributes. This is really helpful as it allows setting arbitrary new attributes at runtime.\n",
    "\n",
    "However, for small classes with known attributes it might be a bottleneck. The dict wastes a lot of RAM. Python can’t just allocate a static amount of memory at object creation to store all the attributes. Therefore it sucks a lot of RAM if you create a lot of objects (I am talking in thousands and millions). Still there is a way to circumvent this issue. It involves the usage of __slots__ to tell Python not to use a dict, and only allocate space for a fixed set of attributes. Here is an example with and without __slots__:"
   ]
  },
  {
   "cell_type": "code",
   "execution_count": null,
   "metadata": {},
   "outputs": [],
   "source": [
    "## Without __slots__:\n",
    "\n",
    "class MyClass(object):\n",
    "    def __init__(self, name, identifier):\n",
    "        self.name = name\n",
    "        self.identifier = identifier\n",
    "        self.set_up()\n",
    "    # ..."
   ]
  },
  {
   "cell_type": "code",
   "execution_count": null,
   "metadata": {},
   "outputs": [],
   "source": [
    "## With __slots__:\n",
    "\n",
    "class MyClass(object):\n",
    "    __slots__ = ['name', 'identifier']\n",
    "    def __init__(self, name, identifier):\n",
    "        self.name = name\n",
    "        self.identifier = identifier\n",
    "        self.set_up()\n",
    "    # ..."
   ]
  },
  {
   "cell_type": "markdown",
   "metadata": {},
   "source": [
    "The second piece of code will reduce the burden on your RAM. Some people have seen almost 40 to 50% reduction in RAM usage by using this technique."
   ]
  },
  {
   "cell_type": "markdown",
   "metadata": {},
   "source": [
    "### 5. Decorators\n",
    "Decorators are a significant part of Python. In simple words: they are functions which modify the functionality of other functions. They help to make our code shorter and more Pythonic.\n",
    "\n",
    "#### 5.1 First Decorator:\n"
   ]
  },
  {
   "cell_type": "code",
   "execution_count": 1,
   "metadata": {},
   "outputs": [
    {
     "name": "stdout",
     "output_type": "stream",
     "text": [
      "I am the function which needs some decoration to remove my foul smell\n",
      "I am doing some boring work before executing a_func()\n",
      "I am the function which needs some decoration to remove my foul smell\n",
      "I am doing some boring work after executing a_func()\n"
     ]
    }
   ],
   "source": [
    "def a_new_decorator(a_func):\n",
    "\n",
    "    def wrapTheFunction():\n",
    "        print(\"I am doing some boring work before executing a_func()\")\n",
    "\n",
    "        a_func()\n",
    "\n",
    "        print(\"I am doing some boring work after executing a_func()\")\n",
    "\n",
    "    return wrapTheFunction\n",
    "\n",
    "def a_function_requiring_decoration():\n",
    "    print(\"I am the function which needs some decoration to remove my foul smell\")\n",
    "\n",
    "a_function_requiring_decoration()\n",
    "\n",
    "a_function_requiring_decoration = a_new_decorator(a_function_requiring_decoration)\n",
    "\n",
    "a_function_requiring_decoration()\n"
   ]
  },
  {
   "cell_type": "markdown",
   "metadata": {},
   "source": [
    "#### 5.2 Little modified version with @anywhere\n"
   ]
  },
  {
   "cell_type": "code",
   "execution_count": 2,
   "metadata": {},
   "outputs": [
    {
     "name": "stdout",
     "output_type": "stream",
     "text": [
      "I am doing some boring work before executing a_func()\n",
      "I am the function which needs some decoration to remove my foul smell\n",
      "I am doing some boring work after executing a_func()\n"
     ]
    }
   ],
   "source": [
    "@a_new_decorator\n",
    "def a_function_requiring_decoration():\n",
    "    print(\"I am the function which needs some decoration to remove my foul smell\")\n",
    "    \n",
    "a_function_requiring_decoration()"
   ]
  },
  {
   "cell_type": "markdown",
   "metadata": {},
   "source": [
    "#### 5.3 Blueprint\n",
    "@wraps takes a function to be decorated and adds the functionality of copying over the function name, docstring, arguments list, etc. This allows to access the pre-decorated function’s properties in the decorator."
   ]
  },
  {
   "cell_type": "code",
   "execution_count": 3,
   "metadata": {},
   "outputs": [
    {
     "name": "stdout",
     "output_type": "stream",
     "text": [
      "Function is running\n",
      "Function will not run\n"
     ]
    }
   ],
   "source": [
    "from functools import wraps\n",
    "def decorator_name(f):\n",
    "    @wraps(f)\n",
    "    def decorated(*args, **kwargs):\n",
    "        if not can_run:\n",
    "            return \"Function will not run\"\n",
    "        return f(*args, **kwargs)\n",
    "    return decorated\n",
    "\n",
    "@decorator_name\n",
    "def func():\n",
    "    return(\"Function is running\")\n",
    "\n",
    "can_run = True\n",
    "print(func())\n",
    "# Output: Function is running\n",
    "\n",
    "can_run = False\n",
    "print(func())\n",
    "# Output: Function will not run"
   ]
  },
  {
   "cell_type": "markdown",
   "metadata": {},
   "source": [
    "#### 5.4 Use-cases:\n",
    "Now let’s take a look at the areas where decorators really shine and their usage makes something really easy to manage.\n",
    "\n",
    "##### 5.4.1 Authorization\n",
    "Decorators can help to check whether someone is authorized to use an endpoint in a web application. They are extensively used in Flask web framework and Django. Here is an example to employ decorator based authentication:"
   ]
  },
  {
   "cell_type": "code",
   "execution_count": 4,
   "metadata": {},
   "outputs": [],
   "source": [
    "from functools import wraps\n",
    "\n",
    "def requires_auth(f):\n",
    "    @wraps(f)\n",
    "    def decorated(*args, **kwargs):\n",
    "        auth = request.authorization\n",
    "        if not auth or not check_auth(auth.username, auth.password):\n",
    "            authenticate()\n",
    "        return f(*args, **kwargs)\n",
    "    return decorated"
   ]
  },
  {
   "cell_type": "code",
   "execution_count": null,
   "metadata": {},
   "outputs": [],
   "source": []
  }
 ],
 "metadata": {
  "kernelspec": {
   "display_name": "Python 3",
   "language": "python",
   "name": "python3"
  },
  "language_info": {
   "codemirror_mode": {
    "name": "ipython",
    "version": 3
   },
   "file_extension": ".py",
   "mimetype": "text/x-python",
   "name": "python",
   "nbconvert_exporter": "python",
   "pygments_lexer": "ipython3",
   "version": "3.7.3"
  }
 },
 "nbformat": 4,
 "nbformat_minor": 2
}
