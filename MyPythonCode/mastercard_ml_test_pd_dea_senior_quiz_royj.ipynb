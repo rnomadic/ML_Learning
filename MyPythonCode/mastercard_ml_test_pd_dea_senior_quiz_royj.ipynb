{
  "nbformat": 4,
  "nbformat_minor": 0,
  "metadata": {
    "colab": {
      "name": "mastercard_ml_test_pd_dea_senior_quiz_royj.ipynb",
      "provenance": [],
      "collapsed_sections": [],
      "include_colab_link": true
    },
    "kernelspec": {
      "name": "python3",
      "display_name": "Python 3"
    },
    "language_info": {
      "name": "python"
    }
  },
  "cells": [
    {
      "cell_type": "markdown",
      "metadata": {
        "id": "view-in-github",
        "colab_type": "text"
      },
      "source": [
        "<a href=\"https://colab.research.google.com/github/rnomadic/ML_Learning/blob/main/MyPythonCode/mastercard_ml_test_pd_dea_senior_quiz_royj.ipynb\" target=\"_parent\"><img src=\"https://colab.research.google.com/assets/colab-badge.svg\" alt=\"Open In Colab\"/></a>"
      ]
    },
    {
      "cell_type": "markdown",
      "metadata": {
        "id": "zawq8i-oDd5R"
      },
      "source": [
        "# **Mastercard Machine Learning Fundamentals Test** <br>\n",
        "Author: Idaly Ali <br>\n",
        "Designation: Manager, Product Development <br>\n",
        "email: idaly.ali@m... <br>\n",
        "Allocated time: 15 minutes\n",
        "Difficulty level: Quants with 1-2 years of experience\n"
      ]
    },
    {
      "cell_type": "code",
      "metadata": {
        "id": "9VS5uyoFDteK"
      },
      "source": [
        "import numpy as np\n",
        "import matplotlib.pyplot as plt"
      ],
      "execution_count": 1,
      "outputs": []
    },
    {
      "cell_type": "markdown",
      "metadata": {
        "id": "5Tz4sqy_D9Wr"
      },
      "source": [
        "## Part One: Analytical Solution (Closed-form)\n",
        "\n"
      ]
    },
    {
      "cell_type": "markdown",
      "metadata": {
        "id": "bql6mihkFPiw"
      },
      "source": [
        "Let the following vectors (x_train, y_train) and (x_test, y_test) be the training and test data for regression modeling."
      ]
    },
    {
      "cell_type": "code",
      "metadata": {
        "id": "pLwY1xA0ENe_"
      },
      "source": [
        "X_train = np.array([2.1, 4.3, 6.1, 8.2, 10.4, 12.1, 14.2, 16.3, 18.4]).reshape(9, 1)\n",
        "y_train = np.array([8.4, 16.2, 24.3, 32.1, 40.8, 48.2, 56.7, 64.8, 72.1]).reshape(9, 1)\n",
        "\n",
        "X_test = np.array([3.3, 5.4, 7.2, 9.1, 11.2, 13.7, 15.8]).reshape(7, 1)\n",
        "y_test = np.array([12.1, 20.2, 28.4, 36.2, 44.5, 52.2, 60.2]).reshape(7, 1)"
      ],
      "execution_count": 2,
      "outputs": []
    },
    {
      "cell_type": "code",
      "source": [
        "X_train.shape"
      ],
      "metadata": {
        "id": "X3nS0clb2mVT",
        "outputId": "3051e3b8-91e8-44ca-ab50-cf213026fcd6",
        "colab": {
          "base_uri": "https://localhost:8080/"
        }
      },
      "execution_count": 3,
      "outputs": [
        {
          "output_type": "execute_result",
          "data": {
            "text/plain": [
              "(9, 1)"
            ]
          },
          "metadata": {},
          "execution_count": 3
        }
      ]
    },
    {
      "cell_type": "code",
      "source": [
        "X_train"
      ],
      "metadata": {
        "id": "M9Kv6lDv20pe",
        "outputId": "065b0ce3-271e-4d03-eb2a-bd253d13f43a",
        "colab": {
          "base_uri": "https://localhost:8080/"
        }
      },
      "execution_count": 4,
      "outputs": [
        {
          "output_type": "execute_result",
          "data": {
            "text/plain": [
              "array([[ 2.1],\n",
              "       [ 4.3],\n",
              "       [ 6.1],\n",
              "       [ 8.2],\n",
              "       [10.4],\n",
              "       [12.1],\n",
              "       [14.2],\n",
              "       [16.3],\n",
              "       [18.4]])"
            ]
          },
          "metadata": {},
          "execution_count": 4
        }
      ]
    },
    {
      "cell_type": "markdown",
      "metadata": {
        "id": "BqqUdme4F0CL"
      },
      "source": [
        "### Question 1a (Verbal)\n",
        "Modeling is defined by minimizing prediction error using a cost function.\n",
        "\n",
        "1.   What is a cost function?\n",
        "2.   What is an appropriate cost function in this case?\n",
        "\n"
      ]
    },
    {
      "cell_type": "markdown",
      "metadata": {
        "id": "UA7xKQ3THg5p"
      },
      "source": [
        "### Question 1b (Verbal and Coding)\n",
        "The analytical solution to a simple regression is found to be:\n",
        "![closed_form.png](data:image/png;base64,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)\n",
        "\n",
        "where:\n",
        "* theta -> weights (vector of coefficients)\n",
        "* X -> Input data (the Vandermonde matrix)\n",
        "* y -> target variable (a vector of y-values)\n",
        "\n",
        "1) Verbal: Explain how the analytical solution of theta is derived.\n",
        "\n",
        "2) Find theta"
      ]
    },
    {
      "cell_type": "code",
      "metadata": {
        "id": "f_o3yeotIFe6"
      },
      "source": [
        "def compute_theta(X, y):\n",
        "    \n",
        "    m = X.shape[0] # Number of training examples. \n",
        "    \n",
        "    # reshaping y to (m,1)\n",
        "    y = y.reshape(m,1)\n",
        "\n",
        "\n",
        "    theta = (1/np.dot(X, X.T))*(np.dot(X.T, y))\n",
        "    \n",
        "    return theta"
      ],
      "execution_count": 5,
      "outputs": []
    },
    {
      "cell_type": "code",
      "metadata": {
        "id": "rx9Ud2u7ItQN",
        "outputId": "40c0da62-6efd-4192-c47b-a4a6de0fe496",
        "colab": {
          "base_uri": "https://localhost:8080/"
        }
      },
      "source": [
        "theta = compute_theta(X_train, y_train)\n",
        "print(theta)"
      ],
      "execution_count": 6,
      "outputs": [
        {
          "output_type": "stream",
          "name": "stdout",
          "text": [
            "[[1064.46938776  519.85714286  366.45667447  272.60801394  214.94093407\n",
            "   184.74262102  157.42152918  137.14022787  121.48835404]\n",
            " [ 519.85714286  253.88372093  178.96721311  133.13414634  104.97115385\n",
            "    90.2231405    76.88028169   66.97546012   59.33152174]\n",
            " [ 366.45667447  178.96721311  126.1572158    93.84866054   73.99605927\n",
            "    63.59991871   54.19429693   47.21220959   41.82385959]\n",
            " [ 272.60801394  133.13414634   93.84866054   69.81424747   55.04584897\n",
            "    47.31213465   40.31526967   35.12127787   31.11287116]\n",
            " [ 214.94093407  104.97115385   73.99605927   55.04584897   43.40153476\n",
            "    37.30379847   31.78703954   27.69177678   24.53130226]\n",
            " [ 184.74262102   90.2231405    63.59991871   47.31213465   37.30379847\n",
            "    32.06276894   27.32109184   23.80119657   21.08475566]\n",
            " [ 157.42152918   76.88028169   54.19429693   40.31526967   31.78703954\n",
            "    27.32109184   23.28064868   20.2813013    17.96658757]\n",
            " [ 137.14022787   66.97546012   47.21220959   35.12127787   27.69177678\n",
            "    23.80119657   20.2813013    17.66837292   15.65187383]\n",
            " [ 121.48835404   59.33152174   41.82385959   31.11287116   24.53130226\n",
            "    21.08475566   17.96658757   15.65187383   13.86551867]]\n"
          ]
        }
      ]
    },
    {
      "cell_type": "code",
      "metadata": {
        "id": "norW_qeZVZIw",
        "outputId": "ae57aae3-d9af-4d9f-806a-1c1d4f9f23ce",
        "colab": {
          "base_uri": "https://localhost:8080/"
        }
      },
      "source": [
        "theta.shape"
      ],
      "execution_count": 7,
      "outputs": [
        {
          "output_type": "execute_result",
          "data": {
            "text/plain": [
              "(9, 9)"
            ]
          },
          "metadata": {},
          "execution_count": 7
        }
      ]
    },
    {
      "cell_type": "markdown",
      "metadata": {
        "id": "jPs22ubuODFh"
      },
      "source": [
        "### Question 1c (Coding)\n",
        "Compute predictions given\n",
        "\n",
        "* theta -> weights (vector of coefficients)\n",
        "* X -> Input data (the Vandermonde matrix)\n",
        "* y -> target variable (a vector of y-values)\n"
      ]
    },
    {
      "cell_type": "code",
      "metadata": {
        "id": "c-wui2PpOAlb"
      },
      "source": [
        "def predict(X, theta):\n",
        "    \n",
        "    # preds is y_hat which is the dot product of X and theta.\n",
        "    preds = np.dot(X, theta)\n",
        "    \n",
        "    return preds"
      ],
      "execution_count": 8,
      "outputs": []
    },
    {
      "cell_type": "code",
      "metadata": {
        "id": "bBRVH2_OOVpb",
        "outputId": "1f846d39-6fca-49f9-f1d8-56aa685860bc",
        "colab": {
          "base_uri": "https://localhost:8080/",
          "height": 322
        }
      },
      "source": [
        "y_pred = predict(X_test, theta)"
      ],
      "execution_count": 9,
      "outputs": [
        {
          "output_type": "error",
          "ename": "ValueError",
          "evalue": "ignored",
          "traceback": [
            "\u001b[0;31m---------------------------------------------------------------------------\u001b[0m",
            "\u001b[0;31mValueError\u001b[0m                                Traceback (most recent call last)",
            "\u001b[0;32m<ipython-input-9-44072a2a0af0>\u001b[0m in \u001b[0;36m<module>\u001b[0;34m()\u001b[0m\n\u001b[0;32m----> 1\u001b[0;31m \u001b[0my_pred\u001b[0m \u001b[0;34m=\u001b[0m \u001b[0mpredict\u001b[0m\u001b[0;34m(\u001b[0m\u001b[0mX_test\u001b[0m\u001b[0;34m,\u001b[0m \u001b[0mtheta\u001b[0m\u001b[0;34m)\u001b[0m\u001b[0;34m\u001b[0m\u001b[0;34m\u001b[0m\u001b[0m\n\u001b[0m",
            "\u001b[0;32m<ipython-input-8-5db9fbd3cf2c>\u001b[0m in \u001b[0;36mpredict\u001b[0;34m(X, theta)\u001b[0m\n\u001b[1;32m      2\u001b[0m \u001b[0;34m\u001b[0m\u001b[0m\n\u001b[1;32m      3\u001b[0m     \u001b[0;31m# preds is y_hat which is the dot product of X and theta.\u001b[0m\u001b[0;34m\u001b[0m\u001b[0;34m\u001b[0m\u001b[0;34m\u001b[0m\u001b[0m\n\u001b[0;32m----> 4\u001b[0;31m     \u001b[0mpreds\u001b[0m \u001b[0;34m=\u001b[0m \u001b[0mnp\u001b[0m\u001b[0;34m.\u001b[0m\u001b[0mdot\u001b[0m\u001b[0;34m(\u001b[0m\u001b[0mX\u001b[0m\u001b[0;34m,\u001b[0m \u001b[0mtheta\u001b[0m\u001b[0;34m)\u001b[0m\u001b[0;34m\u001b[0m\u001b[0;34m\u001b[0m\u001b[0m\n\u001b[0m\u001b[1;32m      5\u001b[0m \u001b[0;34m\u001b[0m\u001b[0m\n\u001b[1;32m      6\u001b[0m     \u001b[0;32mreturn\u001b[0m \u001b[0mpreds\u001b[0m\u001b[0;34m\u001b[0m\u001b[0;34m\u001b[0m\u001b[0m\n",
            "\u001b[0;32m<__array_function__ internals>\u001b[0m in \u001b[0;36mdot\u001b[0;34m(*args, **kwargs)\u001b[0m\n",
            "\u001b[0;31mValueError\u001b[0m: shapes (7,1) and (9,9) not aligned: 1 (dim 1) != 9 (dim 0)"
          ]
        }
      ]
    },
    {
      "cell_type": "code",
      "metadata": {
        "id": "kFc94xhvOdZd"
      },
      "source": [
        "y_pred"
      ],
      "execution_count": null,
      "outputs": []
    },
    {
      "cell_type": "markdown",
      "metadata": {
        "id": "8SxcJuwtJzZo"
      },
      "source": [
        "### Question 1d (Coding)\n",
        "Metrics are used to determine the fit of your model.\n",
        "\n",
        "1. What is an appropriate metric for this application? Why?\n",
        "2. Implement the metric\n"
      ]
    },
    {
      "cell_type": "code",
      "metadata": {
        "id": "5TLOfqA9PZ9C"
      },
      "source": [
        "def compute_loss(y_true, y_pred):\n",
        "    loss = ### FILL IN HERE\n",
        "    \n",
        "    return loss"
      ],
      "execution_count": null,
      "outputs": []
    },
    {
      "cell_type": "code",
      "metadata": {
        "id": "76uGtNskP27t"
      },
      "source": [
        "compute_loss(y_test, y_pred)"
      ],
      "execution_count": null,
      "outputs": []
    },
    {
      "cell_type": "markdown",
      "metadata": {
        "id": "yxbf_p7pQDFi"
      },
      "source": [
        "## Part Two: Numerical Solution"
      ]
    },
    {
      "cell_type": "markdown",
      "metadata": {
        "id": "la1vMBqwQenB"
      },
      "source": [
        "### Question 2a (Verbal)\n",
        "Linear regression is often described as an optimization problem.\n",
        "\n",
        "1.   What is an optimizer?\n",
        "2.   What is an appropriate optimizer in this case?\n",
        "3.   Is the optimizer minimizing or maximizing the objective function used in Part One? "
      ]
    },
    {
      "cell_type": "markdown",
      "metadata": {
        "id": "eE5k_K5lRWP9"
      },
      "source": [
        "### Question 2b (Coding)\n",
        "We will implement a simple stochastic gradient descent optimizer.\n",
        "\n",
        "![sgd_function.png](data:image/png;base64,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)\n",
        "\n",
        "and that\n",
        "\n",
        "![cost_function.png](data:image/png;base64,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)\n",
        "\n",
        "Where\n",
        "* theta -> weights (vector of coefficients)\n",
        "* X -> Input data (the Vandermonde matrix)\n",
        "* y -> target variable (a vector of y-values)\n",
        "* y_hat -> prediction variables (a vector of y-values)\n",
        "* alpha -> learning_rate\n",
        "* J -> Objective Function\n",
        "\n",
        "Implement this optimizer using NumPy. The derivative of the objective function has been implemented as derivative_object_function.\n"
      ]
    },
    {
      "cell_type": "code",
      "metadata": {
        "id": "RwAPdk2-QX_F"
      },
      "source": [
        "def gradient_descent(X, y, theta, iterations, alpha):\n",
        "    \"\"\"\n",
        "    :param X: Input data\n",
        "    :param y: Target variable\n",
        "    :param theta: Weights\n",
        "    :param iterations: Iterations\n",
        "    :param alpha: Learning Rate\n",
        "    :return past_theta: optimized weights \n",
        "    \"\"\"\n",
        "    m = y.shape[0]\n",
        "\n",
        "    def derivative_object_function(X, error, m):\n",
        "      return (1/m) * np.dot(X.T, error)\n",
        "\n",
        "    for i in range(iterations):\n",
        "        prediction = ### FILL IN HERE\n",
        "        error = ### FILL IN HERE\n",
        "        theta = theta - (alpha * ### FILL IN HERE)\n",
        "        \n",
        "    return theta"
      ],
      "execution_count": null,
      "outputs": []
    },
    {
      "cell_type": "code",
      "metadata": {
        "id": "OuGL6-YQVTou"
      },
      "source": [
        "theta_sgd = np.array([[0]]).reshape(1,1)\n",
        "iterations = 5\n",
        "alpha = 1e-2\n",
        "theta_sgd = gradient_descent(X_train, y_train, theta_sgd, iterations, alpha)"
      ],
      "execution_count": null,
      "outputs": []
    },
    {
      "cell_type": "code",
      "metadata": {
        "id": "FxHROWsCWRTD"
      },
      "source": [
        "print(theta_sgd)"
      ],
      "execution_count": null,
      "outputs": []
    },
    {
      "cell_type": "code",
      "metadata": {
        "id": "wtp0fLr6Vfzn"
      },
      "source": [
        "y_pred_sgd = predict(X_test, theta_sgd)"
      ],
      "execution_count": null,
      "outputs": []
    },
    {
      "cell_type": "code",
      "metadata": {
        "id": "6DckFID8WQXQ"
      },
      "source": [
        "compute_loss(y_test, y_pred_sgd)"
      ],
      "execution_count": null,
      "outputs": []
    },
    {
      "cell_type": "markdown",
      "metadata": {
        "id": "7_IZ-XmLZUuS"
      },
      "source": [
        "## Part Three: Model Performance and Scalability (Verbal)\n"
      ]
    },
    {
      "cell_type": "markdown",
      "metadata": {
        "id": "bHGBdz2ZZdF1"
      },
      "source": [
        "### Question 3a (Verbal) <br>\n",
        "Assuming you have training data that has a size of 900 TB -- which of the above solution should you use, and why?"
      ]
    },
    {
      "cell_type": "markdown",
      "metadata": {
        "id": "zCm9gXsFqNQf"
      },
      "source": [
        "### Question 3b (Verbal) <br>\n",
        "Explain the differences between concept drift and data drift with examples."
      ]
    },
    {
      "cell_type": "markdown",
      "source": [
        "# Mastercard Case Study (30 minutes)"
      ],
      "metadata": {
        "id": "fiTp6BG_1gjZ"
      }
    },
    {
      "cell_type": "markdown",
      "source": [
        "Assuming you are working for Mastercard, and that its Security team wants you to design and build a system to detect fraud on the platform.\n",
        "\n",
        "Mastercard wants to implement a service that will notify the issuers' customers with a text whenever model detects a fraudulent transaction in order for the customer to approve or deny the transaction with a text response.\n",
        "\n",
        "How would we build this model?\n",
        "\n",
        "Hints from a Solution Architect: </br>\n",
        "###System Design </br>\n",
        "\n",
        "System | Tools\n",
        "--- | ---\n",
        "Data Validation| ?\n",
        "Data Pre-Processing| ?\n",
        "Model Training | ?\n",
        "Model Validation | ?\n",
        "Monitoring | ?\n",
        "\n",
        "##Some information: </br>\n",
        "###Transaction Data Schema </br>\n",
        "\n",
        "Data field | Information\n",
        "--- | ---\n",
        "DateTime| DateTime in UNIX\n",
        "PAN| Credit Card Number\n",
        "Amount | Amount in USD\n",
        "IndustryID | Industry of Merchant\n",
        "MerchantID | ID of Merchant\n",
        "MerchantAddress | Address of Merchant\n",
        "CrossBorder | Crossborder Transaction Flag\n",
        "Fraud | Fraud Flag -> Flag is raised when an issuer notify Mastercard that this transaction is fraud\n",
        "\n",
        "###PAN Data Schema </br>\n",
        "\n",
        "Data field | Information\n",
        "--- | ---\n",
        "PAN| Credit Card Number\n",
        "ProductCode| Product Code of Credit Card\n",
        "PANAddress | Address of Cardholder\n",
        "\n",
        "\n"
      ],
      "metadata": {
        "id": "JrmlZtOy1s8x"
      }
    },
    {
      "cell_type": "code",
      "source": [
        ""
      ],
      "metadata": {
        "id": "FNVYx3aY1t7S"
      },
      "execution_count": null,
      "outputs": []
    }
  ]
}